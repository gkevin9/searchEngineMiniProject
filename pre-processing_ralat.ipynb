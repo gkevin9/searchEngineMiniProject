{
 "cells": [
  {
   "cell_type": "code",
   "execution_count": 1,
   "metadata": {},
   "outputs": [],
   "source": [
    "from nltk.corpus import stopwords\n",
    "from nltk.stem import WordNetLemmatizer\n",
    "import re\n",
    "import glob\n",
    "# from nltk.stem.porter import PorterStemmer\n",
    "from nltk.stem.snowball import SnowballStemmer\n",
    "from itertools import chain #untuk flaten array 2d\n",
    "from collections import defaultdict\n",
    "from collections import OrderedDict\n",
    "import pandas as pd"
   ]
  },
  {
   "cell_type": "markdown",
   "metadata": {},
   "source": [
    "# Preprocessing "
   ]
  },
  {
   "cell_type": "code",
   "execution_count": 2,
   "metadata": {},
   "outputs": [],
   "source": [
    "def readFile(directory):\n",
    "    listFile = glob.glob(directory+\"/*.txt\")\n",
    "    return listFile"
   ]
  },
  {
   "cell_type": "markdown",
   "metadata": {},
   "source": [
    "### normalisasi"
   ]
  },
  {
   "cell_type": "code",
   "execution_count": 3,
   "metadata": {},
   "outputs": [],
   "source": [
    "def normalisasi(body):\n",
    "    \n",
    "    hasil = []\n",
    "    temp_str = ''\n",
    "\n",
    "    #hapus tag\n",
    "    hapusTag = r'<DATE>|</DATE>|<TITLE>|</TITLE>|<BODY>|</BODY>'\n",
    "    body = re.sub(hapusTag, ' ', body)\n",
    "    \n",
    "    #hapus \\n\n",
    "    hapusEnter = r'\\n'\n",
    "    body = re.sub(hapusEnter, ' ', body)\n",
    "    \n",
    "    #hapus spasi lebih dari satu\n",
    "    spasiLebihDariSatu = r'\\s+'\n",
    "    body = re.sub(spasiLebihDariSatu, ' ', body)\n",
    "    \n",
    "    # hapus htmlEntities \n",
    "    htmlEntities = r\"&lt;\"\n",
    "    body = re.sub(htmlEntities, '', body)\n",
    "    \n",
    "    #ambil tanggal\n",
    "    tanggal = r\"((\\d{4}|\\d{2}|\\d{1})[.-](J(anuary|an|AN|une|un|UN|uly|ul|UL)|F(ebruary|eb|EB)|M(arch|ar|AR|ay|AY)|A(pril|pr|PR|ugust|ug|UG)|S(eptember|ep|EP)|O(ctober|ct|CT)|N(ovember|ov|OV)|D(ecember|ec|EC))[-.](\\d{4}|\\d{2}))\"\n",
    "    list_tanggal = re.findall(tanggal,body)\n",
    "    hasil.append(list_tanggal)\n",
    "    body = re.sub(tanggal, \"\", body)\n",
    "    \n",
    "    #ambil waktu\n",
    "    waktu = r\"(\\d{2}:\\d{2}:\\d{2}(\\.)?\\d{2})\"\n",
    "    list_waktu = re.findall(waktu,body)\n",
    "    hasil.append(list_waktu)\n",
    "    body = re.sub(waktu, \"\", body)\n",
    "    \n",
    "    #ambil angka desimal, persen, mata uang \n",
    "    desimal = \"(([+-]?(\\$|£)?(\\d{1,3}[.,])*(\\d+)(%)?))\"\n",
    "    list_desimal = re.findall(desimal, body)\n",
    "    hasil.append(list_desimal)\n",
    "    body = re.sub(desimal, \"\", body)\n",
    "    \n",
    "    #email\n",
    "    email = \"([\\w-]+(\\.[\\w-]+|\\.)*@[\\w-]+(\\.[\\w-]+)+)\"\n",
    "    list_email = re.findall(email,body)\n",
    "    hasil.append(list_email)\n",
    "    body = re.sub(email, \"\", body)\n",
    "    \n",
    "    #url\n",
    "    url = \"((http:\\/\\/www\\.|https:\\/\\/www\\.|http:\\/\\/|https:\\/\\/)?[a-z0-9]+([\\-\\.]{1}[a-z0-9]+)*\\.[a-z]{2,5}(:[0-9]{1,5})?(\\/.*)?)\"\n",
    "    list_url = re.findall(url,body)\n",
    "    hasil.append(list_url)\n",
    "    body = re.sub(url, \"\", body)\n",
    "    \n",
    "    tanda_baca = r'[\"()<>+?.\\[\\]{}:,\\'\\'/-]'\n",
    "    body = re.sub(tanda_baca, ' ', body)\n",
    "\n",
    "    body = re.sub(spasiLebihDariSatu, ' ', body)\n",
    "    \n",
    "    kutips = r\"'s\"\n",
    "    body = re.sub(kutips, '', body)\n",
    "    \n",
    "    list_flat = list(chain.from_iterable(hasil))\n",
    "    \n",
    "    for i in list_flat:\n",
    "        temp_str = temp_str + i[0] + \" \"\n",
    "    \n",
    "    body = body + \" \" + temp_str\n",
    "    \n",
    "#     body = re.sub(spasiLebihDariSatu, ' ', body)\n",
    "    \n",
    "    return body"
   ]
  },
  {
   "cell_type": "code",
   "execution_count": 4,
   "metadata": {},
   "outputs": [],
   "source": [
    "def readText(file):\n",
    "    words = []\n",
    "    f = open(file, 'r') #open file\n",
    "    text = f.read()    \n",
    "    f.close()\n",
    "\n",
    "    return text"
   ]
  },
  {
   "cell_type": "code",
   "execution_count": 5,
   "metadata": {},
   "outputs": [],
   "source": [
    "def removeEnter(listOfWords): #['<BODY>\\n']\n",
    "    for i in range(len(listOfWords)):\n",
    "        listOfWords[i] = listOfWords[i].replace('\\n','')\n",
    "        \n",
    "    return listOfWords"
   ]
  },
  {
   "cell_type": "code",
   "execution_count": 6,
   "metadata": {},
   "outputs": [],
   "source": [
    "def removeNull(listOfWords): #['','','eat','food','','']\n",
    "    listOfWords = list(filter(None, listOfWords))\n",
    "    \n",
    "    return listOfWords"
   ]
  },
  {
   "cell_type": "code",
   "execution_count": 7,
   "metadata": {},
   "outputs": [],
   "source": [
    "def caseFolding(listOfWords):\n",
    "    for i in range(len(listOfWords)):\n",
    "        listOfWords[i] = listOfWords[i].casefold()\n",
    "        \n",
    "    return listOfWords"
   ]
  },
  {
   "cell_type": "markdown",
   "metadata": {},
   "source": [
    "## Load Stop Word from NLTK"
   ]
  },
  {
   "cell_type": "code",
   "execution_count": 8,
   "metadata": {
    "scrolled": true
   },
   "outputs": [],
   "source": [
    "stop_words = stopwords.words('english')"
   ]
  },
  {
   "cell_type": "code",
   "execution_count": 9,
   "metadata": {},
   "outputs": [],
   "source": [
    "def removeStopWord(listOfWords):\n",
    "    hasil = []\n",
    "    for i in listOfWords:\n",
    "        if i not in stop_words:\n",
    "            hasil.append(i)\n",
    "        \n",
    "    return hasil"
   ]
  },
  {
   "cell_type": "markdown",
   "metadata": {},
   "source": [
    "### Load Lemmatizer from NLTK"
   ]
  },
  {
   "cell_type": "code",
   "execution_count": 10,
   "metadata": {},
   "outputs": [],
   "source": [
    "lemmatizer = WordNetLemmatizer()"
   ]
  },
  {
   "cell_type": "code",
   "execution_count": 11,
   "metadata": {},
   "outputs": [],
   "source": [
    "def lemmatization(listOfWords):\n",
    "    for i in range(len(listOfWords)):\n",
    "        listOfWords[i] = lemmatizer.lemmatize(listOfWords[i])\n",
    "        \n",
    "    return listOfWords"
   ]
  },
  {
   "cell_type": "markdown",
   "metadata": {},
   "source": [
    "### Load Stemming from NLTK"
   ]
  },
  {
   "cell_type": "code",
   "execution_count": 12,
   "metadata": {},
   "outputs": [],
   "source": [
    "def stemming(listOfWords):\n",
    "    stemmer = SnowballStemmer(\"english\")\n",
    "    stemmed = [stemmer.stem(word) for word in listOfWords]\n",
    "    \n",
    "    return stemmed"
   ]
  },
  {
   "cell_type": "markdown",
   "metadata": {},
   "source": [
    "### Token"
   ]
  },
  {
   "cell_type": "code",
   "execution_count": 13,
   "metadata": {},
   "outputs": [],
   "source": [
    "def make_token(txt):\n",
    "    list_hasil = txt.split(\" \")            \n",
    "    return list_hasil"
   ]
  },
  {
   "cell_type": "markdown",
   "metadata": {},
   "source": [
    "### Term"
   ]
  },
  {
   "cell_type": "code",
   "execution_count": 14,
   "metadata": {},
   "outputs": [],
   "source": [
    "def make_term(file_name_token,file_name_term):\n",
    "    list_term = []\n",
    "    f = open(file_name_token, 'r')\n",
    "    text = f.read()\n",
    "    f.close()\n",
    "    \n",
    "    list_token = text.split(\"\\n\")\n",
    "    for i in list_token:\n",
    "        if i not in list_term:\n",
    "            list_term.append(i)\n",
    "            \n",
    "    f1 = open(file_name_term,'a+')\n",
    "    # text = concate_term_newline(list_term)\n",
    "#     print(text)    \n",
    "    f1.write(list_term)\n",
    "    f1.close()\n"
   ]
  },
  {
   "cell_type": "code",
   "execution_count": 15,
   "metadata": {},
   "outputs": [],
   "source": [
    "def concate_term_newline(dist_in):\n",
    "    hasil = ''\n",
    "    str_temp2 = ''\n",
    "    is_first = True\n",
    "    for i in dist_in:\n",
    "        for j in dist_in[i]:\n",
    "            if is_first:\n",
    "                str_temp2 = j\n",
    "                is_first = False\n",
    "            else:\n",
    "                str_temp2 = str_temp2 + \",\"+ j\n",
    "        is_first = True\n",
    "        str_temp = i+ \"\\t\" + str_temp2+ \"\\n\"\n",
    "        str_temp2 = \"\"\n",
    "        hasil = hasil + str_temp\n",
    "        \n",
    "    return hasil"
   ]
  },
  {
   "cell_type": "markdown",
   "metadata": {},
   "source": [
    "### tulis data"
   ]
  },
  {
   "cell_type": "code",
   "execution_count": 16,
   "metadata": {},
   "outputs": [],
   "source": [
    "def writeFile(dict_in,file_name):\n",
    "    \n",
    "    str_of_list = concate_term_newline(dict_in)\n",
    "    \n",
    "#     print(str_of_list)\n",
    "    saveFile = open(file_name, 'w+' )\n",
    "    saveFile.write(str_of_list)\n",
    "    saveFile.close()\n",
    "#     print(list_hasil)\n",
    "    "
   ]
  },
  {
   "cell_type": "markdown",
   "metadata": {},
   "source": [
    "### Add Doc Number"
   ]
  },
  {
   "cell_type": "code",
   "execution_count": 17,
   "metadata": {},
   "outputs": [],
   "source": [
    "def addDocNumber(_listIn, _docNum):\n",
    "#     _docNum[14:18]\n",
    "    for i in range(len(_listIn)):\n",
    "        _listIn[i] = _listIn[i] + '_' + _docNum[14:18]\n",
    "        \n",
    "    return _listIn"
   ]
  },
  {
   "cell_type": "markdown",
   "metadata": {},
   "source": [
    "## Preprocessing Main"
   ]
  },
  {
   "cell_type": "code",
   "execution_count": 24,
   "metadata": {
    "scrolled": true
   },
   "outputs": [],
   "source": [
    "listOfFiles = readFile('DataRouter')\n",
    "listOfWordsOfFile = []\n",
    "counter = 1\n",
    "blok = 10\n",
    "\n",
    "dict_list_term = defaultdict(list)\n",
    "blok_file_name = \"term_blok\"\n",
    "blok_name = []\n",
    "\n",
    "for i in listOfFiles: #iterasi tiap file\n",
    "    txt = readText(i)\n",
    "    \n",
    "    txt = normalisasi(txt)\n",
    "    listOfWords = make_token(txt)\n",
    "    listOfWords = removeNull(listOfWords)\n",
    "    listOfWords = caseFolding(listOfWords)\n",
    "    listOfWords = removeStopWord(listOfWords)\n",
    "    listOfWords = stemming(listOfWords)    \n",
    "#     listOfWords = lemmatization(listOfWords)\n",
    "    \n",
    "#     Diganti KEVIN\n",
    "#     listOfWords = addDocNumber(listOfWords,i)\n",
    "    \n",
    "    for j in listOfWords:\n",
    "        doc_num = i[14:18]\n",
    "#         if doc_num not in dict_list_term[j]:\n",
    "        dict_list_term[j].append(doc_num) #15:01:01.79 : 0001\n",
    "\n",
    "#sorting ascending\n",
    "dict_list_term = OrderedDict(sorted(dict_list_term.items()))\n"
   ]
  },
  {
   "cell_type": "code",
   "execution_count": 25,
   "metadata": {
    "scrolled": true
   },
   "outputs": [
    {
     "data": {
      "text/html": [
       "<div>\n",
       "<style scoped>\n",
       "    .dataframe tbody tr th:only-of-type {\n",
       "        vertical-align: middle;\n",
       "    }\n",
       "\n",
       "    .dataframe tbody tr th {\n",
       "        vertical-align: top;\n",
       "    }\n",
       "\n",
       "    .dataframe thead th {\n",
       "        text-align: right;\n",
       "    }\n",
       "</style>\n",
       "<table border=\"1\" class=\"dataframe\">\n",
       "  <thead>\n",
       "    <tr style=\"text-align: right;\">\n",
       "      <th></th>\n",
       "      <th>term</th>\n",
       "      <th>doc_num</th>\n",
       "    </tr>\n",
       "  </thead>\n",
       "  <tbody>\n",
       "    <tr>\n",
       "      <th>0</th>\n",
       "      <td>-1</td>\n",
       "      <td>[0004, 0008, 0016, 0026, 0059, 0059, 0059, 005...</td>\n",
       "    </tr>\n",
       "    <tr>\n",
       "      <th>1</th>\n",
       "      <td>-10</td>\n",
       "      <td>[0305]</td>\n",
       "    </tr>\n",
       "    <tr>\n",
       "      <th>2</th>\n",
       "      <td>-100</td>\n",
       "      <td>[0427]</td>\n",
       "    </tr>\n",
       "    <tr>\n",
       "      <th>3</th>\n",
       "      <td>-11</td>\n",
       "      <td>[0116]</td>\n",
       "    </tr>\n",
       "    <tr>\n",
       "      <th>4</th>\n",
       "      <td>-110</td>\n",
       "      <td>[0427]</td>\n",
       "    </tr>\n",
       "  </tbody>\n",
       "</table>\n",
       "</div>"
      ],
      "text/plain": [
       "   term                                            doc_num\n",
       "0    -1  [0004, 0008, 0016, 0026, 0059, 0059, 0059, 005...\n",
       "1   -10                                             [0305]\n",
       "2  -100                                             [0427]\n",
       "3   -11                                             [0116]\n",
       "4  -110                                             [0427]"
      ]
     },
     "execution_count": 25,
     "metadata": {},
     "output_type": "execute_result"
    }
   ],
   "source": [
    "keys = list(dict_list_term.keys())\n",
    "values = list(dict_list_term.values())\n",
    "dict_hasil = {\n",
    "    \"term\": keys,\n",
    "    \"doc_num\": values\n",
    "}\n",
    "# To csv\n",
    "df = pd.DataFrame(dict_hasil)\n",
    "df.head()"
   ]
  },
  {
   "cell_type": "code",
   "execution_count": 26,
   "metadata": {},
   "outputs": [
    {
     "data": {
      "text/plain": [
       "['0077',\n",
       " '0080',\n",
       " '0080',\n",
       " '0097',\n",
       " '0097',\n",
       " '0097',\n",
       " '0160',\n",
       " '0195',\n",
       " '0208',\n",
       " '0215',\n",
       " '0256',\n",
       " '0488']"
      ]
     },
     "execution_count": 26,
     "metadata": {},
     "output_type": "execute_result"
    }
   ],
   "source": [
    "df[df[\"term\"] == \"discount\"].iloc[0][1]"
   ]
  },
  {
   "cell_type": "markdown",
   "metadata": {},
   "source": [
    "### Tulis Hasil Preprocessing"
   ]
  },
  {
   "cell_type": "code",
   "execution_count": 27,
   "metadata": {},
   "outputs": [],
   "source": [
    "# df.to_csv(path_or_buf=\"hasil_perbaikan_preprocessing.csv\", index=False)\n",
    "df.to_csv(path_or_buf=\"hasil_preprocessing.csv\", index=False)"
   ]
  },
  {
   "cell_type": "code",
   "execution_count": null,
   "metadata": {},
   "outputs": [],
   "source": []
  },
  {
   "cell_type": "code",
   "execution_count": null,
   "metadata": {},
   "outputs": [],
   "source": []
  }
 ],
 "metadata": {
  "kernelspec": {
   "display_name": "Python 3",
   "language": "python",
   "name": "python3"
  },
  "language_info": {
   "codemirror_mode": {
    "name": "ipython",
    "version": 3
   },
   "file_extension": ".py",
   "mimetype": "text/x-python",
   "name": "python",
   "nbconvert_exporter": "python",
   "pygments_lexer": "ipython3",
   "version": "3.6.8"
  }
 },
 "nbformat": 4,
 "nbformat_minor": 2
}
