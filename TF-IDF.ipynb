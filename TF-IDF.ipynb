{
 "cells": [
  {
   "cell_type": "code",
   "execution_count": 1,
   "metadata": {},
   "outputs": [],
   "source": [
    "from nltk.corpus import stopwords\n",
    "from nltk.stem import WordNetLemmatizer\n",
    "import re\n",
    "import glob\n",
    "from nltk.stem.snowball import SnowballStemmer\n",
    "from itertools import chain #untuk flaten array 2d"
   ]
  },
  {
   "cell_type": "code",
   "execution_count": 2,
   "metadata": {},
   "outputs": [],
   "source": [
    "def readFile(directory):\n",
    "    listFile = glob.glob(directory+\"/*.txt\")\n",
    "    return listFile"
   ]
  },
  {
   "cell_type": "markdown",
   "metadata": {},
   "source": [
    "## normalisasi"
   ]
  },
  {
   "cell_type": "code",
   "execution_count": 3,
   "metadata": {},
   "outputs": [],
   "source": [
    "def normalisasi(body):\n",
    "    \n",
    "    hasil = []\n",
    "    temp_str = ''\n",
    "    \n",
    "    #hapus tag\n",
    "    hapusTag = r'<DATE>|</DATE>|<TITLE>|</TITLE>|<BODY>|</BODY>'\n",
    "    body = re.sub(hapusTag, ' ', body)\n",
    "    \n",
    "    #hapus \\n\n",
    "    hapusEnter = r'\\n'\n",
    "    body = re.sub(hapusEnter, ' ', body)\n",
    "    \n",
    "    #hapus spasi lebih dari satu\n",
    "    spasiLebihDariSatu = r'\\s+'\n",
    "    body = re.sub(spasiLebihDariSatu, ' ', body)\n",
    "    \n",
    "    # hapus htmlEntities \n",
    "    htmlEntities = r\"&lt;\"\n",
    "    body = re.sub(htmlEntities, '', body)\n",
    "    \n",
    "    #ambil tanggal\n",
    "    tanggal = r\"((\\d{2}|\\d{4})[.-](J(anuary|an|AN|une|un|UN|uly|ul|UL)|F(ebruary|eb|EB)|M(arch|ar|AR|ay|AY)|A(pril|pr|PR|ugust|ug|UG)|S(eptember|ep|EP)|O(ctober|ct|CT)|N(ovember|ov|OV)|D(ecember|ec|EC))[-.](\\d{4}|\\d{2}))\"\n",
    "    list_tanggal = re.findall(tanggal,body)\n",
    "    hasil.append(list_tanggal)\n",
    "    body = re.sub(tanggal, \"\", body)\n",
    "    \n",
    "    #ambil waktu\n",
    "    waktu = r\"(\\d{2}:\\d{2}:\\d{2}(\\.)?\\d{2})\"\n",
    "    list_waktu = re.findall(waktu,body)\n",
    "    hasil.append(list_waktu)\n",
    "    body = re.sub(waktu, \"\", body)\n",
    "    \n",
    "    #ambil angka desimal, persen, mata uang \n",
    "#     desimal = \"(([+-]?(\\$|£)?(\\d{1,3}[.,])*(\\d+)(%)?))\"\n",
    "#     list_desimal = re.findall(desimal, body)\n",
    "#     hasil.append(list_tanggal)\n",
    "#     body = re.sub(desimal, \"\", body)\n",
    "    \n",
    "    #email\n",
    "    email = \"([\\w-]+(\\.[\\w-]+|\\.)*@[\\w-]+(\\.[\\w-]+)+)\"\n",
    "    list_email = re.findall(email,body)\n",
    "    hasil.append(list_email)\n",
    "    body = re.sub(email, \"\", body)\n",
    "    \n",
    "    #url\n",
    "    url = \"((http:\\/\\/www\\.|https:\\/\\/www\\.|http:\\/\\/|https:\\/\\/)?[a-z0-9]+([\\-\\.]{1}[a-z0-9]+)*\\.[a-z]{2,5}(:[0-9]{1,5})?(\\/.*)?)\"\n",
    "    list_url = re.findall(url,body)\n",
    "    hasil.append(list_url)\n",
    "    body = re.sub(url, \"\", body)\n",
    "    \n",
    "    tanda_baca = r'[\"()<>+?.\\[\\]{}:,\\'\\'/-]'\n",
    "    body = re.sub(tanda_baca, ' ', body)\n",
    "    \n",
    "    body = re.sub(spasiLebihDariSatu, ' ', body)\n",
    "    \n",
    "    kutips = r\"'s\"\n",
    "    body = re.sub(kutips, '', body)\n",
    "    \n",
    "    list_flat = list(chain.from_iterable(hasil))\n",
    "    \n",
    "    for i in list_flat:\n",
    "        temp_str = temp_str + i[0] + \" \"\n",
    "    \n",
    "    body = body + \" \" + temp_str\n",
    "    \n",
    "    body = re.sub(spasiLebihDariSatu, ' ', body)\n",
    "    \n",
    "    return body"
   ]
  },
  {
   "cell_type": "code",
   "execution_count": 4,
   "metadata": {},
   "outputs": [],
   "source": [
    "def readText(file):\n",
    "    words = []\n",
    "    f = open(file, 'r') #open file\n",
    "    text = f.read()    \n",
    "    f.close()\n",
    "\n",
    "    return text"
   ]
  },
  {
   "cell_type": "code",
   "execution_count": 5,
   "metadata": {},
   "outputs": [],
   "source": [
    "def removeEnter(listOfWords): #['<BODY>\\n']\n",
    "    for i in range(len(listOfWords)):\n",
    "        listOfWords[i] = listOfWords[i].replace('\\n','')\n",
    "        \n",
    "    return listOfWords"
   ]
  },
  {
   "cell_type": "code",
   "execution_count": 6,
   "metadata": {},
   "outputs": [],
   "source": [
    "def removeNull(listOfWords): #['','','eat','food','','']\n",
    "    listOfWords = list(filter(None, listOfWords))\n",
    "    \n",
    "    return listOfWords"
   ]
  },
  {
   "cell_type": "code",
   "execution_count": 7,
   "metadata": {},
   "outputs": [],
   "source": [
    "def caseFolding(listOfWords):\n",
    "    for i in range(len(listOfWords)):\n",
    "        listOfWords[i] = listOfWords[i].casefold()\n",
    "        \n",
    "    return listOfWords"
   ]
  },
  {
   "cell_type": "markdown",
   "metadata": {},
   "source": [
    "<h3>Load Stop Word from NLTK</h3>"
   ]
  },
  {
   "cell_type": "code",
   "execution_count": 8,
   "metadata": {},
   "outputs": [],
   "source": [
    "stop_words = stopwords.words('english')"
   ]
  },
  {
   "cell_type": "code",
   "execution_count": 9,
   "metadata": {},
   "outputs": [],
   "source": [
    "def removeStopWord(listOfWords):\n",
    "    for i in listOfWords:\n",
    "        if i in stop_words:\n",
    "            listOfWords.remove(i)\n",
    "        \n",
    "    return listOfWords"
   ]
  },
  {
   "cell_type": "markdown",
   "metadata": {},
   "source": [
    "<h3>Load Lemmatizer from NLTK</h3>"
   ]
  },
  {
   "cell_type": "code",
   "execution_count": 10,
   "metadata": {},
   "outputs": [],
   "source": [
    "lemmatizer = WordNetLemmatizer()"
   ]
  },
  {
   "cell_type": "code",
   "execution_count": 11,
   "metadata": {},
   "outputs": [],
   "source": [
    "def lemmatization(listOfWords):\n",
    "    for i in range(len(listOfWords)):\n",
    "        listOfWords[i] = lemmatizer.lemmatize(listOfWords[i])\n",
    "        \n",
    "    return listOfWords"
   ]
  },
  {
   "cell_type": "markdown",
   "metadata": {},
   "source": [
    "<h3>Load Stemming from NLTK</h3>"
   ]
  },
  {
   "cell_type": "code",
   "execution_count": 12,
   "metadata": {},
   "outputs": [],
   "source": [
    "def stemming(listOfWords):\n",
    "    stemmer = SnowballStemmer(\"english\")\n",
    "    stemmed = [stemmer.stem(word) for word in listOfWords]\n",
    "    \n",
    "    return stemmed"
   ]
  },
  {
   "cell_type": "markdown",
   "metadata": {},
   "source": [
    "# Token"
   ]
  },
  {
   "cell_type": "code",
   "execution_count": 13,
   "metadata": {},
   "outputs": [],
   "source": [
    "def make_token(txt):\n",
    "    list_hasil = txt.split(\" \")            \n",
    "    return list_hasil"
   ]
  },
  {
   "cell_type": "markdown",
   "metadata": {},
   "source": [
    "<h1>Main Pre-processing</h1>"
   ]
  },
  {
   "cell_type": "code",
   "execution_count": 14,
   "metadata": {},
   "outputs": [],
   "source": [
    "def preprocessing(file):\n",
    "    txt = readText(file)\n",
    "    txt = normalisasi(txt)\n",
    "    listOfWords = make_token(txt)\n",
    "    listOfWords = removeNull(listOfWords)\n",
    "    listOfWords = caseFolding(listOfWords)\n",
    "    listOfWords = removeStopWord(listOfWords)\n",
    "    listOfWords = stemming(listOfWords)\n",
    "#     listOfWords = lemmatization(listOfWords)\n",
    "#     listOfWords = removeStopWord(listOfWords)\n",
    "#     listOfWords = removeStopWord(listOfWords)\n",
    "#     listOfWords = removeStopWord(listOfWords)\n",
    "    \n",
    "    return listOfWords"
   ]
  },
  {
   "cell_type": "code",
   "execution_count": 15,
   "metadata": {},
   "outputs": [],
   "source": [
    "# listOfFiles = readFile('DataRouter_2')\n",
    "# listOfWordsOfFile = []\n",
    "\n",
    "# for i in listOfFiles: #iterasi tiap file\n",
    "#     txt = readText(i)\n",
    "#     txt = normalisasi(txt)\n",
    "#     listOfWords = make_token(txt)\n",
    "#     listOfWords = removeNull(listOfWords)\n",
    "#     listOfWords = caseFolding(listOfWords)\n",
    "#     listOfWords = removeStopWord(listOfWords)\n",
    "#     listOfWords = stemming(listOfWords)\n",
    "#     listOfWords = lemmatization(listOfWords)\n",
    "    \n",
    "# return listOfWords"
   ]
  },
  {
   "cell_type": "markdown",
   "metadata": {},
   "source": [
    "<h1>Compute TF</h1>"
   ]
  },
  {
   "cell_type": "code",
   "execution_count": 16,
   "metadata": {},
   "outputs": [],
   "source": [
    "#input berupa list dari text yang sudah di preprocessing\n",
    "def countWord(listOfWords):\n",
    "    dictWordCount = {}\n",
    "    for word in listOfWords:\n",
    "        if word in dictWordCount:\n",
    "            dictWordCount[word] += 1\n",
    "        else:\n",
    "            dictWordCount[word] = 1\n",
    "            \n",
    "    return dictWordCount"
   ]
  },
  {
   "cell_type": "code",
   "execution_count": 17,
   "metadata": {},
   "outputs": [],
   "source": [
    "import math\n",
    "#tf = 1 + log(i,j)\n",
    "def computeTFLog(dictWordCount):\n",
    "    for i in dictWordCount:\n",
    "        tf = 1 + math.log(dictWordCount[i],2)\n",
    "        dictWordCount[i] = tf\n",
    "    \n",
    "    return dictWordCount"
   ]
  },
  {
   "cell_type": "code",
   "execution_count": 18,
   "metadata": {},
   "outputs": [],
   "source": [
    "def insertDocNum(_dict, _file):\n",
    "    name = _file.split('/')\n",
    "    name = name[1]\n",
    "    name = name.split('.')\n",
    "    name = name[0]\n",
    "    name = int(name[4:7])\n",
    "    \n",
    "    for i in _dict:\n",
    "        _dict[i] = [name,_dict[i]]\n",
    "        \n",
    "    return _dict"
   ]
  },
  {
   "cell_type": "code",
   "execution_count": 19,
   "metadata": {},
   "outputs": [],
   "source": [
    "def tf(listOfWords, _file):\n",
    "    dictWordCount = countWord(listOfWords)\n",
    "    dictWordCount = computeTFLog(dictWordCount)\n",
    "    dictWordCount = insertDocNum(dictWordCount, _file)\n",
    "    \n",
    "    return dictWordCount"
   ]
  },
  {
   "cell_type": "markdown",
   "metadata": {},
   "source": [
    "<h1>Compute IDF</h1>"
   ]
  },
  {
   "cell_type": "code",
   "execution_count": 20,
   "metadata": {
    "scrolled": true
   },
   "outputs": [],
   "source": [
    "import math\n",
    "#idf = log(1 + (N/ni))\n",
    "def countIDF(_N, _ni):\n",
    "#     print('N : ',_N)\n",
    "#     print('_ni : ',_ni)\n",
    "    return math.log(1+(_N/_ni),2)\n",
    "        "
   ]
  },
  {
   "cell_type": "markdown",
   "metadata": {},
   "source": [
    "<h1>Count Weight</h1>"
   ]
  },
  {
   "cell_type": "code",
   "execution_count": 21,
   "metadata": {},
   "outputs": [],
   "source": [
    "#(1 + log(f(i,j))) x log(N/ni)\n",
    "def countWeight(_dict, _fileCount):\n",
    "    isList2D = False\n",
    "    tempIDF = 0\n",
    "    \n",
    "    for i in _dict:\n",
    "        tempLength = len(_dict[i])\n",
    "        tempIDF = countIDF(_fileCount, tempLength)\n",
    "        try:\n",
    "            temp = _dict[i][0][0]\n",
    "            isList2D = True\n",
    "        except:\n",
    "            a = 0\n",
    "            \n",
    "        if not isList2D:#'export':[1,2]\n",
    "            _dict[i][1] = _dict[i][1]*tempIDF\n",
    "#             _dict[i].append(0)#tambah q di paling belakang (0)\n",
    "        else:\n",
    "#             print(\"before \",_dict[i])\n",
    "            for k in range(0, tempLength-1):\n",
    "#                 print('length = ',tempLength)\n",
    "                _dict[i][k][1] = _dict[i][k][1]*tempIDF\n",
    "#             _dict[i].append(0)#tambah q di paling belakang (0)\n",
    "        \n",
    "#             if tempLength == _fileCount-1:\n",
    "#                 _dict[i].append(tempIDF)#tambah q di paling belakang\n",
    "#             print(\"after \",_dict[i])\n",
    "        isList2D = False\n",
    "                \n",
    "    return _dict"
   ]
  },
  {
   "cell_type": "markdown",
   "metadata": {},
   "source": [
    "<h1>Main</h1>"
   ]
  },
  {
   "cell_type": "code",
   "execution_count": 22,
   "metadata": {},
   "outputs": [],
   "source": [
    "def main(fileDir):\n",
    "    fileCounter = 1\n",
    "    \n",
    "    wholeDictWordCount = {}\n",
    "    listOfFiles = readFile(fileDir)\n",
    "    listOfFiles.sort()\n",
    "    for file in listOfFiles:\n",
    "        listOfWord = preprocessing(file)\n",
    "#         print(listOfWord)\n",
    "        tempDictWordCount = tf(listOfWord, file)\n",
    "        wholeDictWordCount = addToWholeDictWordCount(tempDictWordCount, wholeDictWordCount, fileCounter)\n",
    "        fileCounter += 1\n",
    "        #wholeDictWordCount ==> 'export':[1,2,[2,1],[3,5],[4,3]]\n",
    "        \n",
    "    wholeDictWordCount = fixFirstList(wholeDictWordCount)\n",
    "    #wholeDictWordCount ==> 'export':[[1,2],[2,1],[3,5],[4,3]]\n",
    "    \n",
    "#     wholeDictWordCount = addQ(wholeDictWordCount, fileCounter) #add q\n",
    "    \n",
    "    wholeDictWordCount = countWeight(wholeDictWordCount, fileCounter) \n",
    "    \n",
    "    saveToTxtFile(wholeDictWordCount)\n",
    "    file = open('sum_of_file.txt','w')\n",
    "    file.write(str(fileCounter))\n",
    "    file.close()\n",
    "        \n",
    "#     printDict(wholeDictWordCount)"
   ]
  },
  {
   "cell_type": "code",
   "execution_count": 23,
   "metadata": {},
   "outputs": [],
   "source": [
    "def addToWholeDictWordCount(_tempDict, _wholeDict, _fileCounter):\n",
    "    isList2D = False\n",
    "    \n",
    "    if not bool(_wholeDict):#first time jalan\n",
    "        return _tempDict\n",
    "    else:\n",
    "        for word in _wholeDict:#masukin word dari temp ke whole yg udah ada\n",
    "            try:\n",
    "                temp = word[0][0]\n",
    "                isList2D = True\n",
    "            except:\n",
    "                a = 0\n",
    "                \n",
    "            if isList2D:\n",
    "                if word in _tempDict:\n",
    "                    _wholeDict[word].append(_tempDict[word])\n",
    "            else:\n",
    "                if word in _tempDict:\n",
    "                    _wholeDict[word] = [_wholeDict[word],_tempDict[word]]\n",
    "                    \n",
    "            isList2D = False\n",
    "                    \n",
    "        for word in _tempDict:#masukin word dari temp ke whole yg belum ada\n",
    "            if word not in _wholeDict:\n",
    "                _wholeDict[word] = _tempDict[word]\n",
    "                \n",
    "\n",
    "    return _wholeDict"
   ]
  },
  {
   "cell_type": "code",
   "execution_count": 24,
   "metadata": {},
   "outputs": [],
   "source": [
    "def fixFirstList(_dict):\n",
    "    for i in _dict:\n",
    "        if len(_dict[i]) > 2:\n",
    "            tempList = _dict[i]\n",
    "            _dict[i] = [[_dict[i][0],_dict[i][1]]]\n",
    "#             print(tempList)\n",
    "            for k in range(2,len(tempList)):\n",
    "                _dict[i].append(tempList[k])\n",
    "        else:\n",
    "            _dict[i] = [_dict[i]]\n",
    "            \n",
    "    return _dict"
   ]
  },
  {
   "cell_type": "code",
   "execution_count": 25,
   "metadata": {},
   "outputs": [],
   "source": [
    "def saveToTxtFile(_dict):\n",
    "    file = open('tf-idf.txt','w')\n",
    "    \n",
    "    for i in sorted(_dict.keys()):\n",
    "        temp = ''\n",
    "        for k in _dict[i]:\n",
    "#             temp += '['+str(k[0])+','+str(k[1])+']'\n",
    "            temp += str(k)+';'\n",
    "        file.write(i+'\\t'+temp+'\\n')\n",
    "    \n",
    "    file.close()"
   ]
  },
  {
   "cell_type": "code",
   "execution_count": 28,
   "metadata": {
    "scrolled": true
   },
   "outputs": [
    {
     "name": "stdout",
     "output_type": "stream",
     "text": [
      "--- 1.5878386497497559 seconds ---\n"
     ]
    }
   ],
   "source": [
    "import time\n",
    "start_time = time.time()\n",
    "main('DataRouter')\n",
    "print(\"--- %s seconds ---\" % (time.time() - start_time))"
   ]
  },
  {
   "cell_type": "code",
   "execution_count": 27,
   "metadata": {},
   "outputs": [],
   "source": [
    "# a = {\n",
    "#     'bahia':[[1,4.3]],\n",
    "#     'cocoa':[[1,1.3],[4,1]],\n",
    "#     'continu':[[1,3],[2,2],[3,3],[4,4],3]\n",
    "# }\n",
    "# saveToTxtFile(a)\n",
    "# print(a['bahia'][0][1])"
   ]
  }
 ],
 "metadata": {
  "kernelspec": {
   "display_name": "Python 3",
   "language": "python",
   "name": "python3"
  },
  "language_info": {
   "codemirror_mode": {
    "name": "ipython",
    "version": 3
   },
   "file_extension": ".py",
   "mimetype": "text/x-python",
   "name": "python",
   "nbconvert_exporter": "python",
   "pygments_lexer": "ipython3",
   "version": "3.7.3"
  }
 },
 "nbformat": 4,
 "nbformat_minor": 2
}
