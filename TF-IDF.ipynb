{
 "cells": [
  {
   "cell_type": "code",
   "execution_count": 1,
   "metadata": {},
   "outputs": [],
   "source": [
    "from nltk.corpus import stopwords\n",
    "from nltk.stem import WordNetLemmatizer\n",
    "import re\n",
    "import glob\n",
    "from nltk.stem.snowball import SnowballStemmer\n",
    "from itertools import chain #untuk flaten array 2d"
   ]
  },
  {
   "cell_type": "code",
   "execution_count": 2,
   "metadata": {},
   "outputs": [],
   "source": [
    "def readFile(directory):\n",
    "    listFile = glob.glob(directory+\"/*.txt\")\n",
    "    return listFile"
   ]
  },
  {
   "cell_type": "markdown",
   "metadata": {},
   "source": [
    "## normalisasi"
   ]
  },
  {
   "cell_type": "code",
   "execution_count": 3,
   "metadata": {},
   "outputs": [],
   "source": [
    "def normalisasi(body):\n",
    "    \n",
    "    hasil = []\n",
    "    temp_str = ''\n",
    "\n",
    "    #hapus tag\n",
    "    hapusTag = r'<DATE>|</DATE>|<TITLE>|</TITLE>|<BODY>|</BODY>'\n",
    "    body = re.sub(hapusTag, ' ', body)\n",
    "    \n",
    "    #hapus \\n\n",
    "    hapusEnter = r'\\n'\n",
    "    body = re.sub(hapusEnter, ' ', body)\n",
    "    \n",
    "    #hapus spasi lebih dari satu\n",
    "    spasiLebihDariSatu = r'\\s+'\n",
    "    body = re.sub(spasiLebihDariSatu, ' ', body)\n",
    "    \n",
    "    # hapus htmlEntities \n",
    "    htmlEntities = r\"&lt;\"\n",
    "    body = re.sub(htmlEntities, '', body)\n",
    "    \n",
    "    #ambil tanggal\n",
    "    tanggal = r\"((\\d{2}|\\d{4})[.-](J(anuary|an|AN|une|un|UN|uly|ul|UL)|F(ebruary|eb|EB)|M(arch|ar|AR|ay|AY)|A(pril|pr|PR|ugust|ug|UG)|S(eptember|ep|EP)|O(ctober|ct|CT)|N(ovember|ov|OV)|D(ecember|ec|EC))[-.](\\d{4}|\\d{2}))\"\n",
    "    list_tanggal = re.findall(tanggal,body)\n",
    "    hasil.append(list_tanggal)\n",
    "    body = re.sub(tanggal, \"\", body)\n",
    "    \n",
    "    #ambil waktu\n",
    "    waktu = r\"(\\d{2}:\\d{2}:\\d{2}(\\.)?\\d{2})\"\n",
    "    list_waktu = re.findall(waktu,body)\n",
    "    hasil.append(list_waktu)\n",
    "    body = re.sub(waktu, \"\", body)\n",
    "    \n",
    "    #ambil angka desimal, persen, mata uang \n",
    "    desimal = \"(([+-]?(\\$|£)?(\\d{1,3}[.,])*(\\d+)(%)?))\"\n",
    "    list_desimal = re.findall(desimal, body)\n",
    "    hasil.append(list_tanggal)\n",
    "    body = re.sub(desimal, \"\", body)\n",
    "    \n",
    "    #email\n",
    "    email = \"([\\w-]+(\\.[\\w-]+|\\.)*@[\\w-]+(\\.[\\w-]+)+)\"\n",
    "    list_email = re.findall(email,body)\n",
    "    hasil.append(list_email)\n",
    "    body = re.sub(email, \"\", body)\n",
    "    \n",
    "    #url\n",
    "    url = \"((http:\\/\\/www\\.|https:\\/\\/www\\.|http:\\/\\/|https:\\/\\/)?[a-z0-9]+([\\-\\.]{1}[a-z0-9]+)*\\.[a-z]{2,5}(:[0-9]{1,5})?(\\/.*)?)\"\n",
    "    list_url = re.findall(url,body)\n",
    "    hasil.append(list_url)\n",
    "    body = re.sub(url, \"\", body)\n",
    "    \n",
    "    tanda_baca = r'[\"()<>+?.\\[\\]{}:,\\'\\'/-]'\n",
    "    body = re.sub(tanda_baca, ' ', body)\n",
    "\n",
    "    body = re.sub(spasiLebihDariSatu, ' ', body)\n",
    "    \n",
    "    kutips = r\"'s\"\n",
    "    body = re.sub(kutips, '', body)\n",
    "    \n",
    "    list_flat = list(chain.from_iterable(hasil))\n",
    "    \n",
    "    for i in list_flat:\n",
    "        temp_str = temp_str + i[0] + \" \"\n",
    "    \n",
    "    body = body + \" \" + temp_str\n",
    "    \n",
    "    body = re.sub(spasiLebihDariSatu, ' ', body)\n",
    "    \n",
    "    return body"
   ]
  },
  {
   "cell_type": "code",
   "execution_count": 4,
   "metadata": {},
   "outputs": [],
   "source": [
    "def readText(file):\n",
    "    words = []\n",
    "    f = open(file, 'r') #open file\n",
    "    text = f.read()    \n",
    "    f.close()\n",
    "\n",
    "    return text"
   ]
  },
  {
   "cell_type": "code",
   "execution_count": 5,
   "metadata": {},
   "outputs": [],
   "source": [
    "def removeEnter(listOfWords): #['<BODY>\\n']\n",
    "    for i in range(len(listOfWords)):\n",
    "        listOfWords[i] = listOfWords[i].replace('\\n','')\n",
    "        \n",
    "    return listOfWords"
   ]
  },
  {
   "cell_type": "code",
   "execution_count": 6,
   "metadata": {},
   "outputs": [],
   "source": [
    "def removeNull(listOfWords): #['','','eat','food','','']\n",
    "    listOfWords = list(filter(None, listOfWords))\n",
    "    \n",
    "    return listOfWords"
   ]
  },
  {
   "cell_type": "code",
   "execution_count": 7,
   "metadata": {},
   "outputs": [],
   "source": [
    "def caseFolding(listOfWords):\n",
    "    for i in range(len(listOfWords)):\n",
    "        listOfWords[i] = listOfWords[i].casefold()\n",
    "        \n",
    "    return listOfWords"
   ]
  },
  {
   "cell_type": "markdown",
   "metadata": {},
   "source": [
    "<h3>Load Stop Word from NLTK</h3>"
   ]
  },
  {
   "cell_type": "code",
   "execution_count": 8,
   "metadata": {},
   "outputs": [],
   "source": [
    "stop_words = stopwords.words('english')"
   ]
  },
  {
   "cell_type": "code",
   "execution_count": 9,
   "metadata": {},
   "outputs": [],
   "source": [
    "def removeStopWord(listOfWords):\n",
    "    for i in listOfWords:\n",
    "        if i in stop_words:\n",
    "            listOfWords.remove(i)\n",
    "        \n",
    "    return listOfWords"
   ]
  },
  {
   "cell_type": "markdown",
   "metadata": {},
   "source": [
    "<h3>Load Lemmatizer from NLTK</h3>"
   ]
  },
  {
   "cell_type": "code",
   "execution_count": 10,
   "metadata": {},
   "outputs": [],
   "source": [
    "lemmatizer = WordNetLemmatizer()"
   ]
  },
  {
   "cell_type": "code",
   "execution_count": 11,
   "metadata": {},
   "outputs": [],
   "source": [
    "def lemmatization(listOfWords):\n",
    "    for i in range(len(listOfWords)):\n",
    "        listOfWords[i] = lemmatizer.lemmatize(listOfWords[i])\n",
    "        \n",
    "    return listOfWords"
   ]
  },
  {
   "cell_type": "markdown",
   "metadata": {},
   "source": [
    "<h3>Load Stemming from NLTK</h3>"
   ]
  },
  {
   "cell_type": "code",
   "execution_count": 12,
   "metadata": {},
   "outputs": [],
   "source": [
    "def stemming(listOfWords):\n",
    "    stemmer = SnowballStemmer(\"english\")\n",
    "    stemmed = [stemmer.stem(word) for word in listOfWords]\n",
    "    \n",
    "    return stemmed"
   ]
  },
  {
   "cell_type": "markdown",
   "metadata": {},
   "source": [
    "# Token"
   ]
  },
  {
   "cell_type": "code",
   "execution_count": 13,
   "metadata": {},
   "outputs": [],
   "source": [
    "def make_token(txt):\n",
    "    list_hasil = txt.split(\" \")            \n",
    "    return list_hasil"
   ]
  },
  {
   "cell_type": "markdown",
   "metadata": {},
   "source": [
    "<h1>Main Pre-processing</h1>"
   ]
  },
  {
   "cell_type": "code",
   "execution_count": 82,
   "metadata": {},
   "outputs": [],
   "source": [
    "def preprocessing(file):\n",
    "    txt = readText(file)\n",
    "    txt = normalisasi(txt)\n",
    "    listOfWords = make_token(txt)\n",
    "    listOfWords = removeNull(listOfWords)\n",
    "    listOfWords = caseFolding(listOfWords)\n",
    "    listOfWords = removeStopWord(listOfWords)\n",
    "    listOfWords = stemming(listOfWords)\n",
    "    listOfWords = lemmatization(listOfWords)\n",
    "    listOfWords = removeStopWord(listOfWords)\n",
    "    \n",
    "    return listOfWords"
   ]
  },
  {
   "cell_type": "code",
   "execution_count": 15,
   "metadata": {},
   "outputs": [],
   "source": [
    "# listOfFiles = readFile('DataRouter_2')\n",
    "# listOfWordsOfFile = []\n",
    "\n",
    "# for i in listOfFiles: #iterasi tiap file\n",
    "#     txt = readText(i)\n",
    "#     txt = normalisasi(txt)\n",
    "#     listOfWords = make_token(txt)\n",
    "#     listOfWords = removeNull(listOfWords)\n",
    "#     listOfWords = caseFolding(listOfWords)\n",
    "#     listOfWords = removeStopWord(listOfWords)\n",
    "#     listOfWords = stemming(listOfWords)\n",
    "#     listOfWords = lemmatization(listOfWords)\n",
    "    \n",
    "# return listOfWords"
   ]
  },
  {
   "cell_type": "markdown",
   "metadata": {},
   "source": [
    "<h1>Compute TF</h1>"
   ]
  },
  {
   "cell_type": "code",
   "execution_count": 24,
   "metadata": {},
   "outputs": [],
   "source": [
    "#input berupa list dari text yang sudah di preprocessing\n",
    "def countWord(listOfWords):\n",
    "    dictWordCount = {}\n",
    "    for word in listOfWords:\n",
    "        if word in dictWordCount:\n",
    "            dictWordCount[word] += 1\n",
    "        else:\n",
    "            dictWordCount[word] = 1\n",
    "            \n",
    "    return dictWordCount"
   ]
  },
  {
   "cell_type": "code",
   "execution_count": 55,
   "metadata": {},
   "outputs": [],
   "source": [
    "import math\n",
    "#tf = 1 + log(i,j)\n",
    "def computeTFLog(dictWordCount):\n",
    "    for i in dictWordCount:\n",
    "        tf = 1 + math.log(dictWordCount[i],2)\n",
    "        dictWordCount[i] = [tf]\n",
    "    \n",
    "    return dictWordCount"
   ]
  },
  {
   "cell_type": "code",
   "execution_count": 18,
   "metadata": {},
   "outputs": [],
   "source": [
    "def tf(listOfWords):\n",
    "    dictWordCount = countWord(listOfWords)\n",
    "    dictWordCount = computeTFLog(dictWordCount)\n",
    "    \n",
    "    return dictWordCount"
   ]
  },
  {
   "cell_type": "markdown",
   "metadata": {},
   "source": [
    "<h1>Compute IDF</h1>"
   ]
  },
  {
   "cell_type": "code",
   "execution_count": null,
   "metadata": {
    "scrolled": true
   },
   "outputs": [],
   "source": [
    "def countIDF(_wholeDict):\n",
    "    for i in _wholeDict:\n",
    "        "
   ]
  },
  {
   "cell_type": "markdown",
   "metadata": {},
   "source": [
    "<h1>Main</h1>"
   ]
  },
  {
   "cell_type": "code",
   "execution_count": 71,
   "metadata": {},
   "outputs": [],
   "source": [
    "def main(fileDir):\n",
    "    fileCounter = 1\n",
    "    \n",
    "    wholeDictWordCount = {}\n",
    "    listOfFiles = readFile(fileDir)\n",
    "    for file in listOfFiles:\n",
    "        listOfWord = preprocessing(file)\n",
    "        tempDictWordCount = tf(listOfWord)\n",
    "        wholeDictWordCount = addToWholeDictWordCount(tempDictWordCount, wholeDictWordCount, fileCounter)\n",
    "        fileCounter += 1\n",
    "        \n",
    "    "
   ]
  },
  {
   "cell_type": "code",
   "execution_count": 77,
   "metadata": {},
   "outputs": [],
   "source": [
    "def addToWholeDictWordCount(_tempDict, _wholeDict, _fileCounter):\n",
    "#     lengthCol = len(_wholeDict[next(iter(_wholeDict))])\n",
    "    \n",
    "    if not bool(_wholeDict):#first time jalan\n",
    "        return _tempDict\n",
    "    else:\n",
    "        for word in _wholeDict:#masukin word dari temp ke whole\n",
    "            if word in _tempDict:\n",
    "                _wholeDict[word].extend(_tempDict[word])\n",
    "            else:\n",
    "                _wholeDict[word].extend([0])\n",
    "                \n",
    "        for word in _tempDict:\n",
    "            if word not in _wholeDict:\n",
    "                _wholeDict[word] = [0]\n",
    "                for i in range(_fileCounter-2):#kasih panjang sesuai array whole\n",
    "                    _wholeDict[word].extend([0])\n",
    "                _wholeDict[word].extend(_tempDict[word])\n",
    "\n",
    "        return _wholeDict"
   ]
  },
  {
   "cell_type": "code",
   "execution_count": 83,
   "metadata": {},
   "outputs": [
    {
     "name": "stdout",
     "output_type": "stream",
     "text": [
      "standard [3.321928094887362, 0]\n",
      "oil [3.0, 0]\n",
      "srd [1.0, 0]\n",
      "form [2.0, 0]\n",
      "financi [2.0, 0]\n",
      "unit [1.0, 0]\n",
      "co [2.0, 0]\n",
      "bp [3.0, 0]\n",
      "north [2.0, 0]\n",
      "america [2.0, 0]\n",
      "inc [1.0, 0]\n",
      "said [1.0, 3.321928094887362]\n",
      "plan [1.0, 0]\n",
      "ventur [2.0, 0]\n",
      "manag [2.0, 0]\n",
      "money [1.0, 0]\n",
      "market [1.0, 0]\n",
      "borrow [1.0, 0]\n",
      "invest [1.0, 0]\n",
      "activ [1.0, 0]\n",
      "compani [1.0, 0]\n",
      "subsidiari [1.0, 0]\n",
      "british [1.0, 0]\n",
      "petroleum [1.0, 0]\n",
      "plc [1.0, 0]\n",
      "also [1.0, 1.0]\n",
      "pct [1.0, 0]\n",
      "interest [1.0, 0]\n",
      "call [1.0, 0]\n",
      "trade [1.0, 1.0]\n",
      "be [1.0, 2.0]\n",
      "oper [1.0, 0]\n",
      "oversight [1.0, 0]\n",
      "a [1.0, 0]\n",
      "joint [1.0, 0]\n",
      "committe [1.0, 0]\n",
      "26-feb-1987 [2.0, 2.0]\n",
      "15:02:20.00 [1.0, 0]\n",
      "bahia [0, 3.321928094887362]\n",
      "cocoa [0, 3.807354922057604]\n",
      "review [0, 2.0]\n",
      "shower [0, 1.0]\n",
      "continu [0, 1.0]\n",
      "throughout [0, 1.0]\n",
      "week [0, 3.0]\n",
      "zone [0, 1.0]\n",
      "allevi [0, 1.0]\n",
      "drought [0, 1.0]\n",
      "sinc [0, 1.0]\n",
      "earli [0, 1.0]\n",
      "januari [0, 1.0]\n",
      "improv [0, 1.0]\n",
      "prospect [0, 1.0]\n",
      "come [0, 2.0]\n",
      "temporao [0, 2.0]\n",
      "although [0, 1.0]\n",
      "normal [0, 1.0]\n",
      "humid [0, 1.0]\n",
      "level [0, 1.0]\n",
      "restor [0, 1.0]\n",
      "comissaria [0, 3.321928094887362]\n",
      "smith [0, 3.321928094887362]\n",
      "dri [0, 1.0]\n",
      "period [0, 2.0]\n",
      "mean [0, 1.0]\n",
      "late [0, 1.0]\n",
      "year [0, 2.0]\n",
      "arriv [0, 2.0]\n",
      "end [0, 2.584962500721156]\n",
      "februari [0, 2.584962500721156]\n",
      "bag [0, 3.321928094887362]\n",
      "kilo [0, 2.0]\n",
      "make [0, 1.0]\n",
      "cumul [0, 1.0]\n",
      "total [0, 2.584962500721156]\n",
      "season [0, 1.0]\n",
      "mln [0, 3.321928094887362]\n",
      "same [0, 1.0]\n",
      "stage [0, 1.0]\n",
      "last [0, 1.0]\n",
      "seem [0, 1.0]\n",
      "deliv [0, 1.0]\n",
      "earlier [0, 1.0]\n",
      "consign [0, 2.0]\n",
      "includ [0, 1.0]\n",
      "figur [0, 2.0]\n",
      "still [0, 2.584962500721156]\n",
      "doubt [0, 2.0]\n",
      "much [0, 2.0]\n",
      "old [0, 1.0]\n",
      "crop [0, 3.321928094887362]\n",
      "avail [0, 1.0]\n",
      "harvest [0, 1.0]\n",
      "practic [0, 1.0]\n",
      "estim [0, 2.0]\n",
      "around [0, 1.0]\n",
      "sale [0, 3.807354922057604]\n",
      "stand [0, 1.0]\n",
      "almost [0, 1.0]\n",
      "hundr [0, 1.0]\n",
      "thousand [0, 1.0]\n",
      "hand [0, 1.0]\n",
      "farmer [0, 2.0]\n",
      "middleman [0, 1.0]\n",
      "export [0, 2.0]\n",
      "processor [0, 1.0]\n",
      "would [0, 1.0]\n",
      "fit [0, 1.0]\n",
      "shipper [0, 2.0]\n",
      "experienc [0, 1.0]\n",
      "dificulti [0, 1.0]\n",
      "obtain [0, 1.0]\n",
      "superior [0, 1.0]\n",
      "certif [0, 1.0]\n",
      "view [0, 1.0]\n",
      "lower [0, 1.0]\n",
      "qualiti [0, 1.0]\n",
      "recent [0, 1.0]\n",
      "sold [0, 2.0]\n",
      "good [0, 1.0]\n",
      "part [0, 1.0]\n",
      "held [0, 1.0]\n",
      "spot [0, 1.0]\n",
      "bean [0, 2.0]\n",
      "price [0, 1.0]\n",
      "rose [0, 1.0]\n",
      "cruzado [0, 1.0]\n",
      "per [0, 2.584962500721156]\n",
      "arroba [0, 1.0]\n",
      "reluct [0, 1.0]\n",
      "offer [0, 1.0]\n",
      "nearbi [0, 1.0]\n",
      "shipment [0, 2.0]\n",
      "onli [0, 1.0]\n",
      "limit [0, 2.0]\n",
      "book [0, 1.0]\n",
      "march [0, 3.0]\n",
      "dlrs [0, 4.807354922057604]\n",
      "tonn [0, 2.0]\n",
      "port [0, 2.584962500721156]\n",
      "name [0, 1.0]\n",
      "new [0, 4.169925001442312]\n",
      "light [0, 1.0]\n",
      "open [0, 2.0]\n",
      "june [0, 2.584962500721156]\n",
      "juli [0, 3.321928094887362]\n",
      "go [0, 1.0]\n",
      "york [0, 4.0]\n",
      "aug [0, 3.0]\n",
      "sept [0, 3.321928094887362]\n",
      "fob [0, 1.0]\n",
      "routin [0, 1.0]\n",
      "butter [0, 2.0]\n",
      "made [0, 1.0]\n",
      "april [0, 3.0]\n",
      "may [0, 2.584962500721156]\n",
      "went [0, 1.0]\n",
      "time [0, 3.807354922057604]\n",
      "oct [0, 2.584962500721156]\n",
      "dec [0, 3.584962500721156]\n",
      "destin [0, 1.0]\n",
      "u [0, 2.0]\n",
      "covert [0, 1.0]\n",
      "currenc [0, 2.0]\n",
      "area [0, 2.0]\n",
      "uruguay [0, 2.0]\n",
      "cake [0, 1.0]\n",
      "regist [0, 1.0]\n",
      "buyer [0, 1.0]\n",
      "argentina [0, 1.0]\n",
      "convert [0, 1.0]\n",
      "liquor [0, 1.0]\n",
      "sell [0, 1.0]\n",
      "at [0, 2.0]\n",
      "current [0, 1.0]\n",
      "final [0, 1.0]\n",
      "expect [0, 1.0]\n",
      "to [0, 1.0]\n",
      "publish [0, 1.0]\n",
      "brazilian [0, 1.0]\n",
      "commiss [0, 1.0]\n",
      "carniv [0, 1.0]\n",
      "midday [0, 1.0]\n",
      "15:01:01.79 [0, 1.0]\n"
     ]
    }
   ],
   "source": [
    "main('DataRouter_2')"
   ]
  },
  {
   "cell_type": "code",
   "execution_count": null,
   "metadata": {},
   "outputs": [],
   "source": []
  }
 ],
 "metadata": {
  "kernelspec": {
   "display_name": "Python 3",
   "language": "python",
   "name": "python3"
  },
  "language_info": {
   "codemirror_mode": {
    "name": "ipython",
    "version": 3
   },
   "file_extension": ".py",
   "mimetype": "text/x-python",
   "name": "python",
   "nbconvert_exporter": "python",
   "pygments_lexer": "ipython3",
   "version": "3.7.3"
  }
 },
 "nbformat": 4,
 "nbformat_minor": 2
}
