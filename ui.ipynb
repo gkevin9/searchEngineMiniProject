{
 "nbformat": 4,
 "nbformat_minor": 2,
 "metadata": {
  "language_info": {
   "name": "python",
   "codemirror_mode": {
    "name": "ipython",
    "version": 3
   },
   "version": "3.7.2-final"
  },
  "orig_nbformat": 2,
  "file_extension": ".py",
  "mimetype": "text/x-python",
  "name": "python",
  "npconvert_exporter": "python",
  "pygments_lexer": "ipython3",
  "version": 3,
  "kernelspec": {
   "name": "python37264bit69774f291abd483f85df9cd74e3c9e37",
   "display_name": "Python 3.7.2 64-bit"
  }
 },
 "cells": [
  {
   "cell_type": "code",
   "execution_count": 1,
   "metadata": {},
   "outputs": [],
   "source": [
    "from flask import Flask, request, render_template, url_for, redirect"
   ]
  },
  {
   "cell_type": "code",
   "execution_count": 20,
   "metadata": {},
   "outputs": [
    {
     "output_type": "stream",
     "name": "stdout",
     "text": "* Serving Flask app \"__main__\" (lazy loading)\n * Environment: production\n   WARNING: This is a development server. Do not use it in a production deployment.\n   Use a production WSGI server instead.\n * Debug mode: off\n * Running on http://127.0.0.1:5000/ (Press CTRL+C to quit)\n127.0.0.1 - - [18/Apr/2020 02:56:22] \"\u001b[37mGET /search HTTP/1.1\u001b[0m\" 200 -\n127.0.0.1 - - [18/Apr/2020 02:56:26] \"\u001b[32mPOST /search HTTP/1.1\u001b[0m\" 302 -\n127.0.0.1 - - [18/Apr/2020 02:56:26] \"\u001b[37mGET /dom HTTP/1.1\u001b[0m\" 200 -\n127.0.0.1 - - [18/Apr/2020 02:56:30] \"\u001b[37mPOST /dom HTTP/1.1\u001b[0m\" 200 -\n127.0.0.1 - - [18/Apr/2020 02:56:33] \"\u001b[37mPOST /dom HTTP/1.1\u001b[0m\" 200 -\n127.0.0.1 - - [18/Apr/2020 02:56:37] \"\u001b[37mPOST /dom HTTP/1.1\u001b[0m\" 200 -\n"
    }
   ],
   "source": [
    "ui = Flask(__name__)\n",
    "\n",
    "@ui.route('/')\n",
    "def index():\n",
    "    return render_template('base.html')\n",
    "\n",
    "\n",
    "@ui.route('/search', methods=['POST', 'GET'])\n",
    "def search():\n",
    "    if request.method == 'POST':\n",
    "        search = request.form[\"search\"]\n",
    "        return redirect(url_for(\"respon\", rsp = search))\n",
    "    else:\n",
    "        return render_template('index.html')\n",
    "    \n",
    "@ui.route(\"/<rsp>\", methods=['POST', 'GET'])\n",
    "def respon(rsp):\n",
    "    if request.method == 'POST':\n",
    "        search = request.form[\"search\"]\n",
    "        return render_template('respond.html', respon = search)\n",
    "    else:\n",
    "        return render_template('respond.html', respon = rsp)\n",
    "    \n",
    "if __name__ == \"__main__\":\n",
    "    ui.run()"
   ]
  },
  {
   "cell_type": "code",
   "execution_count": 18,
   "metadata": {},
   "outputs": [
    {
     "output_type": "error",
     "ename": "SyntaxError",
     "evalue": "invalid syntax (<ipython-input-18-13dcf80bb9b4>, line 21)",
     "traceback": [
      "\u001b[1;36m  File \u001b[1;32m\"<ipython-input-18-13dcf80bb9b4>\"\u001b[1;36m, line \u001b[1;32m21\u001b[0m\n\u001b[1;33m    ui.run()direredirect'search\u001b[0m\n\u001b[1;37m                       ^\u001b[0m\n\u001b[1;31mSyntaxError\u001b[0m\u001b[1;31m:\u001b[0m invalid syntax\n"
     ]
    }
   ],
   "source": []
  },
  {
   "cell_type": "code",
   "execution_count": null,
   "metadata": {},
   "outputs": [],
   "source": [
    "# layout = [\n",
    "#     [sg.Text('Kueri'),sg.Input('', key='search_kueri'), sg.Button('Cari')],\n",
    "#     [sg.Output(size=(100, 30))]\n",
    "# ]\n",
    "\n",
    "# window = sg.Window('Search Engine', layout"
   ]
  },
  {
   "cell_type": "code",
   "execution_count": null,
   "metadata": {},
   "outputs": [],
   "source": [
    "# while True:\n",
    "#     event, values = window.read()\n",
    "#     if event in ('Exit', None): break\n",
    "        \n",
    "#     print(event,values)\n",
    "\n",
    "#     a = values\n",
    "#     print(a)    \n",
    "# window.close() "
   ]
  }
 ]
}