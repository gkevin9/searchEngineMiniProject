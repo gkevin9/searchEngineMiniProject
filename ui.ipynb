{
 "nbformat": 4,
 "nbformat_minor": 2,
 "metadata": {
  "language_info": {
   "name": "python",
   "codemirror_mode": {
    "name": "ipython",
    "version": 3
   },
   "version": "3.7.2-final"
  },
  "orig_nbformat": 2,
  "file_extension": ".py",
  "mimetype": "text/x-python",
  "name": "python",
  "npconvert_exporter": "python",
  "pygments_lexer": "ipython3",
  "version": 3,
  "kernelspec": {
   "name": "python37264bit69774f291abd483f85df9cd74e3c9e37",
   "display_name": "Python 3.7.2 64-bit"
  }
 },
 "cells": [
  {
   "cell_type": "code",
   "execution_count": 2,
   "metadata": {},
   "outputs": [],
   "source": [
    "import PySimpleGUI as sg\n",
    "sg.ChangeLookAndFeel('Dark')"
   ]
  },
  {
   "cell_type": "code",
   "execution_count": 3,
   "metadata": {},
   "outputs": [],
   "source": [
    "layout = [\n",
    "    [sg.Text('Kueri'),sg.Input('', key='search_kueri'), sg.Button('Cari')],\n",
    "    [sg.Output(size=(100, 30))]\n",
    "]\n",
    "\n",
    "window = sg.Window('Search Engine', layout)"
   ]
  },
  {
   "cell_type": "code",
   "execution_count": 4,
   "metadata": {},
   "outputs": [],
   "source": [
    "while True:\n",
    "    event, values = window.read()\n",
    "    if event in ('Exit', None): break\n",
    "        \n",
    "    print(event,values)\n",
    "\n",
    "    a = values\n",
    "    print(a)    \n",
    "window.close() "
   ]
  }
 ]
}