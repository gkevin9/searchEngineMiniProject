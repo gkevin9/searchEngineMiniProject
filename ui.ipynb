{
 "nbformat": 4,
 "nbformat_minor": 2,
 "metadata": {
  "language_info": {
   "name": "python",
   "codemirror_mode": {
    "name": "ipython",
    "version": 3
   },
   "version": "3.7.2-final"
  },
  "orig_nbformat": 2,
  "file_extension": ".py",
  "mimetype": "text/x-python",
  "name": "python",
  "npconvert_exporter": "python",
  "pygments_lexer": "ipython3",
  "version": 3,
  "kernelspec": {
   "name": "python37264bit69774f291abd483f85df9cd74e3c9e37",
   "display_name": "Python 3.7.2 64-bit"
  }
 },
 "cells": [
  {
   "cell_type": "code",
   "execution_count": 24,
   "metadata": {},
   "outputs": [],
   "source": [
    "from flask import Flask, request, render_template, url_for"
   ]
  },
  {
   "cell_type": "code",
   "execution_count": 26,
   "metadata": {},
   "outputs": [
    {
     "output_type": "stream",
     "name": "stdout",
     "text": "* Serving Flask app \"__main__\" (lazy loading)\n * Environment: production\n   WARNING: This is a development server. Do not use it in a production deployment.\n   Use a production WSGI server instead.\n * Debug mode: off\n * Running on http://127.0.0.1:5000/ (Press CTRL+C to quit)\n127.0.0.1 - - [15/Apr/2020 02:06:35] \"\u001b[33mGET /POST?search=asdad HTTP/1.1\u001b[0m\" 404 -\n127.0.0.1 - - [15/Apr/2020 02:06:39] \"\u001b[37mGET / HTTP/1.1\u001b[0m\" 200 -\n127.0.0.1 - - [15/Apr/2020 02:06:41] \"\u001b[33mGET /POST?u=asd HTTP/1.1\u001b[0m\" 404 -\n"
    }
   ],
   "source": [
    "ui = Flask(__name__)\n",
    "\n",
    "@ui.route('/')\n",
    "def index():\n",
    "    return render_template('index.html')\n",
    "\n",
    "@ui.route('/', methods=['POST'])\n",
    "def respond():\n",
    "    text = request.form['search']\n",
    "    processed_text = text.upper()\n",
    "\n",
    "    return processed_text  \n",
    "\n",
    "if __name__ == \"__main__\":\n",
    "    ui.run()"
   ]
  },
  {
   "cell_type": "code",
   "execution_count": null,
   "metadata": {},
   "outputs": [],
   "source": []
  },
  {
   "cell_type": "code",
   "execution_count": null,
   "metadata": {},
   "outputs": [],
   "source": []
  },
  {
   "cell_type": "code",
   "execution_count": null,
   "metadata": {},
   "outputs": [],
   "source": []
  },
  {
   "cell_type": "code",
   "execution_count": 3,
   "metadata": {},
   "outputs": [],
   "source": [
    "# layout = [\n",
    "#     [sg.Text('Kueri'),sg.Input('', key='search_kueri'), sg.Button('Cari')],\n",
    "#     [sg.Output(size=(100, 30))]\n",
    "# ]\n",
    "\n",
    "# window = sg.Window('Search Engine', layout"
   ]
  },
  {
   "cell_type": "code",
   "execution_count": 4,
   "metadata": {},
   "outputs": [],
   "source": [
    "# while True:\n",
    "#     event, values = window.read()\n",
    "#     if event in ('Exit', None): break\n",
    "        \n",
    "#     print(event,values)\n",
    "\n",
    "#     a = values\n",
    "#     print(a)    \n",
    "# window.close() "
   ]
  }
 ]
}