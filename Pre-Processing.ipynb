{
 "cells": [
  {
   "cell_type": "code",
   "execution_count": 1,
   "metadata": {},
   "outputs": [],
   "source": [
    "from nltk.corpus import stopwords\n",
    "from nltk.stem import WordNetLemmatizer\n",
    "import re\n",
    "import glob\n",
    "from nltk.stem.porter import PorterStemmer\n",
    "from itertools import chain #untuk flaten array 2d\n",
    "from collections import defaultdict\n",
    "from collections import OrderedDict"
   ]
  },
  {
   "cell_type": "code",
   "execution_count": 2,
   "metadata": {},
   "outputs": [],
   "source": [
    "def readFile(directory):\n",
    "    listFile = glob.glob(directory+\"/*.txt\")\n",
    "    return listFile"
   ]
  },
  {
   "cell_type": "markdown",
   "metadata": {},
   "source": [
    "## normalisasi"
   ]
  },
  {
   "cell_type": "code",
   "execution_count": 3,
   "metadata": {},
   "outputs": [],
   "source": [
    "def normalisasi(body):\n",
    "\n",
    "    #hapus tag\n",
    "    hapusTag = r'<DATE>|</DATE>|<TITLE>|</TITLE>|<BODY>|</BODY>'\n",
    "    body = re.sub(hapusTag, ' ', body)\n",
    "\n",
    "    #hapus \\n\n",
    "    hapusEnter = r'\\n'\n",
    "    body = re.sub(hapusEnter, ' ', body)\n",
    "\n",
    "    # hapus htmlEntities \n",
    "    htmlEntities = r\"&lt;\"\n",
    "    body = re.sub(htmlEntities, '', body)\n",
    "\n",
    "    kutip2 = r'[\\\"\\(\\)\\<\\>\\+\\?]'\n",
    "    body = re.sub(kutip2, '', body)\n",
    "\n",
    "    # hapus titik dan koma pada akhir string\n",
    "    titikDiAkhirString = r\"([a-zA-Z]+)([^\\w\\s])\"\n",
    "    temp = re.findall(titikDiAkhirString, body)\n",
    "    x = True\n",
    "    while x :\n",
    "#         print(temp)\n",
    "        temp = re.findall(titikDiAkhirString, body)\n",
    "        if len(temp) == 0 :\n",
    "            x = False\n",
    "        for i in temp:\n",
    "            temp2 = i[0] + i[1]\n",
    "            body = re.sub(temp2, i[0], body)\n",
    "\n",
    "    # hapus titik dan koma pada akhir angka    \n",
    "    titikSetelahAngka = r'(\\d+)(^\\w)\\s'    \n",
    "    temp = re.findall(titikSetelahAngka,body)\n",
    "    while x :\n",
    "#         print(temp)\n",
    "        temp = re.findall(titikSetelahAngka, body)\n",
    "        if len(temp) == 0:\n",
    "            x = False\n",
    "        for i in temp:\n",
    "            temp2 = i[0] + i[1]\n",
    "            body = re.sub(temp2, i[0], body)\n",
    "\n",
    "    kutips = r\"'s\"\n",
    "    body = re.sub(kutips, '', body)\n",
    "    \n",
    "    spasiLebihDariSatu = r'\\s+'\n",
    "    body = re.sub(spasiLebihDariSatu, ' ', body)\n",
    "    return body"
   ]
  },
  {
   "cell_type": "code",
   "execution_count": 4,
   "metadata": {},
   "outputs": [],
   "source": [
    "def readText(file):\n",
    "    words = []\n",
    "    f = open(file, 'r') #open file\n",
    "    text = f.read()    \n",
    "    f.close()\n",
    "\n",
    "    return text"
   ]
  },
  {
   "cell_type": "code",
   "execution_count": 5,
   "metadata": {},
   "outputs": [],
   "source": [
    "def removeEnter(listOfWords): #['<BODY>\\n']\n",
    "    for i in range(len(listOfWords)):\n",
    "        listOfWords[i] = listOfWords[i].replace('\\n','')\n",
    "        \n",
    "    return listOfWords"
   ]
  },
  {
   "cell_type": "code",
   "execution_count": 6,
   "metadata": {},
   "outputs": [],
   "source": [
    "def removeNull(listOfWords): #['','','eat','food','','']\n",
    "    listOfWords = list(filter(None, listOfWords))\n",
    "    \n",
    "    return listOfWords"
   ]
  },
  {
   "cell_type": "code",
   "execution_count": 7,
   "metadata": {},
   "outputs": [],
   "source": [
    "def caseFolding(listOfWords):\n",
    "    for i in range(len(listOfWords)):\n",
    "        listOfWords[i] = listOfWords[i].casefold()\n",
    "        \n",
    "    return listOfWords"
   ]
  },
  {
   "cell_type": "markdown",
   "metadata": {},
   "source": [
    "<h3>Load Stop Word from NLTK</h3>"
   ]
  },
  {
   "cell_type": "code",
   "execution_count": 8,
   "metadata": {},
   "outputs": [],
   "source": [
    "stop_words = stopwords.words('english')"
   ]
  },
  {
   "cell_type": "code",
   "execution_count": 9,
   "metadata": {},
   "outputs": [],
   "source": [
    "def removeStopWord(listOfWords):\n",
    "    for i in listOfWords:\n",
    "        if i in stop_words:\n",
    "            listOfWords.remove(i)\n",
    "        \n",
    "    return listOfWords"
   ]
  },
  {
   "cell_type": "markdown",
   "metadata": {},
   "source": [
    "<h3>Load Lemmatizer from NLTK</h3>"
   ]
  },
  {
   "cell_type": "code",
   "execution_count": 10,
   "metadata": {},
   "outputs": [],
   "source": [
    "lemmatizer = WordNetLemmatizer()"
   ]
  },
  {
   "cell_type": "code",
   "execution_count": 11,
   "metadata": {},
   "outputs": [],
   "source": [
    "def lemmatization(listOfWords):\n",
    "    for i in range(len(listOfWords)):\n",
    "        listOfWords[i] = lemmatizer.lemmatize(listOfWords[i])\n",
    "        \n",
    "    return listOfWords"
   ]
  },
  {
   "cell_type": "markdown",
   "metadata": {},
   "source": [
    "<h3>Load Stemming from NLTK</h3>"
   ]
  },
  {
   "cell_type": "code",
   "execution_count": 12,
   "metadata": {},
   "outputs": [],
   "source": [
    "def stemming(listOfWords):\n",
    "    porter = PorterStemmer()\n",
    "    stemmed = [porter.stem(word) for word in listOfWords]\n",
    "    \n",
    "    return stemmed"
   ]
  },
  {
   "cell_type": "markdown",
   "metadata": {},
   "source": [
    "# Token"
   ]
  },
  {
   "cell_type": "code",
   "execution_count": 13,
   "metadata": {},
   "outputs": [],
   "source": [
    "def make_token(txt):\n",
    "    list_hasil = txt.split(\" \")            \n",
    "    return list_hasil"
   ]
  },
  {
   "cell_type": "markdown",
   "metadata": {},
   "source": [
    "# Term"
   ]
  },
  {
   "cell_type": "code",
   "execution_count": 14,
   "metadata": {},
   "outputs": [],
   "source": [
    "def make_term(file_name_token,file_name_term):\n",
    "    list_term = []\n",
    "    f = open(file_name_token, 'r')\n",
    "    text = f.read()\n",
    "    f.close()\n",
    "    \n",
    "    list_token = text.split(\"\\n\")\n",
    "    for i in list_token:\n",
    "        if i not in list_term:\n",
    "            list_term.append(i)\n",
    "            \n",
    "    f1 = open(file_name_term,'a+')\n",
    "    text = concate_term_newline(list_term)\n",
    "#     print(text)    \n",
    "    f1.write(text)\n",
    "    f1.close()\n"
   ]
  },
  {
   "cell_type": "code",
   "execution_count": 15,
   "metadata": {},
   "outputs": [],
   "source": [
    "def concate_term_newline(dist_in):\n",
    "    hasil = ''\n",
    "    str_temp2 = ''\n",
    "    for i in dist_in:\n",
    "        for j in dist_in[i]:\n",
    "            str_temp2 = str_temp2 + \",\"+j\n",
    "            \n",
    "        str_temp = i+ \" : \" + str_temp2+ \"\\n\"\n",
    "        str_temp2 = \"\"\n",
    "        hasil = hasil + str_temp\n",
    "        \n",
    "    return hasil"
   ]
  },
  {
   "cell_type": "markdown",
   "metadata": {},
   "source": [
    "# tulis data"
   ]
  },
  {
   "cell_type": "code",
   "execution_count": 16,
   "metadata": {},
   "outputs": [],
   "source": [
    "def writeFile(dict_in,file_name):\n",
    "    \n",
    "    str_of_list = concate_term_newline(dict_in)\n",
    "    \n",
    "#     print(str_of_list)\n",
    "    saveFile = open(file_name, 'w+' )\n",
    "    saveFile.write(str_of_list)\n",
    "    saveFile.close()\n",
    "#     print(list_hasil)\n",
    "    "
   ]
  },
  {
   "cell_type": "markdown",
   "metadata": {},
   "source": [
    "<h2>Add Doc Number</h2>"
   ]
  },
  {
   "cell_type": "code",
   "execution_count": 17,
   "metadata": {},
   "outputs": [],
   "source": [
    "def addDocNumber(_listIn, _docNum):\n",
    "#     _docNum[14:18]\n",
    "    for i in range(len(_listIn)):\n",
    "        _listIn[i] = _listIn[i] + '_' + _docNum[14:18]\n",
    "        \n",
    "    return _listIn"
   ]
  },
  {
   "cell_type": "markdown",
   "metadata": {},
   "source": [
    "<h1>Main</h1>"
   ]
  },
  {
   "cell_type": "code",
   "execution_count": 18,
   "metadata": {
    "scrolled": true
   },
   "outputs": [],
   "source": [
    "listOfFiles = readFile('DataRouter')\n",
    "listOfWordsOfFile = []\n",
    "counter = 1\n",
    "blok = 10\n",
    "\n",
    "dict_list_term = defaultdict(list)\n",
    "blok_file_name = \"term_blok\"\n",
    "blok_name = []\n",
    "\n",
    "for i in listOfFiles: #iterasi tiap file\n",
    "    txt = readText(i)\n",
    "    \n",
    "    txt = normalisasi(txt)\n",
    "    listOfWords = make_token(txt)\n",
    "    listOfWords = removeNull(listOfWords)\n",
    "    listOfWords = caseFolding(listOfWords)\n",
    "    listOfWords = removeStopWord(listOfWords)\n",
    "    listOfWords = lemmatization(listOfWords)\n",
    "#     listOfWords = stemming(listOfWords)\n",
    "    \n",
    "#     Diganti KEVIN\n",
    "#     listOfWords = addDocNumber(listOfWords,i)\n",
    "    \n",
    "    \n",
    "    for j in listOfWords:\n",
    "#         if j not in list_term:\n",
    "#         list_term[j].append(i) #15:01:01.79 : ,DataRouter\\Doc0001.txt\n",
    "        dict_list_term[j].append(i[14:18]) #15:01:01.79 : ,0001\n",
    "    \n",
    "#sorting ascending\n",
    "dict_list_term = OrderedDict(sorted(dict_list_term.items()))\n",
    "\n",
    "writeFile(dict_list_term,\"hasil_inverted.txt\")\n",
    "#     counter = counter + 1\n",
    "#     print(counter)\n",
    "#     print(list_term)\n",
    "    "
   ]
  },
  {
   "cell_type": "code",
   "execution_count": 19,
   "metadata": {},
   "outputs": [],
   "source": [
    "# for i in dict_list_term:\n",
    "#     print(i, \":\", list_term[i])"
   ]
  }
 ],
 "metadata": {
  "kernelspec": {
   "display_name": "Python 3",
   "language": "python",
   "name": "python3"
  },
  "language_info": {
   "codemirror_mode": {
    "name": "ipython",
    "version": 3
   },
   "file_extension": ".py",
   "mimetype": "text/x-python",
   "name": "python",
   "nbconvert_exporter": "python",
   "pygments_lexer": "ipython3",
   "version": "3.7.3"
  }
 },
 "nbformat": 4,
 "nbformat_minor": 2
}
