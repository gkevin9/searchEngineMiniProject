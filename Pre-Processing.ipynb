{
 "cells": [
  {
   "cell_type": "code",
   "execution_count": 17,
   "metadata": {},
   "outputs": [],
   "source": [
    "from nltk.corpus import stopwords\n",
    "from nltk.stem import WordNetLemmatizer\n",
    "import re\n",
    "import glob\n",
    "from nltk.stem.porter import PorterStemmer"
   ]
  },
  {
   "cell_type": "code",
   "execution_count": 18,
   "metadata": {},
   "outputs": [
    {
     "name": "stdout",
     "output_type": "stream",
     "text": "Harga  per kg adalah 20.500.\n"
    }
   ],
   "source": [
    "s = \"Harga mangga per kg adalah 20.500.\"\n",
    "s = re.sub(r'\\w*n\\w*','',s)\n",
    "print(s)"
   ]
  },
  {
   "cell_type": "code",
   "execution_count": 19,
   "metadata": {},
   "outputs": [],
   "source": [
    "def readFile(directory):\n",
    "    listFile = glob.glob(directory+\"/*.txt\")\n",
    "    return listFile"
   ]
  },
  {
   "cell_type": "code",
   "execution_count": 20,
   "metadata": {},
   "outputs": [],
   "source": [
    "def readPerWord(file):\n",
    "    words = []\n",
    "    f = open(file, 'r') #open file\n",
    "    for line in f:\n",
    "        words.extend(line.split(' ')) #tiap satu baris split per kata\n",
    "    \n",
    "    f.close()\n",
    "\n",
    "    return words"
   ]
  },
  {
   "cell_type": "code",
   "execution_count": 21,
   "metadata": {},
   "outputs": [],
   "source": [
    "def removeEnter(listOfWords): #['<BODY>\\n']\n",
    "    for i in range(len(listOfWords)):\n",
    "        listOfWords[i] = listOfWords[i].replace('\\n','')\n",
    "        \n",
    "    return listOfWords"
   ]
  },
  {
   "cell_type": "code",
   "execution_count": 22,
   "metadata": {},
   "outputs": [],
   "source": [
    "def removeNull(listOfWords): #['','','eat','food','','']\n",
    "    listOfWords = list(filter(None, listOfWords))\n",
    "    \n",
    "    return listOfWords"
   ]
  },
  {
   "cell_type": "code",
   "execution_count": 23,
   "metadata": {},
   "outputs": [],
   "source": [
    "def caseFolding(listOfWords):\n",
    "    for i in range(len(listOfWords)):\n",
    "        listOfWords[i] = listOfWords[i].casefold()\n",
    "        \n",
    "    return listOfWords"
   ]
  },
  {
   "cell_type": "markdown",
   "metadata": {},
   "source": [
    "<h3>Load Stop Word from NLTK</h3>"
   ]
  },
  {
   "cell_type": "code",
   "execution_count": 24,
   "metadata": {},
   "outputs": [],
   "source": [
    "stop_words = stopwords.words('english')"
   ]
  },
  {
   "cell_type": "code",
   "execution_count": 25,
   "metadata": {},
   "outputs": [],
   "source": [
    "def removeStopWord(listOfWords):\n",
    "    for i in range(len(listOfWords)):\n",
    "        if i in stop_words:\n",
    "            listOfWords.remove(i)\n",
    "        \n",
    "    return listOfWords"
   ]
  },
  {
   "cell_type": "markdown",
   "metadata": {},
   "source": [
    "<h3>Load Lemmatizer from NLTK</h3>"
   ]
  },
  {
   "cell_type": "code",
   "execution_count": 26,
   "metadata": {},
   "outputs": [],
   "source": [
    "lemmatizer = WordNetLemmatizer()"
   ]
  },
  {
   "cell_type": "code",
   "execution_count": 27,
   "metadata": {},
   "outputs": [],
   "source": [
    "def lemmatization(listOfWords):\n",
    "    for i in range(len(listOfWords)):\n",
    "        listOfWords[i] = lemmatizer.lemmatize(listOfWords[i])\n",
    "        \n",
    "    return listOfWords"
   ]
  },
  {
   "cell_type": "markdown",
   "execution_count": null,
   "metadata": {},
   "outputs": [],
   "source": [
    "<h3>Load Stemming from NLTK</h3>"
   ]
  },
  {
   "cell_type": "code",
   "execution_count": 28,
   "metadata": {},
   "outputs": [],
   "source": [
    "def stemming(listOfWords):\n",
    "    porter = PorterStemmer()\n",
    "    stemmed = [porter.stem(word) for word in listOfWords]\n",
    "    \n",
    "    return stemmed"
   ]
  },
  {
   "cell_type": "markdown",
   "metadata": {},
   "source": [
    "<h1>Test</h1>"
   ]
  },
  {
   "cell_type": "code",
   "execution_count": 29,
   "metadata": {},
   "outputs": [
    {
     "name": "stdout",
     "output_type": "stream",
     "text": ", 'consid', 'a', 'farm', 'credit', 'rescu', 'packag', 'by', 'easter', 'even', 'if', 'the', 'system', 'and', 'it', 'regul', 'do', 'not', 'ask', 'for', 'help', 'by', 'then.', '\"we\\'r', 'go', 'to', 'have', 'a', 'bill', 'to', 'markup,', 'i', 'guarante', 'you,', 'befor', 'the', 'easter', 'recess,\"', 'sen.', 'david', 'boren', '(d-okla.)', 'said.', 'senat', 'major', 'leader', 'robert', 'byrd', '(d-w.va.)', 'want', 'recommend', 'on', 'farm', 'credit', 'present', 'by', 'april', '11,', 'when', 'congress', 'is', 'schedul', 'to', 'break', 'for', 'easter,', 'boren', 'said.', 'boren', 'urg', 'the', 'farm', 'credit', 'administr', '(fca),', 'the', \"system'\", 'regulator,', 'to', 'quickli', 'make', 'a', 'formal', 'request', 'for', 'aid.', 'under', 'the', '1985', 'farm', 'credit', 'law', 'pass', 'by', 'congress,', 'the', 'fca,', 'a', 'regulator,', 'is', 'to', 'certifi', 'when', 'the', 'system', 'ha', 'exhaust', 'all', 'it', 'capit', 'and', 'need', 'feder', 'govern', 'help.', 'however,', 'fca', 'chairman', 'frank', 'naylor', 'said', 'becaus', 'much', 'of', 'the', \"system'\", 'remain', 'capit', 'is', 'tied-up', 'in', 'legal', 'action,', 'he', 'could', 'not', 'technic', 'certifi', 'a', 'rescu', 'is', 'need', 'thi', 'year', 'and', 'perhap', 'not', 'even', 'in', '1988.', 'the', 'other', 'republican', 'member', 'of', 'the', 'three-man', 'fca', 'board,', 'marvin', 'duncan,', 'agreed.', 'but', 'boren', 'urg', 'that', 'even', 'if', 'fca', 'cannot', 'technic', 'certifi', 'aid', 'is', 'needed,', 'it', 'should', 'request', 'help', 'informally.', '\"we', 'all', 'know', 'we', 'need', 'a', 'capit', 'infusion,\"', 'boren', 'said.', 'boren', 'and', 'the', 'fca', 'offici', 'spoke', 'at', 'a', 'hear', 'on', 'the', 'plight', 'of', 'the', 'farm', 'credit', 'system.', 'also', 'at', 'the', 'hearing,', 'brent', 'beesely,', 'chief', 'execut', 'of', 'the', 'farm', 'credit', 'council', 'repres', 'the', 'system,', 'said', 'that', 'at', 'the', 'end', 'of', '1986', 'the', 'system', 'had', 'onli', '1.5', 'billion', 'dlr', 'in', 'work', 'capit', 'remain', 'after', 'loss', 'of', '4.6', 'billion', 'dlr', 'over', 'the', 'last', 'two', 'years.', 'while', 'he', 'did', 'not', 'ask', 'for', 'govern', 'aid,', 'beesley', 'indic', 'the', 'situat', 'is', 'seriou', 'in', 'some', 'of', 'the', '12', 'system', 'districts.', '\"a', 'signific', 'number', 'of', 'bank', 'and', 'associ', 'in', 'the', 'most', 'econom', 'depress', 'area', 'have', 'and', 'will', 'continu', 'to', 'suffer', 'extraordinari', 'losses,\"', 'beesley', 'said.', 'jim', 'billington,', 'democrat', 'member', 'of', 'the', 'fca', 'board,', 'said', 'the', 'troubl', 'of', 'the', 'system', 'have', 'encourag', 'the', 'flight', 'of', 'some', 'one', 'billion', 'dlr', 'per', 'month', 'from', 'the', 'system', 'a', 'borrow', 'repay', 'loans.', 'the', \"system'\", 'total', 'portfolio', 'shrank', 'to', '54.6', 'billion', 'dlr', 'by', 'the', 'end', 'of', 'last', 'year', 'from', '66.6', 'billion', 'the', 'previou', 'year.', 'fca', 'board', 'member', 'said', 'both', 'borrow', 'and', 'holder', 'of', 'bond', 'in', 'the', 'system', 'need', 'to', 'be', 'assur', 'their', 'money', 'is', 'safe.', 'naylor', 'suggest', 'the', 'need', 'for', 'a', 'feder', 'assur', 'to', 'bondholders.', '\"the', 'bondhold', 'have', 'no', 'worri', 'at', 'thi', 'time,\"', 'billington', 'said.', 'naylor', 'said', 'sever', 'propos', 'for', 'revamp', 'the', 'farm', 'credit', 'system', 'are', 'circulating.', 'the', 'propos', 'rang', 'from', 'consolid', 'of', 'the', 'system', 'into', 'a', 'central', 'nation', 'lender,', 'to', 'de-centr', 'into', 'semi-independ', 'institutions.', 'but', 'he', 'and', 'the', 'system', 'spokesman', 'beesley', 'were', 'cautiou', 'about', 'propos', 'for', 'a', 'secondari', 'market', 'on', 'farm', 'loans.', 'those', 'propos', 'would', 'packag', 'farm', 'loan', 'for', 'resal', 'to', 'investors.', 'naylor', 'and', 'beesley', 'said', 'a', 'secondari', 'market', 'set-up', 'outsid', 'the', 'farm', 'credit', 'system', 'would', 'hurt', 'the', 'system.', 'but', 'beesley', 'said', 'a', 'secondari', 'market', 'with', 'the', 'farm', 'credit', 'system', 'a', 'it', 'agent', 'could', 'be', 'develop', 'without', 'congression', 'legislation.', '</body>']\n--\n['<date>26-feb-1987', '18:00:08.86</date>', '<title>report', 'could', 'be', 'final', 'blow', 'for', 'regan</title>', '<body>th', 'tower', \"commission'\", 'scath', 'comment', 'on', 'presid', \"reagan'\", 'embattl', 'chief', 'of', 'staff', 'donald', 'regan', 'could', 'signal', 'the', 'death', 'knell', 'to', 'hi', 'white', 'hous', 'tenure,', 'but', 'the', 'impact', 'of', 'it', 'strong', 'critic', 'on', 'two', 'other', 'top', 'offici', 'wa', 'le', 'clear.', 'regan', 'ha', 'come', 'in', 'for', 'tough', 'critic', 'for', 'hi', 'handl', 'of', \"reagan'\", 'worst', 'polit', 'crisi', 'sinc', 'detail', 'of', 'the', 'covert', 'arm', 'sale', 'to', 'iran', 'and', 'divers', 'of', 'profit', 'to', 'nicaraguan', 'rebel', 'first', 'emerg', 'last', 'november.', 'but', 'critic', 'of', 'the', 'role', 'of', 'secretari', 'of', 'state', 'georg', 'shultz', 'and', 'defens', 'secretari', 'caspar', 'weinberger,', 'who', 'said', 'they', 'oppos', 'the', 'iran', 'arm', 'initi', 'yet', 'fail', 'to', 'end', 'it,', 'had', 'been', 'mute', 'until', 'the', 'releas', 'of', 'the', 'tower', 'commiss', 'report.', '\"their', 'oblig', 'wa', 'to', 'give', 'the', 'presid', 'their', 'full', 'support', 'and', 'continu', 'advic', 'with', 'respect', 'to', 'the', 'program', 'or,', 'if', 'they', 'could', 'not', 'in', 'conscienc', 'do', 'that,', 'to', 'so', 'inform', 'the', 'president,\"', 'the', 'report', 'said', 'after', 'a', 'three-month', 'probe.', '\"instead,', 'they', 'simpli', 'distanc', 'themselv', 'from', 'the', 'program.', 'they', 'protect', 'the', 'record', 'a', 'to', 'their', 'own', 'posit', 'on', 'thi', 'issue.', 'they', 'were', 'not', 'energet', 'in', 'attempt', 'to', 'protect', 'the', 'presid', 'from', 'the', 'consequ', 'of', 'hi', 'person', 'commit', 'to', 'free', 'the', 'hostages.\"', 'the', 'report', 'save', 'some', 'of', 'it', 'most', 'scath', 'languag', 'for', 'regan,', 'a', 'gruff', 'former', 'wall', 'street', 'execut', 'and', 'close', 'person', 'friend', 'of', 'reagan', 'whose', 'autocrat', 'rule', 'in', 'the', 'white', 'hous', 'anger', 'some', 'top', 'reagan', 'offici', 'and,', 'perhap', 'more', 'importantly,', \"reagan'\", 'wife', 'nancy.', '\"more', 'than', 'almost', 'ani', 'chief', 'of', 'staff', 'of', 'recent', 'memory,', 'he', 'assert', 'person', 'control', 'over', 'the', 'white', 'hous', 'staff', 'and', 'sought', 'to', 'extend', 'thi', 'control', 'to', 'the', 'nation', 'secur', 'adviser,\"', 'said', 'the', 'report.', 'washington', 'analyst', 'said', \"regan'\", 'departur', 'now', 'appear', 'to', 'be', 'onli', 'a', 'matter', 'of', 'timing.', 'mani', 'expect', 'the', 'presid', 'to', 'announc', 'it', 'when', 'he', 'address', 'the', 'nation', 'on', 'the', 'tower', \"commission'\", 'find', 'next', 'week.', 'with', \"regan'\", 'departur', 'appar', 'immin', 'and', 'poindext', 'and', 'other', 'key', 'figur', 'in', 'the', 'scandal', 'alreadi', 'out', 'of', 'office,', 'the', \"report'\", 'tough', 'critic', 'of', 'shultz', 'and', 'weinberg', 'could', 'turn', 'the', 'spotlight', 'on', 'their', 'future.', 'senat', 'republican', 'leader', 'robert', 'dole,', 'a', 'key', 'reagan', 'ally,', 'told', 'report', 'the', 'report', 'disclos', '\"coloss', 'blunders\"', 'and', 'said', 'peopl', 'who', 'had', 'not', 'serv', 'the', 'presid', 'well', 'should', 'step', 'aside,', 'but', 'he', 'did', 'not', 'specifi', 'who', 'should', 'go.', '\"it', 'would', 'seem', 'to', 'me', 'that', 'if', 'you', \"don't\", 'protect', 'the', 'president,', 'you', \"don't\", 'serv', 'the', 'presid', 'well,', 'then', 'you', 'should', 'move', 'on,\"', 'the', 'kansa', 'republican,', 'a', 'like', 'presidenti', 'candid', 'next', 'year,', 'said.', 'one', 'republican', 'strategist', 'said', 'he', 'believ', 'regan', 'would', 'not', 'be', 'the', 'onli', 'white', 'hous', 'offici', 'to', 'leav', 'in', 'the', 'near', 'future.', '</body>']\n--\n['<date>26-feb-1987', '18:02:58.44</date>', '<title>swiss', 'economi', 'in', 'excel', 'condition,', 'oecd', 'says</title>', \"<body>switzerland'\", 'economy,', 'combin', 'low', 'unemployment,', 'financi', 'stabil', 'and', 'a', 'larg', 'extern', 'payment', 'surplus,', 'is', 'in', 'excel', 'condit', 'and', 'face', 'a', 'satisfactori', 'future,', 'the', 'organis', 'for', 'econom', 'cooper', 'and', 'development,', 'oecd,', 'said.', 'thi', 'reflect', 'the', 'success', 'of', 'stabl', 'and', 'rel', 'tight', 'fiscal', 'and', 'monetari', 'polici', 'follow', 'by', 'the', 'government,', 'it', 'said.', 'the', 'oecd,', 'in', 'it', 'annual', 'report', 'on', 'switzerland,', 'pick', 'out', 'some', 'sign', 'of', 'a', 'slowdown', 'in', 'activ', 'and', 'a', 'slight', 'pick-up', 'in', 'inflat', 'thi', 'year,', 'but', 'said', 'these', 'gave', 'no', 'caus', 'for', 'concern.', 'the', 'studi', 'forecast', 'a', 'declin', 'in', 'gross', 'domest', 'product', 'growth', 'to', '1.75', 'pct', 'thi', 'year', 'from', 'an', 'estim', 'two', 'pct', 'in', '1986', 'and', 'a', 'small', 'rise', 'in', 'consum', 'price', 'inflat', 'to', '1.25', 'pct', 'after', 'last', \"year'\", 'sharp', 'fall', 'to', '0.75', 'pct', 'from', '3.6', 'pct', 'in', '1985.', 'but', 'it', 'said', 'job', 'creation', 'should', 'continu', 'to', 'absorb', 'a', 'modest', 'increas', 'in', 'the', 'workforce,', 'leav', 'the', 'unemploy', 'rate', 'unchang', 'at', 'around', 'one', 'pct,', 'the', 'lowest', 'in', 'the', '24-industri', 'nation', 'oecd', 'area.', 'assum', 'an', 'averag', 'exchang', 'rate', 'of', '1.71', 'swiss', 'franc', 'to', 'the', 'dollar', 'thi', 'year,', 'against', '1.69', 'in', 'the', 'second', 'half', 'of', '1986,', 'the', 'report', 'forecast', 'a', '2.75', 'pct', 'rise', 'in', 'export', 'and', 'a', '3.5', 'pct', 'rise', 'in', 'import', 'thi', 'year', 'after', 'rise', 'of', '3.25', 'pct', 'and', '6.5', 'pct', 'respect', 'in', '1986.', 'the', 'faster', 'growth', 'of', 'import', 'compar', 'with', 'export', 'thi', 'year', 'and', 'last,', 'reflect', 'buoyant', 'privat', 'consumption,', 'meant', 'that', 'the', 'contribut', 'of', 'the', 'foreign', 'payment', 'balanc', 'to', 'gdp', 'would', 'shrink', 'in', 'both', 'years.', 'but', '\"given', \"switzerland'\", 'larg', 'extern', 'surplus,', 'there', 'should', 'be', 'no', 'concern', 'if', 'domest', 'demand', 'grow', 'faster', 'than', 'gdp...which,', 'if', 'onli', 'in', 'a', 'small', 'way,', 'would', 'contribut', 'to', 'improv', 'intern', 'balances,\"', 'the', 'oecd', 'said.', 'real', 'privat', 'consumpt', 'appear', 'to', 'have', 'been', 'unusu', 'buoyant', 'last', 'year,', 'with', 'a', '3.25', 'pct', 'growth', 'rate,', 'after', 'sever', 'year', 'of', 'rel', 'weakness,', 'it', 'noted.', 'in', '1987', 'privat', 'consumpt', 'wa', 'expect', 'to', 'slow', 'somewhat', 'to', 'a', '2.25', 'pct', 'growth', 'rate,', 'but', 'should', 'still', 'outstrip', 'overal', 'gdp,', 'it', 'added.', 'the', 'outlook', 'for', 'invest', 'in', 'plant', 'and', 'machineri', 'remain', 'bright', 'into', '1987,', 'and', 'with', 'capac', 'use', 'at', 'near', 'record', 'level', 'last', 'year', 'there', 'wa', 'scope', 'for', 'rationalis', 'and', 'modernis', 'in', 'both', 'the', 'industri', 'and', 'servic', 'sectors,', 'it', 'said.', 'a', 'a', 'consequence,', 'growth', 'in', 'machineri', 'and', 'equip', 'invest', 'is', 'like', 'to', 'deceler', 'onli', 'slightli', 'thi', 'year', 'after', 'vigor', 'growth', 'in', '1986.', 'but', 'the', 'report', 'rais', 'a', 'questionmark', 'over', 'the', 'prospect', 'for', 'tourism', 'and', 'the', 'bank', 'industry,', 'two', 'major', 'servic', 'sector', 'earner', 'of', 'foreign', 'exchange.', 'the', 'long-term', 'appreci', 'of', 'the', 'swiss', 'franc,', 'and', 'the', 'acceler', 'deregul', 'of', 'foreign', 'bank', 'markets,', 'could', 'lead', 'to', 'a', 'loss', 'of', 'intern', 'market', 'share', 'for', 'both,', 'it', 'said.', 'particularli', 'for', 'the', 'banks,', '\"recent', 'develop', 'in', 'intern', 'financi', 'market', 'give', 'rise', 'to', 'the', 'question', 'whether', 'the', 'swiss', 'financi', 'system,', 'which', 'ha', 'shown', 'substanti', 'flexibl', 'in', 'the', 'past,', 'is', 'adapt', 'itself', 'at', 'the', 'speed', 'requir', '...', 'to', 'preserv', 'it', 'competit', 'position,\"', 'it', 'said.', '</body>']\n--\n['<date>26-feb-1987', '18:04:52.91</date>', '<title>u.s.', 'wheat', 'bonu', 'to', 'soviet', 'call', 'dormant</title>', '<body>th', 'u.s.', 'agricultur', 'depart', 'is', 'not', 'activ', 'consid', 'offer', 'subsid', 'wheat', 'to', 'the', 'soviet', 'union', 'under', 'the', 'export', 'enhanc', 'program', '(eep),', 'senior', 'usda', 'offici', 'said.', 'however,', 'grain', 'trade', 'analyst', 'said', 'the', 'propos', 'ha', 'not', 'been', 'rule', 'out', 'and', 'that', 'an', 'offer', 'might', 'be', 'made,', 'though', 'not', 'in', 'the', 'veri', 'near', 'future.', '\"the', 'grain', 'compani', 'are', 'tri', 'to', 'get', 'thi', 'fire', 'up', 'again,\"', 'an', 'aid', 'to', 'agricultur', 'secretari', 'richard', 'lyng', 'said.', '\"but', 'there', 'just', \"isn't\", 'much', 'talk', 'about', 'it,', 'inform', 'or', 'formally.\"', 'most', 'analyst', 'interview', 'by', 'reuter', 'were', 'more', 'confid', 'than', 'usda', 'offici', 'that', 'bonu', 'wheat', 'would', 'be', 'offer', 'to', 'the', 'soviets,', 'even', 'though', 'u.s.', 'offici', 'did', 'not', 'make', 'such', 'an', 'offer', 'when', 'they', 'held', 'grain', 'talk', 'with', 'soviet', 'counterpart', 'earlier', 'thi', 'week.', 'but', 'administr', 'and', 'privat', 'sourc', 'agre', 'that', 'if', 'the', 'reagan', 'administr', 'did', 'decid', 'to', 'offer', 'subsid', 'wheat', 'to', 'moscow,', 'it', 'could', 'take', 'sever', 'months.', '\"i', 'just', \"don't\", 'see', 'ani', 'propos', 'like', 'that', 'sail', 'through', 'ani', 'interag', 'process,\"', 'the', 'aid', 'to', 'lyng', 'said.', '\"an', 'export', 'enhanc', 'offer', 'is', 'not', 'consumm', 'overnight,\"', 'said', 'one', 'former', 'usda', 'official,', 'who', 'note', 'that', 'the', 'administr', 'took', 'three', 'month', 'to', 'decid', 'in', 'favor', 'of', 'sell', 'china', 'wheat', 'under', 'the', 'subsidi', 'program.', 'an', 'offici', 'repres', 'a', 'larg', 'grain', 'trade', 'compani', 'said', 'deliber', 'within', 'usda', 'might', 'be', 'nudg', 'along', 'by', 'member', 'of', 'congress,', 'a', 'number', 'of', 'whom', 'urg', 'usda', 'thi', 'week', 'to', 'make', 'a', 'wheat', 'subsidi', 'offer', 'to', 'the', 'soviets.', 'but', \"lyng'\", 'aid', 'said', 'that', 'dure', 'a', 'day-long', 'visit', 'to', 'capitol', 'hill', 'yesterday,', 'hous', 'member', 'did', 'not', 'press', 'the', 'secretari', 'on', 'the', 'subsidi', 'question', 'a', 'singl', 'time.', 'the', \"administration'\", 'interag', 'trade', 'polici', 'review', 'group,', 'compris', 'of', 'subcabinet-level', 'officials,', 'ha', 'not', 'been', 'ask', 'to', 'clear', 'a', 'request', 'to', 'offer', 'moscow', 'wheat', 'under', 'the', 'eep,', 'offici', 'at', 'the', 'u.s.', 'trade', \"representative'\", 'offic', 'said.', 'in', 'their', 'talk', 'thi', 'week,', 'the', 'two', 'side', 'discuss', 'the', \"administration'\", 'previou', 'eep', 'offer', 'but', 'did', 'not', 'talk', 'about', 'ani', 'new', 'initiative.', 'one', 'usda', 'offici', 'who', 'took', 'part', 'in', 'the', 'consult', 'thi', 'week', 'describ', 'them', 'a', 'an', 'exchang', 'of', '\"calm,', 'basic,', 'factual', 'economics.\"', 'anoth', 'usda', 'offici', 'said', 'there', 'wa', '\"not', 'even', 'an', 'inform', 'suggest', 'or', 'hint\"', 'that', 'the', 'soviet', 'would', 'live', 'up', 'to', 'their', 'pledg', 'to', 'buy', 'four', 'mln', 'tonn', 'of', 'wheat', 'thi', 'year', 'if', 'they', 'were', 'grant', 'more', 'favor', 'terms.', 'usda', 'and', 'privat', 'sourc', 'agre', 'that', 'consider', 'of', 'an', 'eep', 'initi', 'by', 'interag', 'review', 'group', 'like', 'would', 'be', 'delay', 'becaus', 'of', 'disarray', 'within', 'the', 'white', 'hous', 'stem', 'from', 'the', 'iran', 'arm', 'affair.', '</body>']\n--\n['<date>26-feb-1987', '18:07:18.31</date>', '<title>u.s.', 'treasuri', 'part', 'of', 'argentin', 'bridg', 'loan</title>', '<body>th', 'u.s.', 'treasuri', 'said', 'it', 'wa', 'will', 'to', 'particip', 'with', 'sever', 'other', 'industri', 'countri', 'in', 'provid', 'a', '500', 'mln-dlr', 'short-term', 'bridg', 'loan', 'to', 'argentina.', 'the', 'treasuri', 'announcec', 'did', 'not', 'name', 'the', 'other', 'countri', 'nor', 'the', 'amount', 'of', 'financ', 'the', 'unit', 'state', 'wa', 'will', 'to', 'supply.', 'argentina', 'announc', 'a', 'wage', 'and', 'price', 'freez', 'on', 'wednesday', 'night', 'and', 'is', 'negoti', 'with', 'new', 'york', 'banker', 'for', 'about', '2.15', 'billion', 'dlr', 'in', 'new', 'loan', 'and', 'other', 'financing.', '\"our', 'willing', 'to', 'particip', 'in', 'thi', 'multilater', 'short-term', 'financ', 'indic', 'our', 'support', 'for', \"argentina'\", 'econom', 'program', 'to', 'achiev', 'sustain', 'growth', 'and', 'a', 'viabl', 'balanc', 'of', 'payment', 'position,\"', 'the', 'treassuri', 'statement', 'said.', 'in', 'announc', 'a', 'four-month', 'wage', 'and', 'price', 'freeze,', 'argentin', 'offici', 'said', 'the', 'countri', 'need', '\"a', 'more', 'seren', 'climate\"', 'to', 'carri', 'out', 'structur', 'chang', 'in', 'the', 'economy.', 'but', 'argentina', 'did', 'not', 'suspend', 'interest', 'payment', 'on', 'it', 'foreign', 'debts,', 'a', 'neighbor', 'brazil', 'did', 'last', 'week.', 'the', 'treasuri', 'said', 'the', 'u.s.', 'share', 'of', 'bridg', 'financ', 'for', 'argentina', 'would', 'come', 'from', 'it', 'exchang', 'stabil', 'fund.', 'the', 'one-pag', 'statement', 'note', 'the', 'intern', 'monetari', 'fund', 'express', 'confid', 'in', \"argentina'\", 'econom', 'polici', 'and', 'prospect', 'by', 'approv', 'a', 'new', 'stand-bi', 'financ', 'arrang', 'for', 'it', 'on', 'februari', '18.', '\"argentina', 'is', 'expect', 'to', 'qualifi', 'for', 'imf', 'balance-of-pay', 'financ', 'which', 'would', 'enabl', 'argentina', 'to', 'repay', 'a', 'multilater', 'bridg', 'loan', 'and', 'support', 'the', 'implement', 'of', 'it', 'econom', 'program,\"', 'the', 'statement', 'said.', 'the', 'latest', 'argentin', 'action', 'mark', 'the', 'second', 'time', 'in', 'le', 'than', 'two', 'year', 'it', 'govern', 'ha', 'use', 'a', 'wage', 'and', 'price', 'freez', 'to', 'restrain', 'inflation.', 'the', 'debt', 'talk', 'in', 'new', 'york', 'are', 'be', 'head', 'by', 'argentin', 'financ', 'minist', 'mario', 'brodersohn', 'and', 'are', 'expect', 'to', 'last', 'for', 'sever', 'days.', 'along', 'with', 'new', 'financing,', 'argentina', 'reportedli', 'want', 'lower', 'interest', 'rate', 'on', 'an', 'exist', 'total', '53', 'billion', 'dlr', 'in', 'foreign', 'debt', 'and', 'elimin', 'of', 'foreign', \"banks'\", 'control', 'over', 'how', 'some', 'of', 'the', 'money', 'is', 'loan', 'in', 'argentina.', '</body>']\n--\n['<date>26-feb-1987', '18:09:37.31</date>', '<title>compani', 'set', 'bid', 'for', 'canada', 'helicopt', 'contract</title>', '<body>(e.h.', 'industri', '(canada)', 'inc)', 'said', 'it', 'plan', 'to', 'bid', 'it', 'eh101', 'helicopt', 'to', 'replac', \"canada'\", 'fleet', 'of', 'sea', 'king', 'aircraft.', 'it', 'said', 'it', 'is', 'join', 'with', '(bell', 'textron', 'of', 'canada),', 'canadian', 'marconi', 'co', '(cmw),', '(imp', 'group),', 'and', '(paramax', 'electron', 'inc)', 'and', 'is', 'support', 'by', '(augusta', 's.p.a.),', '(sikorski', 'aircraft),', 'and', '(westland', 'group)', 'in', 'the', 'bid.', 'the', 'eh101,', 'aim', 'at', 'detect', 'and', 'engag', 'submarines,', 'wa', 'design', 'for', 'use', 'by', 'the', 'british', 'and', 'italian', 'navi', 'and', 'is', 'due', 'to', 'enter', 'servic', 'in', '1992,', 'e.h.', 'said.', '</body>']\n--\n['<date>26-feb-1987', '18:11:09.21</date>', '<title>alatenn', 'resourc', 'inc', '&lt;atng>', '4th', 'qtr', 'net</title>', '<body>shr', '75', 'ct', 'v', '52', 'ct', 'net', '1,699,124', 'v', '1,177,786', 'rev', '45.6', 'mln', 'v', '31.6', 'mln', '12', 'mth', 'shr', '2.22', 'dlr', 'v', '2.20', 'dlr', 'net', '5,057,292', 'v', '4,961,085', 'rev', '130.2', 'mln', 'v', '126.7', 'mln', '</body>']\n--\n"
    }
   ],
   "source": [
    "listOfFiles = readFile('D:/Kuliah/Semester_6/STBI/New folder/searchEngineMiniProject/DataRouter')\n",
    "listOfWordsOfFile = []\n",
    "\n",
    "for i in listOfFiles: #iterasi tiap file\n",
    "    listOfWords = readPerWord(i)\n",
    "    listOfWords = removeEnter(listOfWords)\n",
    "    listOfWords = removeNull(listOfWords)\n",
    "    listOfWords = caseFolding(listOfWords)\n",
    "    listOfWords = removeStopWord(listOfWords)\n",
    "    listOfWords = lemmatization(listOfWords)\n",
    "    listOfWords = stemming(listOfWords)\n",
    "\n",
    "    listOfWordsOfFile.append(listOfWords)\n",
    "\n",
    "# listOfWords = removeEnter(listOfWords)\n",
    "    \n",
    "for i in listOfWordsOfFile:\n",
    "    print(i)\n",
    "    print('--')"
   ]
  }
 ],
 "metadata": {
  "kernelspec": {
   "display_name": "Python 3",
   "language": "python",
   "name": "python3"
  },
  "language_info": {
   "codemirror_mode": {
    "name": "ipython",
    "version": 3
   },
   "file_extension": ".py",
   "mimetype": "text/x-python",
   "name": "python",
   "nbconvert_exporter": "python",
   "pygments_lexer": "ipython3",
   "version": "3.7.2-final"
  }
 },
 "nbformat": 4,
 "nbformat_minor": 2
}