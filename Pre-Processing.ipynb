{
 "cells": [
  {
   "cell_type": "code",
   "execution_count": 127,
   "metadata": {},
   "outputs": [],
   "source": [
    "from nltk.corpus import stopwords\n",
    "from nltk.stem import WordNetLemmatizer\n",
    "import re\n",
    "import glob\n",
    "from nltk.stem.porter import PorterStemmer\n",
    "from itertools import chain #untuk flaten array 2d"
   ]
  },
  {
   "cell_type": "code",
   "execution_count": 128,
   "metadata": {},
   "outputs": [],
   "source": [
    "def readFile(directory):\n",
    "    listFile = glob.glob(directory+\"/*.txt\")\n",
    "    return listFile"
   ]
  },
  {
   "cell_type": "markdown",
   "execution_count": null,
   "metadata": {},
   "outputs": [],
   "source": [
    "## normalisasi"
   ]
  },
  {
   "cell_type": "code",
   "execution_count": 129,
   "metadata": {},
   "outputs": [],
   "source": [
    "def normalisasi(body):\n",
    "\n",
    "    #hapus tag\n",
    "    hapusTag = r'<DATE>|</DATE>|<TITLE>|</TITLE>|<BODY>|</BODY>'\n",
    "    body = re.sub(hapusTag, ' ', body)\n",
    "\n",
    "    #hapus \\n\n",
    "    hapusEnter = r'\\n'\n",
    "    body = re.sub(hapusEnter, ' ', body)\n",
    "\n",
    "    # hapus htmlEntities \n",
    "    htmlEntities = r\"&lt;\"\n",
    "    body = re.sub(htmlEntities, '', body)\n",
    "\n",
    "    kutip2 = r'[\\\"\\(\\)\\<\\>\\+\\?]'\n",
    "    body = re.sub(kutip2, '', body)\n",
    "\n",
    "    # hapus titik dan koma pada akhir string\n",
    "    titikDiAkhirString = r\"([a-zA-Z]+)([^\\w\\s])\"\n",
    "    temp = re.findall(titikDiAkhirString, body)\n",
    "    x = True\n",
    "    while x :\n",
    "        print(temp)\n",
    "        temp = re.findall(titikDiAkhirString, body)\n",
    "        if len(temp) == 0 :\n",
    "            x = False\n",
    "        for i in temp:\n",
    "            temp2 = i[0] + i[1]\n",
    "            body = re.sub(temp2, i[0], body)\n",
    "\n",
    "    # hapus titik dan koma pada akhir angka    \n",
    "    titikSetelahAngka = r'(\\d+)(^\\w)\\s'    \n",
    "    temp = re.findall(titikSetelahAngka,body)\n",
    "    while x :\n",
    "        print(temp)\n",
    "        temp = re.findall(titikSetelahAngka, body)\n",
    "        if len(temp) == 0:\n",
    "            x = False\n",
    "        for i in temp:\n",
    "            temp2 = i[0] + i[1]\n",
    "            body = re.sub(temp2, i[0], body)\n",
    "\n",
    "    kutips = r\"'s\"\n",
    "    body = re.sub(kutips, '', body)\n",
    "    \n",
    "    spasiLebihDariSatu = r'\\s+'\n",
    "    body = re.sub(spasiLebihDariSatu, ' ', body)\n",
    "    return body"
   ]
  },
  {
   "cell_type": "code",
   "execution_count": 130,
   "metadata": {},
   "outputs": [],
   "source": [
    "def readText(file):\n",
    "    words = []\n",
    "    f = open(file, 'r') #open file\n",
    "    text = f.read()    \n",
    "    f.close()\n",
    "\n",
    "    return text"
   ]
  },
  {
   "cell_type": "code",
   "execution_count": 131,
   "metadata": {},
   "outputs": [],
   "source": [
    "def removeEnter(listOfWords): #['<BODY>\\n']\n",
    "    for i in range(len(listOfWords)):\n",
    "        listOfWords[i] = listOfWords[i].replace('\\n','')\n",
    "        \n",
    "    return listOfWords"
   ]
  },
  {
   "cell_type": "code",
   "execution_count": 132,
   "metadata": {},
   "outputs": [],
   "source": [
    "def removeNull(listOfWords): #['','','eat','food','','']\n",
    "    listOfWords = list(filter(None, listOfWords))\n",
    "    \n",
    "    return listOfWords"
   ]
  },
  {
   "cell_type": "code",
   "execution_count": 133,
   "metadata": {},
   "outputs": [],
   "source": [
    "def caseFolding(listOfWords):\n",
    "    for i in range(len(listOfWords)):\n",
    "        listOfWords[i] = listOfWords[i].casefold()\n",
    "        \n",
    "    return listOfWords"
   ]
  },
  {
   "cell_type": "markdown",
   "execution_count": null,
   "metadata": {},
   "outputs": [],
   "source": [
    "<h3>Load Stop Word from NLTK</h3>"
   ]
  },
  {
   "cell_type": "code",
   "execution_count": 134,
   "metadata": {},
   "outputs": [],
   "source": [
    "stop_words = stopwords.words('english')"
   ]
  },
  {
   "cell_type": "code",
   "execution_count": 135,
   "metadata": {},
   "outputs": [],
   "source": [
    "def removeStopWord(listOfWords):\n",
    "    for i in listOfWords:\n",
    "        if i in stop_words:\n",
    "            listOfWords.remove(i)\n",
    "        \n",
    "    return listOfWords"
   ]
  },
  {
   "cell_type": "markdown",
   "execution_count": null,
   "metadata": {},
   "outputs": [],
   "source": [
    "<h3>Load Lemmatizer from NLTK</h3>"
   ]
  },
  {
   "cell_type": "code",
   "execution_count": 136,
   "metadata": {},
   "outputs": [],
   "source": [
    "lemmatizer = WordNetLemmatizer()"
   ]
  },
  {
   "cell_type": "code",
   "execution_count": 137,
   "metadata": {},
   "outputs": [],
   "source": [
    "def lemmatization(listOfWords):\n",
    "    for i in range(len(listOfWords)):\n",
    "        listOfWords[i] = lemmatizer.lemmatize(listOfWords[i])\n",
    "        \n",
    "    return listOfWords"
   ]
  },
  {
   "cell_type": "markdown",
   "execution_count": null,
   "metadata": {},
   "outputs": [],
   "source": [
    "<h3>Load Stemming from NLTK</h3>"
   ]
  },
  {
   "cell_type": "code",
   "execution_count": 138,
   "metadata": {},
   "outputs": [],
   "source": [
    "def stemming(listOfWords):\n",
    "    porter = PorterStemmer()\n",
    "    stemmed = [porter.stem(word) for word in listOfWords]\n",
    "    \n",
    "    return stemmed"
   ]
  },
  {
   "cell_type": "markdown",
   "execution_count": null,
   "metadata": {},
   "outputs": [],
   "source": [
    "# Token"
   ]
  },
  {
   "cell_type": "code",
   "execution_count": 139,
   "metadata": {},
   "outputs": [],
   "source": [
    "def make_token(txt):\n",
    "    list_hasil = txt.split(\" \")            \n",
    "    return list_hasil"
   ]
  },
  {
   "cell_type": "markdown",
   "execution_count": null,
   "metadata": {},
   "outputs": [],
   "source": [
    "# Term"
   ]
  },
  {
   "cell_type": "code",
   "execution_count": 140,
   "metadata": {},
   "outputs": [],
   "source": [
    "def make_term(file_name_token,file_name_term):\n",
    "    list_term = []\n",
    "    f = open(file_name_token, 'r')\n",
    "    text = f.read()\n",
    "    f.close()\n",
    "    \n",
    "    list_token = text.split(\"\\n\")\n",
    "    for i in list_token:\n",
    "        if i not in list_term:\n",
    "            list_term.append(i)\n",
    "            \n",
    "    f1 = open(file_name_term,'a+')\n",
    "    text = concate_term_newline(list_term)\n",
    "    print(text)    \n",
    "    f1.write(text)\n",
    "    f1.close()\n"
   ]
  },
  {
   "cell_type": "code",
   "execution_count": 141,
   "metadata": {},
   "outputs": [],
   "source": [
    "def concate_term_newline(list_in):\n",
    "    hasil = ''\n",
    "    for i in list_in:\n",
    "        hasil = hasil + \"\\n \" + i\n",
    "        \n",
    "    return hasil"
   ]
  },
  {
   "cell_type": "markdown",
   "execution_count": null,
   "metadata": {},
   "outputs": [],
   "source": [
    "# tulis data"
   ]
  },
  {
   "cell_type": "code",
   "execution_count": 142,
   "metadata": {},
   "outputs": [],
   "source": [
    "def writeFile(list_in,file_name):\n",
    "    list_flatten = list(chain.from_iterable(list_in))\n",
    "        \n",
    "    str_of_list = concate_term_newline(list_flatten)\n",
    "    \n",
    "    saveFileToken = open(file_name, 'a+' )\n",
    "    saveFileToken.write(str_of_list)\n",
    "    saveFileToken.close()\n",
    "#     print(list_hasil)\n",
    "    "
   ]
  },
  {
   "cell_type": "markdown",
   "execution_count": null,
   "metadata": {},
   "outputs": [],
   "source": [
    "<h2>Add Doc Number</h2>"
   ]
  },
  {
   "cell_type": "code",
   "execution_count": 143,
   "metadata": {},
   "outputs": [],
   "source": [
    "def addDocNumber(_listIn, _docNum):\n",
    "#     _docNum[14:18]\n",
    "    for i in range(len(_listIn)):\n",
    "        _listIn[i] = _listIn[i] + '_' + _docNum[14:18]\n",
    "        \n",
    "    return _listIn"
   ]
  },
  {
   "cell_type": "markdown",
   "execution_count": null,
   "metadata": {},
   "outputs": [],
   "source": [
    "<h1>Main</h1>"
   ]
  },
  {
   "cell_type": "code",
   "execution_count": 144,
   "metadata": {},
   "outputs": [
    {
     "name": "stdout",
     "output_type": "stream",
     "text": " accounted_0491\n  19_0491\n  from_0491\n  6.5_0491\n  1985._0491\n  the_0491\n  product_0491\n  slated_0491\n  include_0491\n  automobile_0491\n  machinery_0491\n  part_0491\n  catalytic_0491\n  converter_0491\n  fuel_0491\n  injection_0491\n  system_0491\n  electronic_0491\n  emission_0491\n  testing_0491\n  said_0491\n  26-feb1987_0492\n  17:55:36.88_0492\n  banksexpres_0492\n  grave_0492\n  concern_0492\n  brazil_0492\n  debt_0492\n  move_0492\n  14-bank_0492\n  advisory_0492\n  committee_0492\n  expressed_0492\n  chief_0492\n  negotiator_0492\n  antonio_0492\n  padua_0492\n  de_0492\n  sixas_0492\n  country_0492\n  suspension_0492\n  interest_0492\n  payment_0492\n  according_0492\n  telex_0492\n  chairman_0492\n  citibank_0492\n  creditor_0492\n  bank_0492\n  worldwide_0492\n  banker_0492\n  saidthe_0492\n  diplomatic_0492\n  phrase_0492\n  belied_0492\n  deep_0492\n  anger_0492\n  frustration_0492\n  unilateral_0492\n  last_0492\n  friday_0492\n  subsequent_0492\n  freeze_0492\n  some_0492\n  15_0492\n  billion_0492\n  dlrs_0492\n  shortterm_0492\n  trade_0492\n  interbank_0492\n  line_0492\n  director_0492\n  brazilian_0492\n  central_0492\n  foreign_0492\n  department_0492\n  met_0492\n  full_0492\n  panel_0492\n  tuesday_0492\n  wednesday_0492\n  morning_0492\n  senior_0492\n  executive_0492\n  william_0492\n  rhodes_0492\n  representative_0492\n  vicechairmen_0492\n  morgan_0492\n  guaranty_0492\n  trust_0492\n  co_0492\n  lloyd_0492\n  plc_0492\n  told_0492\n  the_0492\n  government_0492\n  preparing_0492\n  a_0492\n  explain_0492\n  clarify_0492\n  credit_0492\n  could_0492\n  sent_0492\n  early_0492\n  today_0492\n  said_0492\n  despite_0492\n  rising_0492\n  temper_0492\n  saidthere_0492\n  no_0492\n  plan_0492\n  finance_0492\n  minister_0492\n  dilson_0492\n  funaro_0492\n  meet_0492\n  commercial_0492\n  his_0492\n  trip_0492\n  washington_0492\n  sturday_0492\n  be_0492\n  explaining_0492\n  action_0492\n  u_0492\n  treasury_0492\n  scretary_0492\n  james_0492\n  baker_0492\n  federal_0492\n  reserve_0492\n  board_0492\n  paul_0492\n  volcker_0492\n  international_0492\n  monetary_0492\n  fund_0492\n  managing_0492\n  michel_0492\n  camdessus_0492\n  travelling_0492\n  europe_0492\n  weekend_0492\n  meanwhile_0492\n  hear_0492\n  new_0492\n  york_0492\n  this_0492\n  afternoon_0492\n  impact_0492\n  hard_0492\n  would_0492\n  argentina_0492\n  an_0492\n  initial_0492\n  presentation_0492\n  argentine_0492\n  mario_0492\n  brodersohn_0492\n  on_0492\n  requestfor_0492\n  2.15_0492\n  loan_0492\n  multiyear_0492\n  rescheduling_0492\n  agreement_0492\n  threatened_0492\n  to_0492\n  emulate_0492\n  moratorium_0492\n  not_0492\n  grant_0492\n  it_0492\n  request_0492\n  26-feb1987_0493\n  17:57:05.23_0493\n  lng_0493\n  import_0493\n  algeria_0493\n  uly_0493\n  1987_0493\n  liquefied_0493\n  natural_0493\n  gas_0493\n  unlikely_0493\n  happen_0493\n  even_0493\n  though_0493\n  economically_0493\n  feasibleudustry_0493\n  analyst_0493\n  source_0493\n  said_0493\n  youcef_0493\n  yousfi_0493\n  directorgeneral_0493\n  sach_0493\n  algerian_0493\n  state_0493\n  petroleum_0493\n  agency_0493\n  indicated_0493\n  television_0493\n  interview_0493\n  algiers_0493\n  such_0493\n  would_0493\n  made_0493\n  year_0493\n  contract_0493\n  negotiation_0493\n  filing_0493\n  uvernment_0493\n  time_0493\n  required_0493\n  restart_0493\n  mothballed_0493\n  terminal_0493\n  delay_0493\n  the_0493\n  1988/1989,_0493\n  daniel_0493\n  tulis_0493\n  son_0493\n  lehman_0493\n  bros_0493\n  currently_0493\n  negotiating_0493\n  two_0493\n  it_0493\n  former_0493\n  customer_0493\n  panhandle_0493\n  eastern_0493\n  pel_0493\n  distrigas_0493\n  subsidiary_0493\n  cabot_0493\n  corp_0493\n  cbt_0493\n  resume_0493\n  export_0493\n  company_0493\n  official_0493\n  told_0493\n  reuters_0493\n  third_0493\n  el_0493\n  paso_0493\n  burlington_0493\n  northern_0493\n  bni_0493\n  expressed_0493\n  interest_0493\n  industry_0493\n  saide_0493\n  feasible_0493\n  marginal_0493\n  cost_0493\n  basis_0493\n  have_0493\n  capital_0493\n  investment_0493\n  handle_0493\n  operate_0493\n  profitably_0493\n  current_0493\n  price_0493\n  environment_0493\n  frank_0493\n  se_0493\n  energy_0493\n  economist_0493\n  banker_0493\n  trust_0493\n  not_0493\n  forsee_0493\n  a_0493\n  major_0493\n  impact_0493\n  uices_0493\n  are_0493\n  soft_0493\n  expected_0493\n  trend_0493\n  higher_0493\n  end_0493\n  1987._0493\n  decline_0493\n  drilling_0493\n  lag_0493\n  bring_0493\n  gulf_0493\n  mexico_0493\n  production_0493\n  onstream_0493\n  tighten_0493\n  supply_0493\n  firm_0493\n  this_0493\n  context_0493\n  supplemental_0493\n  umestic_0493\n  added_0493\n  talk_0493\n  agree_0493\n  saying_0493\n  serve_0493\n  meet_0493\n  peak_0493\n  demand_0493\n  also_0493\n  saidt_0493\n  emphasize_0493\n  looser_0493\n  arrangement_0493\n  relate_0493\n  volume_0493\n  market_0493\n  requirement_0493\n  uot_0493\n  value_0493\n  26-feb1987_0494\n  17:59:30.27_0494\n  u_0494\n  farm_0494\n  credit_0494\n  resu_0494\n  bill_0494\n  sen_0494\n  easer_0494\n  chairman_0494\n  snte_0494\n  agriculture_0494\n  subcommittee_0494\n  saidanel_0494\n  consider_0494\n  rescue_0494\n  package_0494\n  easter_0494\n  even_0494\n  systemnd_0494\n  regulator_0494\n  ask_0494\n  helpby_0494\n  wre_0494\n  going_0494\n  markup_0494\n  guarantee_0494\n  before_0494\n  recess_0494\n  sn_0494\n  david_0494\n  boren_0494\n  dokla_0494\n  saidsnte_0494\n  majority_0494\n  leader_0494\n  robert_0494\n  byrd_0494\n  dwva_0494\n  want_0494\n  recommendation_0494\n  presented_0494\n  april_0494\n  11,_0494\n  congress_0494\n  scheduled_0494\n  break_0494\n  saidboren_0494\n  urged_0494\n  administration_0494\n  fca_0494\n  systemregulator_0494\n  quickly_0494\n  make_0494\n  formal_0494\n  request_0494\n  aid_0494\n  uder_0494\n  1985_0494\n  law_0494\n  passed_0494\n  certify_0494\n  systemas_0494\n  exhausted_0494\n  capital_0494\n  need_0494\n  federal_0494\n  government_0494\n  help_0494\n  however_0494\n  frank_0494\n  naylor_0494\n  saidse_0494\n  much_0494\n  systemremaining_0494\n  tiedup_0494\n  legal_0494\n  action_0494\n  could_0494\n  technically_0494\n  needed_0494\n  yearand_0494\n  perhaps_0494\n  1988._0494\n  other_0494\n  republican_0494\n  member_0494\n  threeman_0494\n  board_0494\n  marvin_0494\n  duncan_0494\n  agreed_0494\n  cannot_0494\n  aidis_0494\n  should_0494\n  helpinformally_0494\n  w_0494\n  know_0494\n  infusion_0494\n  official_0494\n  spoke_0494\n  hearing_0494\n  plight_0494\n  systemalso_0494\n  brent_0494\n  beesely_0494\n  chief_0494\n  executive_0494\n  council_0494\n  representing_0494\n  systemsaidat_0494\n  end_0494\n  1986_0494\n  systemad_0494\n  1.5_0494\n  billion_0494\n  dlrs_0494\n  working_0494\n  remaining_0494\n  loss_0494\n  4.6_0494\n  the_0494\n  last_0494\n  two_0494\n  year_0494\n  wile_0494\n  did_0494\n  not_0494\n  beesley_0494\n  indicated_0494\n  situation_0494\n  serious_0494\n  some_0494\n  12_0494\n  systemistricts_0494\n  significant_0494\n  number_0494\n  bank_0494\n  association_0494\n  economically_0494\n  depressed_0494\n  area_0494\n  have_0494\n  continue_0494\n  suffer_0494\n  extraordinary_0494\n  saidjim_0494\n  billington_0494\n  democratic_0494\n  saidroubles_0494\n  systemave_0494\n  encouraged_0494\n  flight_0494\n  one_0494\n  per_0494\n  month_0494\n  system_0494\n  borrower_0494\n  repay_0494\n  loan_0494\n  systemtotal_0494\n  portfolio_0494\n  shrank_0494\n  54.6_0494\n  yearfrom_0494\n  66.6_0494\n  previous_0494\n  saidborrowers_0494\n  holder_0494\n  bond_0494\n  systemeed_0494\n  assured_0494\n  money_0494\n  safe_0494\n  suggested_0494\n  a_0494\n  assurance_0494\n  bondholder_0494\n  bondholdershave_0494\n  worry_0494\n  this_0494\n  time_0494\n  saidnaylor_0494\n  saidal_0494\n  proposal_0494\n  revamping_0494\n  systemre_0494\n  circulating_0494\n  range_0494\n  consolidation_0494\n  systemnto_0494\n  centralized_0494\n  national_0494\n  lender_0494\n  decentralizing_0494\n  semiindependent_0494\n  institution_0494\n  he_0494\n  systempokesman_0494\n  cautious_0494\n  secondary_0494\n  market_0494\n  loansthose_0494\n  would_0494\n  loansor_0494\n  resale_0494\n  to_0494\n  investor_0494\n  and_0494\n  saidondary_0494\n  setup_0494\n  outside_0494\n  systemould_0494\n  hurt_0494\n  systembut_0494\n  it_0494\n  agent_0494\n  be_0494\n  developed_0494\n  without_0494\n  congressional_0494\n  legislation_0494\n  26-feb1987_0495\n  18:00:08.86_0495\n  report_0495\n  could_0495\n  final_0495\n  blow_0495\n  regan_0495\n  tower_0495\n  commission_0495\n  scathing_0495\n  comment_0495\n  president_0495\n  reagan_0495\n  embattled_0495\n  chief_0495\n  staff_0495\n  donald_0495\n  signal_0495\n  death_0495\n  knell_0495\n  his_0495\n  white_0495\n  house_0495\n  tenure_0495\n  impact_0495\n  strong_0495\n  criticism_0495\n  two_0495\n  top_0495\n  official_0495\n  le_0495\n  clear_0495\n  come_0495\n  tough_0495\n  handling_0495\n  worst_0495\n  political_0495\n  crisis_0495\n  since_0495\n  detail_0495\n  covert_0495\n  arm_0495\n  sale_0495\n  iran_0495\n  diversion_0495\n  profit_0495\n  nicaraguan_0495\n  rebel_0495\n  first_0495\n  emerged_0495\n  last_0495\n  november_0495\n  role_0495\n  secretary_0495\n  state_0495\n  george_0495\n  shultz_0495\n  defense_0495\n  caspar_0495\n  weinberger_0495\n  saidthey_0495\n  opposed_0495\n  initiative_0495\n  yet_0495\n  failed_0495\n  end_0495\n  had_0495\n  muted_0495\n  release_0495\n  obligation_0495\n  give_0495\n  full_0495\n  support_0495\n  continued_0495\n  advice_0495\n  respect_0495\n  programor_0495\n  conscience_0495\n  so_0495\n  inform_0495\n  reportaid_0495\n  threemonth_0495\n  probe_0495\n  instead_0495\n  simply_0495\n  distanced_0495\n  program_0495\n  protected_0495\n  record_0495\n  own_0495\n  position_0495\n  issue_0495\n  they_0495\n  were_0495\n  energetic_0495\n  attempting_0495\n  protect_0495\n  from_0495\n  consequence_0495\n  personal_0495\n  commitment_0495\n  freeing_0495\n  hostage_0495\n  reportaved_0495\n  it_0495\n  most_0495\n  language_0495\n  for_0495\n  gruff_0495\n  former_0495\n  wall_0495\n  street_0495\n  executive_0495\n  close_0495\n  friend_0495\n  whose_0495\n  autocratic_0495\n  rule_0495\n  angered_0495\n  perhaps_0495\n  importantly_0495\n  wife_0495\n  nancy_0495\n  than_0495\n  almost_0495\n  recent_0495\n  memory_0495\n  asserted_0495\n  control_0495\n  sought_0495\n  extend_0495\n  this_0495\n  the_0495\n  national_0495\n  security_0495\n  adviser_0495\n  saidthe_0495\n  washington_0495\n  analyst_0495\n  saidregans_0495\n  departure_0495\n  appeared_0495\n  be_0495\n  matter_0495\n  timing_0495\n  many_0495\n  expected_0495\n  announce_0495\n  when_0495\n  address_0495\n  nation_0495\n  finding_0495\n  next_0495\n  week_0495\n  regans_0495\n  apparently_0495\n  imminent_0495\n  poindexter_0495\n  other_0495\n  key_0495\n  figure_0495\n  scandal_0495\n  already_0495\n  of_0495\n  office_0495\n  turn_0495\n  spotlight_0495\n  their_0495\n  future_0495\n  senate_0495\n  republican_0495\n  leader_0495\n  robert_0495\n  dole_0495\n  a_0495\n  ally_0495\n  told_0495\n  reportisclosed_0495\n  colossal_0495\n  blunder_0495\n  saidpeople_0495\n  served_0495\n  well_0495\n  step_0495\n  aside_0495\n  he_0495\n  specify_0495\n  go_0495\n  would_0495\n  seem_0495\n  to_0495\n  me_0495\n  that_0495\n  if_0495\n  dont_0495\n  serve_0495\n  you_0495\n  should_0495\n  move_0495\n  kansa_0495\n  likely_0495\n  presidential_0495\n  candidate_0495\n  year_0495\n  said_0495\n  one_0495\n  strategist_0495\n  saidhe_0495\n  believed_0495\n  not_0495\n  only_0495\n  leave_0495\n  in_0495\n  near_0495\n  26-feb1987_0496\n  18:02:58.44_0496\n  swiss_0496\n  economy_0496\n  excellent_0496\n  condition_0496\n  oecd_0496\n  say_0496\n  switzerland_0496\n  combining_0496\n  low_0496\n  unemployment_0496\n  financial_0496\n  stability_0496\n  large_0496\n  external_0496\n  payment_0496\n  surplus_0496\n  face_0496\n  satisfactory_0496\n  future_0496\n  organisation_0496\n  economic_0496\n  cooperation_0496\n  development_0496\n  saidthis_0496\n  reflected_0496\n  success_0496\n  stable_0496\n  relatively_0496\n  tight_0496\n  fiscal_0496\n  monetary_0496\n  policy_0496\n  followed_0496\n  government_0496\n  saidthe_0496\n  annual_0496\n  report_0496\n  picked_0496\n  some_0496\n  sign_0496\n  slowdown_0496\n  activity_0496\n  slight_0496\n  pickup_0496\n  inflation_0496\n  year_0496\n  said_0496\n  gave_0496\n  cause_0496\n  concern_0496\n  study_0496\n  forecast_0496\n  decline_0496\n  gross_0496\n  domestic_0496\n  product_0496\n  growth_0496\n  1.75_0496\n  pct_0496\n  estimated_0496\n  two_0496\n  1986_0496\n  small_0496\n  rise_0496\n  consumer_0496\n  price_0496\n  1.25_0496\n  last_0496\n  yearssharp_0496\n  fall_0496\n  0.75_0496\n  3.6_0496\n  1985._0496\n  saidreation_0496\n  continue_0496\n  absorb_0496\n  a_0496\n  modest_0496\n  increase_0496\n  workforce_0496\n  leaving_0496\n  rate_0496\n  unchanged_0496\n  around_0496\n  one_0496\n  lowest_0496\n  24-industrial_0496\n  nation_0496\n  area_0496\n  assuming_0496\n  an_0496\n  average_0496\n  exchangerate_0496\n  1.71_0496\n  franc_0496\n  dollar_0496\n  1.69_0496\n  second_0496\n  half_0496\n  1986,_0496\n  2.75_0496\n  export_0496\n  3.5_0496\n  import_0496\n  3.25_0496\n  6.5_0496\n  respectively_0496\n  1986._0496\n  faster_0496\n  compared_0496\n  reflecting_0496\n  buoyant_0496\n  private_0496\n  consumption_0496\n  meant_0496\n  contribution_0496\n  the_0496\n  foreign_0496\n  balance_0496\n  gdpuld_0496\n  shrink_0496\n  both_0496\n  given_0496\n  should_0496\n  no_0496\n  concernif_0496\n  demand_0496\n  grows_0496\n  gdpwhich_0496\n  way_0496\n  would_0496\n  contribute_0496\n  improving_0496\n  international_0496\n  saidreal_0496\n  appeared_0496\n  have_0496\n  unusually_0496\n  several_0496\n  yearsof_0496\n  relative_0496\n  weakness_0496\n  noted_0496\n  1987_0496\n  expected_0496\n  slow_0496\n  somewhat_0496\n  2.25_0496\n  still_0496\n  outstrip_0496\n  overall_0496\n  gdpt_0496\n  added_0496\n  outlook_0496\n  investment_0496\n  plant_0496\n  machinery_0496\n  remained_0496\n  bright_0496\n  1987,_0496\n  with_0496\n  capacity_0496\n  use_0496\n  near_0496\n  record_0496\n  level_0496\n  wa_0496\n  scope_0496\n  rationalisation_0496\n  modernisation_0496\n  industry_0496\n  service_0496\n  sector_0496\n  saida_0496\n  consequence_0496\n  equipment_0496\n  likely_0496\n  decelerate_0496\n  only_0496\n  slightly_0496\n  vigorous_0496\n  raised_0496\n  questionmark_0496\n  prospect_0496\n  tourism_0496\n  banking_0496\n  major_0496\n  earner_0496\n  exchange_0496\n  longterm_0496\n  appreciation_0496\n  accelerating_0496\n  deregulation_0496\n  market_0496\n  could_0496\n  lead_0496\n  loss_0496\n  share_0496\n  saidparticularly_0496\n  bank_0496\n  recent_0496\n  give_0496\n  question_0496\n  whether_0496\n  system_0496\n  ha_0496\n  shown_0496\n  substantial_0496\n  flexibility_0496\n  in_0496\n  past_0496\n  adapting_0496\n  at_0496\n  speed_0496\n  required_0496\n  ..._0496\n  preserve_0496\n  it_0496\n  competitive_0496\n  position_0496\n  26-feb1987_0497\n  18:04:52.91_0497\n  uheat_0497\n  bonu_0497\n  st_0497\n  called_0497\n  dormant_0497\n  ugriculture_0497\n  department_0497\n  actively_0497\n  considering_0497\n  offering_0497\n  subsidized_0497\n  wheat_0497\n  u_0497\n  export_0497\n  enhancement_0497\n  programeep_0497\n  senior_0497\n  uofficials_0497\n  said_0497\n  however_0497\n  grain_0497\n  trade_0497\n  analyst_0497\n  proposal_0497\n  ruled_0497\n  offer_0497\n  might_0497\n  made_0497\n  though_0497\n  not_0497\n  very_0497\n  near_0497\n  future_0497\n  company_0497\n  trying_0497\n  get_0497\n  fired_0497\n  again_0497\n  aide_0497\n  agriculture_0497\n  stary_0497\n  richard_0497\n  lyng_0497\n  saidt_0497\n  just_0497\n  isnt_0497\n  much_0497\n  talk_0497\n  informallyor_0497\n  formally_0497\n  interviewed_0497\n  reuters_0497\n  confident_0497\n  bonus_0497\n  would_0497\n  offered_0497\n  stseven_0497\n  ufficials_0497\n  make_0497\n  they_0497\n  held_0497\n  counterpart_0497\n  earlier_0497\n  week_0497\n  administration_0497\n  and_0497\n  private_0497\n  source_0497\n  agreed_0497\n  reagan_0497\n  decide_0497\n  moscow_0497\n  it_0497\n  could_0497\n  take_0497\n  several_0497\n  month_0497\n  dont_0497\n  see_0497\n  like_0497\n  sailing_0497\n  any_0497\n  interagency_0497\n  process_0497\n  consummated_0497\n  overnight_0497\n  former_0497\n  uofficial_0497\n  noted_0497\n  took_0497\n  three_0497\n  monthsto_0497\n  favor_0497\n  selling_0497\n  china_0497\n  subsidy_0497\n  program_0497\n  official_0497\n  representing_0497\n  large_0497\n  saidiberations_0497\n  within_0497\n  umight_0497\n  nudged_0497\n  along_0497\n  member_0497\n  congress_0497\n  number_0497\n  whom_0497\n  urged_0497\n  uthis_0497\n  weekto_0497\n  the_0497\n  sts_0497\n  lyngs_0497\n  daylong_0497\n  visit_0497\n  capitol_0497\n  hill_0497\n  yesterday_0497\n  house_0497\n  press_0497\n  secretary_0497\n  question_0497\n  single_0497\n  time_0497\n  policy_0497\n  review_0497\n  group_0497\n  comprised_0497\n  subcabinetlevel_0497\n  asked_0497\n  clear_0497\n  a_0497\n  request_0497\n  eep_0497\n  urade_0497\n  representative_0497\n  office_0497\n  two_0497\n  side_0497\n  discussed_0497\n  previous_0497\n  did_0497\n  new_0497\n  initiative_0497\n  one_0497\n  part_0497\n  in_0497\n  consultation_0497\n  weekdescribed_0497\n  an_0497\n  exchange_0497\n  calm_0497\n  basic_0497\n  factual_0497\n  economics_0497\n  another_0497\n  saidre_0497\n  even_0497\n  informal_0497\n  suggestion_0497\n  hint_0497\n  stswould_0497\n  live_0497\n  their_0497\n  pledge_0497\n  to_0497\n  buy_0497\n  four_0497\n  mln_0497\n  tonne_0497\n  year_0497\n  if_0497\n  granted_0497\n  more_0497\n  favorable_0497\n  term_0497\n  uand_0497\n  consideration_0497\n  initiativeby_0497\n  likely_0497\n  delayed_0497\n  of_0497\n  disarray_0497\n  white_0497\n  stemming_0497\n  iran_0497\n  arm_0497\n  affair_0497\n  26-feb1987_0498\n  18:07:18.31_0498\n  utreaspart_0498\n  argentine_0498\n  bridge_0498\n  loan_0498\n  utreasury_0498\n  saidt_0498\n  willing_0498\n  participate_0498\n  several_0498\n  industrial_0498\n  country_0498\n  providing_0498\n  500_0498\n  mlndlr_0498\n  shortterm_0498\n  argentina_0498\n  treasury_0498\n  announcecement_0498\n  name_0498\n  other_0498\n  amount_0498\n  financingthe_0498\n  ued_0498\n  s_0498\n  supply_0498\n  argentinannounced_0498\n  wage_0498\n  price_0498\n  freeze_0498\n  wednesday_0498\n  night_0498\n  negotiating_0498\n  new_0498\n  york_0498\n  banker_0498\n  about_0498\n  2.15_0498\n  billion_0498\n  dlrs_0498\n  financing_0498\n  willingness_0498\n  this_0498\n  multilateral_0498\n  financingindicates_0498\n  support_0498\n  economic_0498\n  program_0498\n  achieve_0498\n  sustainable_0498\n  growth_0498\n  viable_0498\n  balance_0498\n  payment_0498\n  position_0498\n  treassury_0498\n  statement_0498\n  said_0498\n  announcing_0498\n  fourmonth_0498\n  official_0498\n  saidhe_0498\n  needed_0498\n  more_0498\n  serene_0498\n  climate_0498\n  carry_0498\n  structural_0498\n  change_0498\n  economy_0498\n  argentinaid_0498\n  not_0498\n  suspend_0498\n  interest_0498\n  foreign_0498\n  debt_0498\n  neighboring_0498\n  brazil_0498\n  last_0498\n  week_0498\n  ushare_0498\n  financingfor_0498\n  argentinaould_0498\n  come_0498\n  it_0498\n  exchange_0498\n  silization_0498\n  fund_0498\n  onepage_0498\n  noted_0498\n  international_0498\n  monetary_0498\n  fundexpressed_0498\n  confidence_0498\n  policy_0498\n  prospect_0498\n  approving_0498\n  standby_0498\n  financingarrangement_0498\n  february_0498\n  18._0498\n  expected_0498\n  qualify_0498\n  imf_0498\n  balanceofpayments_0498\n  financingwhich_0498\n  would_0498\n  enable_0498\n  argentinao_0498\n  repay_0498\n  implementation_0498\n  latest_0498\n  action_0498\n  marked_0498\n  second_0498\n  time_0498\n  le_0498\n  two_0498\n  year_0498\n  government_0498\n  used_0498\n  a_0498\n  restrain_0498\n  inflation_0498\n  the_0498\n  talk_0498\n  being_0498\n  headed_0498\n  finance_0498\n  minister_0498\n  mario_0498\n  brodersohn_0498\n  are_0498\n  day_0498\n  along_0498\n  argentinaeportedly_0498\n  want_0498\n  lower_0498\n  rate_0498\n  an_0498\n  existing_0498\n  total_0498\n  53_0498\n  elimination_0498\n  bank_0498\n  control_0498\n  how_0498\n  of_0498\n  money_0498\n  is_0498\n  loaned_0498\n  26-fe987_0499\n  18:09:37.31_0499\n  compnies_0499\n  bid_0499\n  caaahcopecontrat_0499\n  e_0499\n  industry_0499\n  canada_0499\n  inc_0499\n  saidit_0499\n  plan_0499\n  bidits_0499\n  e01_0499\n  helicopter_0499\n  replace_0499\n  fleet_0499\n  sa_0499\n  king_0499\n  aircraft_0499\n  joining_0499\n  bell_0499\n  textron_0499\n  canadian_0499\n  marconi_0499\n  co_0499\n  cmw_0499\n  impgroup_0499\n  pramax_0499\n  ectronics_0499\n  is_0499\n  supported_0499\n  agusta_0499\n  spa_0499\n  skorsky_0499\n  arcraft_0499\n  westland_0499\n  group_0499\n  the_0499\n  e01,_0499\n  aimed_0499\n  detecting_0499\n  engaging_0499\n  submarine_0499\n  designed_0499\n  use_0499\n  british_0499\n  italian_0499\n  navy_0499\n  due_0499\n  enter_0499\n  service_0499\n  1992,_0499\n  said_0499\n"
    }
   ],
   "source": [
    "listOfFiles = readFile('DataRouter')\n",
    "listOfWordsOfFile = []\n",
    "counter = 1\n",
    "blok = 10\n",
    "list_token_sebelum = []\n",
    "list_token_sesudah = []\n",
    "list_term_sebelum = []\n",
    "list_term_sesudah = []\n",
    "blok_file_name = \"term_blok\"\n",
    "blok_name = []\n",
    "\n",
    "for i in listOfFiles: #iterasi tiap file\n",
    "    txt = readText(i)\n",
    "    list_token_sebelum.append(make_token(txt))\n",
    "    txt = normalisasi(txt)\n",
    "    listOfWords = make_token(txt)\n",
    "    listOfWords = removeNull(listOfWords)\n",
    "    listOfWords = caseFolding(listOfWords)\n",
    "    listOfWords = removeStopWord(listOfWords)\n",
    "    listOfWords = lemmatization(listOfWords)\n",
    "#     listOfWords = stemming(listOfWords)\n",
    "    \n",
    "    # Diganti KEVIN\n",
    "    listOfWords = addDocNumber(listOfWords,i)\n",
    "    \n",
    "    list_token_sesudah.append(listOfWords)\n",
    "    counter = counter + 1\n",
    "#     print(counter)\n",
    "\n",
    "    if (counter%blok) == 0:        \n",
    "        writeFile(list_token_sebelum,\"token_sebelum_pemprosesan.txt\")\n",
    "        writeFile(list_token_sesudah,\"token_sesudah_pemprosesan.txt\")\n",
    "        \n",
    "        #melakukan inisialisasi list dari, agar tidak memakan terlalu banyak memory\n",
    "        listofWords = []\n",
    "        list_token_sebelum = []\n",
    "        list_token_sesudah = []\n",
    "        list_term_sebelum = []\n",
    "        list_term_sesudah = []\n",
    "        \n",
    "make_term(\"token_sebelum_pemprosesan.txt\",\"term_sebelum_pemprosesan.txt\")\n",
    "make_term(\"token_sesudah_pemprosesan.txt\",\"term_sesudah_pemprosesan.txt\")\n",
    "    "
   ]
  },
  {
   "cell_type": "code",
   "execution_count": null,
   "metadata": {},
   "outputs": [],
   "source": []
  }
 ],
 "metadata": {
  "kernelspec": {
   "display_name": "Python 3",
   "language": "python",
   "name": "python3"
  },
  "language_info": {
   "codemirror_mode": {
    "name": "ipython",
    "version": 3
   },
   "file_extension": ".py",
   "mimetype": "text/x-python",
   "name": "python",
   "nbconvert_exporter": "python",
   "pygments_lexer": "ipython3",
   "version": "3.7.2-final"
  }
 },
 "nbformat": 4,
 "nbformat_minor": 2
}