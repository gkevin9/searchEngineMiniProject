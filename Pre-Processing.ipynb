{
 "cells": [
  {
   "cell_type": "code",
   "execution_count": 26,
   "metadata": {},
   "outputs": [],
   "source": [
    "from nltk.corpus import stopwords\n",
    "from nltk.stem import WordNetLemmatizer\n",
    "import re\n",
    "import glob\n",
    "from nltk.stem.porter import PorterStemmer"
   ]
  },
  {
   "cell_type": "code",
   "execution_count": 27,
   "metadata": {},
   "outputs": [
    {
     "name": "stdout",
     "output_type": "stream",
     "text": "Harga mangga per kg adalah 20.500\n"
    }
   ],
   "source": [
    "s = \"Harga mangga per kg adalah 20.500.\"\n",
    "s = re.sub(r'\\W$','',s)\n",
    "print(s)"
   ]
  },
  {
   "cell_type": "code",
   "execution_count": 28,
   "metadata": {},
   "outputs": [],
   "source": [
    "def readFile(directory):\n",
    "    listFile = glob.glob(directory+\"/*.txt\")\n",
    "    return listFile"
   ]
  },
  {
   "cell_type": "code",
   "execution_count": 29,
   "metadata": {},
   "outputs": [],
   "source": [
    "def readPerWord(file):\n",
    "    words = []\n",
    "    f = open(file, 'r') #open file\n",
    "    for line in f:\n",
    "        words.extend(line.split(' ')) #tiap satu baris split per kata\n",
    "        for word in words:\n",
    "            re.sub(r'\\W$','',word)\n",
    "\n",
    "    f.close()\n",
    "\n",
    "    return words"
   ]
  },
  {
   "cell_type": "code",
   "execution_count": 30,
   "metadata": {},
   "outputs": [],
   "source": [
    "def removeEnter(listOfWords): #['<BODY>\\n']\n",
    "    for i in range(len(listOfWords)):\n",
    "        listOfWords[i] = listOfWords[i].replace('\\n','')\n",
    "        \n",
    "    return listOfWords"
   ]
  },
  {
   "cell_type": "code",
   "execution_count": 31,
   "metadata": {},
   "outputs": [],
   "source": [
    "def removeNull(listOfWords): #['','','eat','food','','']\n",
    "    listOfWords = list(filter(None, listOfWords))\n",
    "    \n",
    "    return listOfWords"
   ]
  },
  {
   "cell_type": "code",
   "execution_count": 32,
   "metadata": {},
   "outputs": [],
   "source": [
    "def caseFolding(listOfWords):\n",
    "    for i in range(len(listOfWords)):\n",
    "        listOfWords[i] = listOfWords[i].casefold()\n",
    "        \n",
    "    return listOfWords"
   ]
  },
  {
   "cell_type": "markdown",
   "metadata": {},
   "source": [
    "<h3>Load Stop Word from NLTK</h3>"
   ]
  },
  {
   "cell_type": "code",
   "execution_count": 33,
   "metadata": {},
   "outputs": [],
   "source": [
    "stop_words = stopwords.words('english')"
   ]
  },
  {
   "cell_type": "code",
   "execution_count": 34,
   "metadata": {},
   "outputs": [],
   "source": [
    "def removeStopWord(listOfWords):\n",
    "    for i in range(len(listOfWords)):\n",
    "        if i in stop_words:\n",
    "            listOfWords.remove(i)\n",
    "        \n",
    "    return listOfWords"
   ]
  },
  {
   "cell_type": "markdown",
   "metadata": {},
   "source": [
    "<h3>Load Lemmatizer from NLTK</h3>"
   ]
  },
  {
   "cell_type": "code",
   "execution_count": 35,
   "metadata": {},
   "outputs": [],
   "source": [
    "lemmatizer = WordNetLemmatizer()"
   ]
  },
  {
   "cell_type": "code",
   "execution_count": 36,
   "metadata": {},
   "outputs": [],
   "source": [
    "def lemmatization(listOfWords):\n",
    "    for i in range(len(listOfWords)):\n",
    "        listOfWords[i] = lemmatizer.lemmatize(listOfWords[i])\n",
    "        \n",
    "    return listOfWords"
   ]
  },
  {
   "cell_type": "markdown",
   "execution_count": null,
   "metadata": {},
   "outputs": [],
   "source": [
    "<h3>Load Stemming from NLTK</h3>"
   ]
  },
  {
   "cell_type": "code",
   "execution_count": 37,
   "metadata": {},
   "outputs": [],
   "source": [
    "def stemming(listOfWords):\n",
    "    porter = PorterStemmer()\n",
    "    stemmed = [porter.stem(word) for word in listOfWords]\n",
    "    \n",
    "    return stemmed"
   ]
  },
  {
   "cell_type": "markdown",
   "metadata": {},
   "source": [
    "<h1>Test</h1>"
   ]
  },
  {
   "cell_type": "code",
   "execution_count": 38,
   "metadata": {},
   "outputs": [
    {
     "name": "stdout",
     "output_type": "stream",
     "text": "frank', 'naylor', 'said', 'because', 'much', 'of', 'the', \"system's\", 'remaining', 'capital', 'is', 'tied-up', 'in', 'legal', 'action,', 'he', 'could', 'not', 'technically', 'certify', 'a', 'rescue', 'is', 'needed', 'this', 'year', 'and', 'perhaps', 'not', 'even', 'in', '1988.', 'the', 'other', 'republican', 'member', 'of', 'the', 'three-man', 'fca', 'board,', 'marvin', 'duncan,', 'agreed.', 'but', 'boren', 'urged', 'that', 'even', 'if', 'fca', 'cannot', 'technically', 'certify', 'aid', 'is', 'needed,', 'it', 'should', 'request', 'help', 'informally.', '\"we', 'all', 'know', 'we', 'need', 'a', 'capital', 'infusion,\"', 'boren', 'said.', 'boren', 'and', 'the', 'fca', 'official', 'spoke', 'at', 'a', 'hearing', 'on', 'the', 'plight', 'of', 'the', 'farm', 'credit', 'system.', 'also', 'at', 'the', 'hearing,', 'brent', 'beesely,', 'chief', 'executive', 'of', 'the', 'farm', 'credit', 'council', 'representing', 'the', 'system,', 'said', 'that', 'at', 'the', 'end', 'of', '1986', 'the', 'system', 'had', 'only', '1.5', 'billion', 'dlrs', 'in', 'working', 'capital', 'remaining', 'after', 'loss', 'of', '4.6', 'billion', 'dlrs', 'over', 'the', 'last', 'two', 'years.', 'while', 'he', 'did', 'not', 'ask', 'for', 'government', 'aid,', 'beesley', 'indicated', 'the', 'situation', 'is', 'serious', 'in', 'some', 'of', 'the', '12', 'system', 'districts.', '\"a', 'significant', 'number', 'of', 'bank', 'and', 'association', 'in', 'the', 'most', 'economically', 'depressed', 'area', 'have', 'and', 'will', 'continue', 'to', 'suffer', 'extraordinary', 'losses,\"', 'beesley', 'said.', 'jim', 'billington,', 'democratic', 'member', 'of', 'the', 'fca', 'board,', 'said', 'the', 'trouble', 'of', 'the', 'system', 'have', 'encouraged', 'the', 'flight', 'of', 'some', 'one', 'billion', 'dlrs', 'per', 'month', 'from', 'the', 'system', 'a', 'borrower', 'repay', 'loans.', 'the', \"system's\", 'total', 'portfolio', 'shrank', 'to', '54.6', 'billion', 'dlrs', 'by', 'the', 'end', 'of', 'last', 'year', 'from', '66.6', 'billion', 'the', 'previous', 'year.', 'fca', 'board', 'member', 'said', 'both', 'borrower', 'and', 'holder', 'of', 'bond', 'in', 'the', 'system', 'need', 'to', 'be', 'assured', 'their', 'money', 'is', 'safe.', 'naylor', 'suggested', 'the', 'need', 'for', 'a', 'federal', 'assurance', 'to', 'bondholders.', '\"the', 'bondholder', 'have', 'no', 'worry', 'at', 'this', 'time,\"', 'billington', 'said.', 'naylor', 'said', 'several', 'proposal', 'for', 'revamping', 'the', 'farm', 'credit', 'system', 'are', 'circulating.', 'the', 'proposal', 'range', 'from', 'consolidation', 'of', 'the', 'system', 'into', 'a', 'centralized', 'national', 'lender,', 'to', 'de-centralizing', 'into', 'semi-independent', 'institutions.', 'but', 'he', 'and', 'the', 'system', 'spokesman', 'beesley', 'were', 'cautious', 'about', 'proposal', 'for', 'a', 'secondary', 'market', 'on', 'farm', 'loans.', 'those', 'proposal', 'would', 'package', 'farm', 'loan', 'for', 'resale', 'to', 'investors.', 'naylor', 'and', 'beesley', 'said', 'a', 'secondary', 'market', 'set-up', 'outside', 'the', 'farm', 'credit', 'system', 'would', 'hurt', 'the', 'system.', 'but', 'beesley', 'said', 'a', 'secondary', 'market', 'with', 'the', 'farm', 'credit', 'system', 'a', 'it', 'agent', 'could', 'be', 'developed', 'without', 'congressional', 'legislation.', '</body>']\n--\n['<date>26-feb-1987', '18:00:08.86</date>', '<title>report', 'could', 'be', 'final', 'blow', 'for', 'regan</title>', '<body>the', 'tower', \"commission's\", 'scathing', 'comment', 'on', 'president', \"reagan's\", 'embattled', 'chief', 'of', 'staff', 'donald', 'regan', 'could', 'signal', 'the', 'death', 'knell', 'to', 'his', 'white', 'house', 'tenure,', 'but', 'the', 'impact', 'of', 'it', 'strong', 'criticism', 'on', 'two', 'other', 'top', 'official', 'wa', 'le', 'clear.', 'regan', 'ha', 'come', 'in', 'for', 'tough', 'criticism', 'for', 'his', 'handling', 'of', \"reagan's\", 'worst', 'political', 'crisis', 'since', 'detail', 'of', 'the', 'covert', 'arm', 'sale', 'to', 'iran', 'and', 'diversion', 'of', 'profit', 'to', 'nicaraguan', 'rebel', 'first', 'emerged', 'last', 'november.', 'but', 'criticism', 'of', 'the', 'role', 'of', 'secretary', 'of', 'state', 'george', 'shultz', 'and', 'defense', 'secretary', 'caspar', 'weinberger,', 'who', 'said', 'they', 'opposed', 'the', 'iran', 'arm', 'initiative', 'yet', 'failed', 'to', 'end', 'it,', 'had', 'been', 'muted', 'until', 'the', 'release', 'of', 'the', 'tower', 'commission', 'report.', '\"their', 'obligation', 'wa', 'to', 'give', 'the', 'president', 'their', 'full', 'support', 'and', 'continued', 'advice', 'with', 'respect', 'to', 'the', 'program', 'or,', 'if', 'they', 'could', 'not', 'in', 'conscience', 'do', 'that,', 'to', 'so', 'inform', 'the', 'president,\"', 'the', 'report', 'said', 'after', 'a', 'three-month', 'probe.', '\"instead,', 'they', 'simply', 'distanced', 'themselves', 'from', 'the', 'program.', 'they', 'protected', 'the', 'record', 'a', 'to', 'their', 'own', 'position', 'on', 'this', 'issue.', 'they', 'were', 'not', 'energetic', 'in', 'attempting', 'to', 'protect', 'the', 'president', 'from', 'the', 'consequence', 'of', 'his', 'personal', 'commitment', 'to', 'freeing', 'the', 'hostages.\"', 'the', 'report', 'saved', 'some', 'of', 'it', 'most', 'scathing', 'language', 'for', 'regan,', 'a', 'gruff', 'former', 'wall', 'street', 'executive', 'and', 'close', 'personal', 'friend', 'of', 'reagan', 'whose', 'autocratic', 'rule', 'in', 'the', 'white', 'house', 'angered', 'some', 'top', 'reagan', 'official', 'and,', 'perhaps', 'more', 'importantly,', \"reagan's\", 'wife', 'nancy.', '\"more', 'than', 'almost', 'any', 'chief', 'of', 'staff', 'of', 'recent', 'memory,', 'he', 'asserted', 'personal', 'control', 'over', 'the', 'white', 'house', 'staff', 'and', 'sought', 'to', 'extend', 'this', 'control', 'to', 'the', 'national', 'security', 'adviser,\"', 'said', 'the', 'report.', 'washington', 'analyst', 'said', \"regan's\", 'departure', 'now', 'appeared', 'to', 'be', 'only', 'a', 'matter', 'of', 'timing.', 'many', 'expected', 'the', 'president', 'to', 'announce', 'it', 'when', 'he', 'address', 'the', 'nation', 'on', 'the', 'tower', \"commission's\", 'finding', 'next', 'week.', 'with', \"regan's\", 'departure', 'apparently', 'imminent', 'and', 'poindexter', 'and', 'other', 'key', 'figure', 'in', 'the', 'scandal', 'already', 'out', 'of', 'office,', 'the', \"report's\", 'tough', 'criticism', 'of', 'shultz', 'and', 'weinberger', 'could', 'turn', 'the', 'spotlight', 'on', 'their', 'future.', 'senate', 'republican', 'leader', 'robert', 'dole,', 'a', 'key', 'reagan', 'ally,', 'told', 'reporter', 'the', 'report', 'disclosed', '\"colossal', 'blunders\"', 'and', 'said', 'people', 'who', 'had', 'not', 'served', 'the', 'president', 'well', 'should', 'step', 'aside,', 'but', 'he', 'did', 'not', 'specify', 'who', 'should', 'go.', '\"it', 'would', 'seem', 'to', 'me', 'that', 'if', 'you', \"don't\", 'protect', 'the', 'president,', 'you', \"don't\", 'serve', 'the', 'president', 'well,', 'then', 'you', 'should', 'move', 'on,\"', 'the', 'kansa', 'republican,', 'a', 'likely', 'presidential', 'candidate', 'next', 'year,', 'said.', 'one', 'republican', 'strategist', 'said', 'he', 'believed', 'regan', 'would', 'not', 'be', 'the', 'only', 'white', 'house', 'official', 'to', 'leave', 'in', 'the', 'near', 'future.', '</body>']\n--\n['<date>26-feb-1987', '18:02:58.44</date>', '<title>swiss', 'economy', 'in', 'excellent', 'condition,', 'oecd', 'says</title>', \"<body>switzerland's\", 'economy,', 'combining', 'low', 'unemployment,', 'financial', 'stability', 'and', 'a', 'large', 'external', 'payment', 'surplus,', 'is', 'in', 'excellent', 'condition', 'and', 'face', 'a', 'satisfactory', 'future,', 'the', 'organisation', 'for', 'economic', 'cooperation', 'and', 'development,', 'oecd,', 'said.', 'this', 'reflected', 'the', 'success', 'of', 'stable', 'and', 'relatively', 'tight', 'fiscal', 'and', 'monetary', 'policy', 'followed', 'by', 'the', 'government,', 'it', 'said.', 'the', 'oecd,', 'in', 'it', 'annual', 'report', 'on', 'switzerland,', 'picked', 'out', 'some', 'sign', 'of', 'a', 'slowdown', 'in', 'activity', 'and', 'a', 'slight', 'pick-up', 'in', 'inflation', 'this', 'year,', 'but', 'said', 'these', 'gave', 'no', 'cause', 'for', 'concern.', 'the', 'study', 'forecast', 'a', 'decline', 'in', 'gross', 'domestic', 'product', 'growth', 'to', '1.75', 'pct', 'this', 'year', 'from', 'an', 'estimated', 'two', 'pct', 'in', '1986', 'and', 'a', 'small', 'rise', 'in', 'consumer', 'price', 'inflation', 'to', '1.25', 'pct', 'after', 'last', \"year's\", 'sharp', 'fall', 'to', '0.75', 'pct', 'from', '3.6', 'pct', 'in', '1985.', 'but', 'it', 'said', 'job', 'creation', 'should', 'continue', 'to', 'absorb', 'a', 'modest', 'increase', 'in', 'the', 'workforce,', 'leaving', 'the', 'unemployment', 'rate', 'unchanged', 'at', 'around', 'one', 'pct,', 'the', 'lowest', 'in', 'the', '24-industrial', 'nation', 'oecd', 'area.', 'assuming', 'an', 'average', 'exchange', 'rate', 'of', '1.71', 'swiss', 'franc', 'to', 'the', 'dollar', 'this', 'year,', 'against', '1.69', 'in', 'the', 'second', 'half', 'of', '1986,', 'the', 'report', 'forecast', 'a', '2.75', 'pct', 'rise', 'in', 'export', 'and', 'a', '3.5', 'pct', 'rise', 'in', 'import', 'this', 'year', 'after', 'rise', 'of', '3.25', 'pct', 'and', '6.5', 'pct', 'respectively', 'in', '1986.', 'the', 'faster', 'growth', 'of', 'import', 'compared', 'with', 'export', 'this', 'year', 'and', 'last,', 'reflecting', 'buoyant', 'private', 'consumption,', 'meant', 'that', 'the', 'contribution', 'of', 'the', 'foreign', 'payment', 'balance', 'to', 'gdp', 'would', 'shrink', 'in', 'both', 'years.', 'but', '\"given', \"switzerland's\", 'large', 'external', 'surplus,', 'there', 'should', 'be', 'no', 'concern', 'if', 'domestic', 'demand', 'grows', 'faster', 'than', 'gdp...which,', 'if', 'only', 'in', 'a', 'small', 'way,', 'would', 'contribute', 'to', 'improving', 'international', 'balances,\"', 'the', 'oecd', 'said.', 'real', 'private', 'consumption', 'appeared', 'to', 'have', 'been', 'unusually', 'buoyant', 'last', 'year,', 'with', 'a', '3.25', 'pct', 'growth', 'rate,', 'after', 'several', 'year', 'of', 'relative', 'weakness,', 'it', 'noted.', 'in', '1987', 'private', 'consumption', 'wa', 'expected', 'to', 'slow', 'somewhat', 'to', 'a', '2.25', 'pct', 'growth', 'rate,', 'but', 'should', 'still', 'outstrip', 'overall', 'gdp,', 'it', 'added.', 'the', 'outlook', 'for', 'investment', 'in', 'plant', 'and', 'machinery', 'remained', 'bright', 'into', '1987,', 'and', 'with', 'capacity', 'use', 'at', 'near', 'record', 'level', 'last', 'year', 'there', 'wa', 'scope', 'for', 'rationalisation', 'and', 'modernisation', 'in', 'both', 'the', 'industry', 'and', 'service', 'sectors,', 'it', 'said.', 'a', 'a', 'consequence,', 'growth', 'in', 'machinery', 'and', 'equipment', 'investment', 'is', 'likely', 'to', 'decelerate', 'only', 'slightly', 'this', 'year', 'after', 'vigorous', 'growth', 'in', '1986.', 'but', 'the', 'report', 'raised', 'a', 'questionmark', 'over', 'the', 'prospect', 'for', 'tourism', 'and', 'the', 'banking', 'industry,', 'two', 'major', 'service', 'sector', 'earner', 'of', 'foreign', 'exchange.', 'the', 'long-term', 'appreciation', 'of', 'the', 'swiss', 'franc,', 'and', 'the', 'accelerating', 'deregulation', 'of', 'foreign', 'banking', 'markets,', 'could', 'lead', 'to', 'a', 'loss', 'of', 'international', 'market', 'share', 'for', 'both,', 'it', 'said.', 'particularly', 'for', 'the', 'banks,', '\"recent', 'development', 'in', 'international', 'financial', 'market', 'give', 'rise', 'to', 'the', 'question', 'whether', 'the', 'swiss', 'financial', 'system,', 'which', 'ha', 'shown', 'substantial', 'flexibility', 'in', 'the', 'past,', 'is', 'adapting', 'itself', 'at', 'the', 'speed', 'required', '...', 'to', 'preserve', 'it', 'competitive', 'position,\"', 'it', 'said.', '</body>']\n--\n['<date>26-feb-1987', '18:04:52.91</date>', '<title>u.s.', 'wheat', 'bonus', 'to', 'soviet', 'called', 'dormant</title>', '<body>the', 'u.s.', 'agriculture', 'department', 'is', 'not', 'actively', 'considering', 'offering', 'subsidized', 'wheat', 'to', 'the', 'soviet', 'union', 'under', 'the', 'export', 'enhancement', 'program', '(eep),', 'senior', 'usda', 'official', 'said.', 'however,', 'grain', 'trade', 'analyst', 'said', 'the', 'proposal', 'ha', 'not', 'been', 'ruled', 'out', 'and', 'that', 'an', 'offer', 'might', 'be', 'made,', 'though', 'not', 'in', 'the', 'very', 'near', 'future.', '\"the', 'grain', 'company', 'are', 'trying', 'to', 'get', 'this', 'fired', 'up', 'again,\"', 'an', 'aide', 'to', 'agriculture', 'secretary', 'richard', 'lyng', 'said.', '\"but', 'there', 'just', \"isn't\", 'much', 'talk', 'about', 'it,', 'informally', 'or', 'formally.\"', 'most', 'analyst', 'interviewed', 'by', 'reuters', 'were', 'more', 'confident', 'than', 'usda', 'official', 'that', 'bonus', 'wheat', 'would', 'be', 'offered', 'to', 'the', 'soviets,', 'even', 'though', 'u.s.', 'official', 'did', 'not', 'make', 'such', 'an', 'offer', 'when', 'they', 'held', 'grain', 'talk', 'with', 'soviet', 'counterpart', 'earlier', 'this', 'week.', 'but', 'administration', 'and', 'private', 'source', 'agreed', 'that', 'if', 'the', 'reagan', 'administration', 'did', 'decide', 'to', 'offer', 'subsidized', 'wheat', 'to', 'moscow,', 'it', 'could', 'take', 'several', 'months.', '\"i', 'just', \"don't\", 'see', 'any', 'proposal', 'like', 'that', 'sailing', 'through', 'any', 'interagency', 'process,\"', 'the', 'aide', 'to', 'lyng', 'said.', '\"an', 'export', 'enhancement', 'offer', 'is', 'not', 'consummated', 'overnight,\"', 'said', 'one', 'former', 'usda', 'official,', 'who', 'noted', 'that', 'the', 'administration', 'took', 'three', 'month', 'to', 'decide', 'in', 'favor', 'of', 'selling', 'china', 'wheat', 'under', 'the', 'subsidy', 'program.', 'an', 'official', 'representing', 'a', 'large', 'grain', 'trade', 'company', 'said', 'deliberation', 'within', 'usda', 'might', 'be', 'nudged', 'along', 'by', 'member', 'of', 'congress,', 'a', 'number', 'of', 'whom', 'urged', 'usda', 'this', 'week', 'to', 'make', 'a', 'wheat', 'subsidy', 'offer', 'to', 'the', 'soviets.', 'but', \"lyng's\", 'aide', 'said', 'that', 'during', 'a', 'day-long', 'visit', 'to', 'capitol', 'hill', 'yesterday,', 'house', 'member', 'did', 'not', 'press', 'the', 'secretary', 'on', 'the', 'subsidy', 'question', 'a', 'single', 'time.', 'the', \"administration's\", 'interagency', 'trade', 'policy', 'review', 'group,', 'comprised', 'of', 'subcabinet-level', 'officials,', 'ha', 'not', 'been', 'asked', 'to', 'clear', 'a', 'request', 'to', 'offer', 'moscow', 'wheat', 'under', 'the', 'eep,', 'official', 'at', 'the', 'u.s.', 'trade', \"representative's\", 'office', 'said.', 'in', 'their', 'talk', 'this', 'week,', 'the', 'two', 'side', 'discussed', 'the', \"administration's\", 'previous', 'eep', 'offer', 'but', 'did', 'not', 'talk', 'about', 'any', 'new', 'initiative.', 'one', 'usda', 'official', 'who', 'took', 'part', 'in', 'the', 'consultation', 'this', 'week', 'described', 'them', 'a', 'an', 'exchange', 'of', '\"calm,', 'basic,', 'factual', 'economics.\"', 'another', 'usda', 'official', 'said', 'there', 'wa', '\"not', 'even', 'an', 'informal', 'suggestion', 'or', 'hint\"', 'that', 'the', 'soviet', 'would', 'live', 'up', 'to', 'their', 'pledge', 'to', 'buy', 'four', 'mln', 'tonne', 'of', 'wheat', 'this', 'year', 'if', 'they', 'were', 'granted', 'more', 'favorable', 'terms.', 'usda', 'and', 'private', 'source', 'agreed', 'that', 'consideration', 'of', 'an', 'eep', 'initiative', 'by', 'interagency', 'review', 'group', 'likely', 'would', 'be', 'delayed', 'because', 'of', 'disarray', 'within', 'the', 'white', 'house', 'stemming', 'from', 'the', 'iran', 'arm', 'affair.', '</body>']\n--\n['<date>26-feb-1987', '18:07:18.31</date>', '<title>u.s.', 'treasury', 'part', 'of', 'argentine', 'bridge', 'loan</title>', '<body>the', 'u.s.', 'treasury', 'said', 'it', 'wa', 'willing', 'to', 'participate', 'with', 'several', 'other', 'industrial', 'country', 'in', 'providing', 'a', '500', 'mln-dlr', 'short-term', 'bridge', 'loan', 'to', 'argentina.', 'the', 'treasury', 'announcecement', 'did', 'not', 'name', 'the', 'other', 'country', 'nor', 'the', 'amount', 'of', 'financing', 'the', 'united', 'state', 'wa', 'willing', 'to', 'supply.', 'argentina', 'announced', 'a', 'wage', 'and', 'price', 'freeze', 'on', 'wednesday', 'night', 'and', 'is', 'negotiating', 'with', 'new', 'york', 'banker', 'for', 'about', '2.15', 'billion', 'dlrs', 'in', 'new', 'loan', 'and', 'other', 'financing.', '\"our', 'willingness', 'to', 'participate', 'in', 'this', 'multilateral', 'short-term', 'financing', 'indicates', 'our', 'support', 'for', \"argentina's\", 'economic', 'program', 'to', 'achieve', 'sustainable', 'growth', 'and', 'a', 'viable', 'balance', 'of', 'payment', 'position,\"', 'the', 'treassury', 'statement', 'said.', 'in', 'announcing', 'a', 'four-month', 'wage', 'and', 'price', 'freeze,', 'argentine', 'official', 'said', 'the', 'country', 'needed', '\"a', 'more', 'serene', 'climate\"', 'to', 'carry', 'out', 'structural', 'change', 'in', 'the', 'economy.', 'but', 'argentina', 'did', 'not', 'suspend', 'interest', 'payment', 'on', 'it', 'foreign', 'debts,', 'a', 'neighboring', 'brazil', 'did', 'last', 'week.', 'the', 'treasury', 'said', 'the', 'u.s.', 'share', 'of', 'bridge', 'financing', 'for', 'argentina', 'would', 'come', 'from', 'it', 'exchange', 'stabilization', 'fund.', 'the', 'one-page', 'statement', 'noted', 'the', 'international', 'monetary', 'fund', 'expressed', 'confidence', 'in', \"argentina's\", 'economic', 'policy', 'and', 'prospect', 'by', 'approving', 'a', 'new', 'stand-by', 'financing', 'arrangement', 'for', 'it', 'on', 'february', '18.', '\"argentina', 'is', 'expected', 'to', 'qualify', 'for', 'imf', 'balance-of-payments', 'financing', 'which', 'would', 'enable', 'argentina', 'to', 'repay', 'a', 'multilateral', 'bridge', 'loan', 'and', 'support', 'the', 'implementation', 'of', 'it', 'economic', 'program,\"', 'the', 'statement', 'said.', 'the', 'latest', 'argentine', 'action', 'marked', 'the', 'second', 'time', 'in', 'le', 'than', 'two', 'year', 'it', 'government', 'ha', 'used', 'a', 'wage', 'and', 'price', 'freeze', 'to', 'restrain', 'inflation.', 'the', 'debt', 'talk', 'in', 'new', 'york', 'are', 'being', 'headed', 'by', 'argentine', 'finance', 'minister', 'mario', 'brodersohn', 'and', 'are', 'expected', 'to', 'last', 'for', 'several', 'days.', 'along', 'with', 'new', 'financing,', 'argentina', 'reportedly', 'want', 'lower', 'interest', 'rate', 'on', 'an', 'existing', 'total', '53', 'billion', 'dlrs', 'in', 'foreign', 'debt', 'and', 'elimination', 'of', 'foreign', \"banks'\", 'control', 'over', 'how', 'some', 'of', 'the', 'money', 'is', 'loaned', 'in', 'argentina.', '</body>']\n--\n['<date>26-feb-1987', '18:09:37.31</date>', '<title>companies', 'set', 'bid', 'for', 'canada', 'helicopter', 'contract</title>', '<body>(e.h.', 'industry', '(canada)', 'inc)', 'said', 'it', 'plan', 'to', 'bid', 'it', 'eh101', 'helicopter', 'to', 'replace', \"canada's\", 'fleet', 'of', 'sea', 'king', 'aircraft.', 'it', 'said', 'it', 'is', 'joining', 'with', '(bell', 'textron', 'of', 'canada),', 'canadian', 'marconi', 'co', '(cmw),', '(imp', 'group),', 'and', '(paramax', 'electronics', 'inc)', 'and', 'is', 'supported', 'by', '(augusta', 's.p.a.),', '(sikorsky', 'aircraft),', 'and', '(westland', 'group)', 'in', 'the', 'bid.', 'the', 'eh101,', 'aimed', 'at', 'detecting', 'and', 'engaging', 'submarines,', 'wa', 'designed', 'for', 'use', 'by', 'the', 'british', 'and', 'italian', 'navy', 'and', 'is', 'due', 'to', 'enter', 'service', 'in', '1992,', 'e.h.', 'said.', '</body>']\n--\n['<date>26-feb-1987', '18:11:09.21</date>', '<title>alatenn', 'resource', 'inc', '&lt;atng>', '4th', 'qtr', 'net</title>', '<body>shr', '75', 'ct', 'v', '52', 'ct', 'net', '1,699,124', 'v', '1,177,786', 'rev', '45.6', 'mln', 'v', '31.6', 'mln', '12', 'mths', 'shr', '2.22', 'dlrs', 'v', '2.20', 'dlrs', 'net', '5,057,292', 'v', '4,961,085', 'rev', '130.2', 'mln', 'v', '126.7', 'mln', '</body>']\n--\n"
    }
   ],
   "source": [
    "listOfFiles = readFile('D:/Kuliah/Semester_6/STBI/New folder/searchEngineMiniProject/DataRouter')\n",
    "listOfWordsOfFile = []\n",
    "\n",
    "for i in listOfFiles: #iterasi tiap file\n",
    "    listOfWords = readPerWord(i)\n",
    "    listOfWords = removeEnter(listOfWords)\n",
    "    listOfWords = removeNull(listOfWords)\n",
    "    listOfWords = caseFolding(listOfWords)\n",
    "    listOfWords = removeStopWord(listOfWords)\n",
    "    listOfWords = lemmatization(listOfWords)\n",
    "    #listOfWords = stemming(listOfWords)\n",
    "\n",
    "    listOfWordsOfFile.append(listOfWords)\n",
    "\n",
    "# listOfWords = removeEnter(listOfWords)\n",
    "    \n",
    "for i in listOfWordsOfFile:\n",
    "    print(i)\n",
    "    print('--')"
   ]
  }
 ],
 "metadata": {
  "kernelspec": {
   "display_name": "Python 3",
   "language": "python",
   "name": "python3"
  },
  "language_info": {
   "codemirror_mode": {
    "name": "ipython",
    "version": 3
   },
   "file_extension": ".py",
   "mimetype": "text/x-python",
   "name": "python",
   "nbconvert_exporter": "python",
   "pygments_lexer": "ipython3",
   "version": "3.7.2-final"
  }
 },
 "nbformat": 4,
 "nbformat_minor": 2
}