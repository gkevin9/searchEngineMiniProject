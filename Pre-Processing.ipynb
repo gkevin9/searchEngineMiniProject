{
 "cells": [
  {
   "cell_type": "code",
   "execution_count": 1,
   "metadata": {},
   "outputs": [],
   "source": [
    "from nltk.corpus import stopwords\n",
    "from nltk.stem import WordNetLemmatizer\n",
    "import re\n",
    "import glob\n",
    "from nltk.stem.porter import PorterStemmer"
   ]
  },
  {
   "cell_type": "code",
   "execution_count": 2,
   "metadata": {},
   "outputs": [
    {
     "name": "stdout",
     "output_type": "stream",
     "text": "Harga mangga per kg adalah 20.500\n"
    }
   ],
   "source": [
    "s = \"Harga mangga per kg adalah 20.500.\"\n",
    "s = re.sub(r'\\W$','',s)\n",
    "print(s)"
   ]
  },
  {
   "cell_type": "code",
   "execution_count": 3,
   "metadata": {},
   "outputs": [],
   "source": [
    "def readFile(directory):\n",
    "    listFile = glob.glob(directory+\"/*.txt\")\n",
    "    return listFile"
   ]
  },
  {
   "cell_type": "code",
   "execution_count": 4,
   "metadata": {},
   "outputs": [],
   "source": [
    "def readPerWord(file):\n",
    "    words = []\n",
    "    f = open(file, 'r') #open file\n",
    "    for line in f:\n",
    "        words.extend(line.split(' ')) #tiap satu baris split per kata\n",
    "        for word in words:\n",
    "            re.sub(r'\\W$','',word)\n",
    "\n",
    "    f.close()\n",
    "\n",
    "    return words"
   ]
  },
  {
   "cell_type": "code",
   "execution_count": 5,
   "metadata": {},
   "outputs": [],
   "source": [
    "def removeEnter(listOfWords): #['<BODY>\\n']\n",
    "    for i in range(len(listOfWords)):\n",
    "        listOfWords[i] = listOfWords[i].replace('\\n','')\n",
    "        \n",
    "    return listOfWords"
   ]
  },
  {
   "cell_type": "code",
   "execution_count": 6,
   "metadata": {},
   "outputs": [],
   "source": [
    "def removeNull(listOfWords): #['','','eat','food','','']\n",
    "    listOfWords = list(filter(None, listOfWords))\n",
    "    \n",
    "    return listOfWords"
   ]
  },
  {
   "cell_type": "code",
   "execution_count": 7,
   "metadata": {},
   "outputs": [],
   "source": [
    "def caseFolding(listOfWords):\n",
    "    for i in range(len(listOfWords)):\n",
    "        listOfWords[i] = listOfWords[i].casefold()\n",
    "        \n",
    "    return listOfWords"
   ]
  },
  {
   "cell_type": "markdown",
   "metadata": {},
   "source": [
    "<h3>Load Stop Word from NLTK</h3>"
   ]
  },
  {
   "cell_type": "code",
   "execution_count": 8,
   "metadata": {},
   "outputs": [],
   "source": [
    "stop_words = stopwords.words('english')"
   ]
  },
  {
   "cell_type": "code",
   "execution_count": 14,
   "metadata": {},
   "outputs": [],
   "source": [
    "def removeStopWord(listOfWords):\n",
    "    for i in listOfWords:\n",
    "        if i in stop_words:\n",
    "            listOfWords.remove(i)\n",
    "        \n",
    "    return listOfWords"
   ]
  },
  {
   "cell_type": "markdown",
   "metadata": {},
   "source": [
    "<h3>Load Lemmatizer from NLTK</h3>"
   ]
  },
  {
   "cell_type": "code",
   "execution_count": 15,
   "metadata": {},
   "outputs": [],
   "source": [
    "lemmatizer = WordNetLemmatizer()"
   ]
  },
  {
   "cell_type": "code",
   "execution_count": 16,
   "metadata": {},
   "outputs": [],
   "source": [
    "def lemmatization(listOfWords):\n",
    "    for i in range(len(listOfWords)):\n",
    "        listOfWords[i] = lemmatizer.lemmatize(listOfWords[i])\n",
    "        \n",
    "    return listOfWords"
   ]
  },
  {
   "cell_type": "markdown",
   "execution_count": null,
   "metadata": {},
   "outputs": [],
   "source": [
    "<h3>Load Stemming from NLTK</h3>"
   ]
  },
  {
   "cell_type": "code",
   "execution_count": 17,
   "metadata": {},
   "outputs": [],
   "source": [
    "def stemming(listOfWords):\n",
    "    porter = PorterStemmer()\n",
    "    stemmed = [porter.stem(word) for word in listOfWords]\n",
    "    \n",
    "    return stemmed"
   ]
  },
  {
   "cell_type": "markdown",
   "metadata": {},
   "source": [
    "<h1>Test</h1>"
   ]
  },
  {
   "cell_type": "code",
   "execution_count": 18,
   "metadata": {},
   "outputs": [
    {
     "name": "stdout",
     "output_type": "stream",
     "text": "mmitte', 'express', '\"grave', 'concern\"', 'chief', 'debt', 'negoti', 'antonio', 'padua', 'de', 'seixa', \"country'\", 'suspens', 'interest', 'payments,', 'accord', 'telex', 'committe', 'chairman', 'citibank', 'creditor', 'bank', 'worldwide.', 'banker', 'said', 'diplomat', 'phrase', 'beli', 'deep', 'anger', 'frustrat', 'committe', \"brazil'\", 'unilater', 'move', 'last', 'friday', 'subsequ', 'freez', 'some', '15', 'billion', 'dlr', 'short-term', 'trade', 'interbank', 'lines.', 'seixas,', 'director', 'brazilian', 'central', \"bank'\", 'foreign', 'debt', 'department,', 'met', 'full', 'panel', 'tuesday', 'wednesday.', 'seixas,', 'met', 'morn', 'senior', 'citibank', 'execut', 'william', 'rhode', 'repres', 'committe', 'vice-chairmen', 'morgan', 'guaranti', 'trust', 'co', 'lloyd', 'bank', 'plc,', 'told', 'bank', 'the', 'govern', 'prepar', 'a', 'telex', 'explain', 'clarifi', 'the', 'freez', 'short-term', 'credits.', 'the', 'telex', 'could', 'sent', 'creditor', 'earli', 'today,', 'banker', 'said.', 'despit', 'the', 'rise', 'tempers,', 'banker', 'said', 'are', 'plan', 'brazilian', 'financ', 'minist', 'dilson', 'funaro', 'meet', 'commerci', 'banker', 'hi', 'trip', 'washington', 'friday', 'saturday.', 'funaro', 'be', 'explain', \"brazil'\", 'action', 'u.s.', 'treasuri', 'secretari', 'jame', 'baker,', 'feder', 'reserv', 'board', 'chairman', 'paul', 'volcker', 'intern', 'monetari', 'fund', 'manag', 'director', 'michel', 'camdessu', 'travel', 'europ', 'the', 'weekend.', 'meanwhile,', 'banker', 'hear', 'new', 'york', 'thi', 'afternoon', 'impact', \"brazil'\", 'hard', 'line', 'would', 'argentina,', 'an', 'initi', 'present', 'argentin', 'treasuri', 'secretari', 'mario', 'brodersohn', 'on', 'hi', \"country'\", 'request', '2.15', 'billion', 'dlr', 'new', 'loan', 'a', 'multi-year', 'reschedul', 'agreement.', 'argentina', 'threaten', 'to', 'emul', \"brazil'\", 'payment', 'moratorium', 'the', 'bank', 'not', 'grant', 'it', 'request.', '</body>']\n--\n['<date>26-feb-1987', '17:57:05.23</date>', '<title>lng', 'import', 'algeria', 'unlik', '1987</title>', '<body>liquefi', 'natur', 'ga', 'import', 'algeria', 'unlik', 'happen', '1987', 'even', 'though', 'econom', 'feasible,', 'u.s.', 'industri', 'analyst', 'sourc', 'said.', 'youcef', 'yousfi,', 'director-gener', 'sonatrach,', 'algerian', 'state', 'petroleum', 'agency,', 'indic', 'televis', 'interview', 'algier', 'such', 'import', 'would', 'made', 'year.', '\"contract', 'negotiations,', 'file', 'u.s.', 'govern', 'time', 'requir', 'restart', 'mothbal', 'termin', 'delay', 'the', 'import', '1988/1989,\"', 'daniel', 'tulis,', 'natur', 'ga', 'analyst', 'shearson', 'lehman', 'bros.', 'said.', 'sonatrach', 'current', 'negoti', 'two', 'it', 'former', 'customers,', 'panhandl', 'eastern', '&lt;pel>', 'distrigas,', 'subsidiari', 'cabot', 'corp', '&lt;cbt>', 'resum', 'lng', 'export,', 'compani', 'offici', 'told', 'reuters.', 'third,', 'el', 'paso', 'gas,', 'subsidiari', 'burlington', 'northern', '&lt;bni>,', 'express', 'interest.', 'industri', 'analyst', 'said', 'import', 'algerian', 'lng', 'feasible.', '\"on', 'margin', 'cost', 'basis,', 'the', 'compani', 'have', 'made', 'capit', 'invest', 'handl', 'lng', 'import', 'oper', 'profit', 'even', 'the', 'current', 'price', 'environment,\"', 'frank', 'spadine,', 'energi', 'economist', 'banker', 'trust,', 'said.', 'analyst', 'not', 'forse', 'major', 'impact', 'algerian', 'import', 'u.s.', 'price', 'are', 'current', 'soft', 'expect', 'trend', 'higher', 'the', 'end', '1987.', 'a', 'declin', 'ga', 'drill', 'the', 'time', 'lag', 'bring', 'gulf', 'mexico', 'product', 'onstream', 'tighten', 'ga', 'suppli', 'firm', 'prices,', \"shearson'\", 'tuli', 'said.', 'thi', 'context,', 'algerian', 'lng', 'import', 'would', 'a', 'sourc', 'supplement', 'suppli', 'u.s.', 'domest', 'production,', 'added.', 'compani', 'sourc', 'current', 'talk', 'algeria', 'agree,', 'say', 'algerian', 'lng', 'would', 'serv', 'meet', 'peak', 'demand.', 'compani', 'sourc', 'also', 'said', 'ani', 'negoti', 'algeria', 'would', 'emphas', 'looser', 'arrang', 'would', 'relat', 'volum', 'market', 'requir', 'price', 'u.s.', 'spot', 'market', 'values.', '</body>']\n--\n['<date>26-feb-1987', '17:59:30.27</date>', '<title>u.s.', 'farm', 'credit', 'rescu', 'bill', 'seen', 'easter</title>', '<body>th', 'chairman', 'senat', 'agricultur', 'subcommitte', 'credit', 'said', 'panel', 'consid', 'farm', 'credit', 'rescu', 'packag', 'easter', 'even', 'system', 'it', 'regul', 'ask', 'help', 'then.', '\"we\\'r', 'go', 'bill', 'markup,', 'guarante', 'you,', 'easter', 'recess,\"', 'sen.', 'david', 'boren', '(d-okla.)', 'said.', 'senat', 'major', 'leader', 'robert', 'byrd', '(d-w.va.)', 'want', 'recommend', 'farm', 'credit', 'present', 'april', '11,', 'congress', 'schedul', 'break', 'easter,', 'boren', 'said.', 'boren', 'urg', 'farm', 'credit', 'administr', '(fca),', \"system'\", 'regulator,', 'quickli', 'make', 'formal', 'request', 'aid.', '1985', 'farm', 'credit', 'law', 'pass', 'congress,', 'fca,', 'regulator,', 'certifi', 'system', 'exhaust', 'it', 'capit', 'need', 'feder', 'govern', 'help.', 'however,', 'fca', 'chairman', 'frank', 'naylor', 'said', 'much', \"system'\", 'remain', 'capit', 'tied-up', 'legal', 'action,', 'could', 'technic', 'certifi', 'rescu', 'need', 'year', 'perhap', 'not', 'even', '1988.', 'other', 'republican', 'member', 'three-man', 'fca', 'board,', 'marvin', 'duncan,', 'agreed.', 'boren', 'urg', 'even', 'fca', 'cannot', 'technic', 'certifi', 'aid', 'needed,', 'should', 'request', 'help', 'informally.', '\"we', 'know', 'need', 'capit', 'infusion,\"', 'boren', 'said.', 'boren', 'fca', 'offici', 'spoke', 'hear', 'plight', 'farm', 'credit', 'system.', 'also', 'hearing,', 'brent', 'beesely,', 'chief', 'execut', 'farm', 'credit', 'council', 'repres', 'system,', 'said', 'the', 'end', '1986', 'the', 'system', 'onli', '1.5', 'billion', 'dlr', 'work', 'capit', 'remain', 'loss', '4.6', 'billion', 'dlr', 'the', 'last', 'two', 'years.', 'he', 'not', 'ask', 'govern', 'aid,', 'beesley', 'indic', 'the', 'situat', 'seriou', 'some', 'the', '12', 'system', 'districts.', '\"a', 'signific', 'number', 'bank', 'associ', 'the', 'econom', 'depress', 'area', 'continu', 'suffer', 'extraordinari', 'losses,\"', 'beesley', 'said.', 'jim', 'billington,', 'democrat', 'member', 'the', 'fca', 'board,', 'said', 'the', 'troubl', 'the', 'system', 'encourag', 'the', 'flight', 'some', 'one', 'billion', 'dlr', 'per', 'month', 'the', 'system', 'borrow', 'repay', 'loans.', 'the', \"system'\", 'total', 'portfolio', 'shrank', '54.6', 'billion', 'dlr', 'the', 'end', 'last', 'year', '66.6', 'billion', 'the', 'previou', 'year.', 'fca', 'board', 'member', 'said', 'borrow', 'holder', 'bond', 'the', 'system', 'need', 'assur', 'money', 'safe.', 'naylor', 'suggest', 'the', 'need', 'feder', 'assur', 'bondholders.', '\"the', 'bondhold', 'have', 'no', 'worri', 'at', 'thi', 'time,\"', 'billington', 'said.', 'naylor', 'said', 'sever', 'propos', 'revamp', 'the', 'farm', 'credit', 'system', 'circulating.', 'the', 'propos', 'rang', 'consolid', 'the', 'system', 'a', 'central', 'nation', 'lender,', 'de-centr', 'semi-independ', 'institutions.', 'he', 'the', 'system', 'spokesman', 'beesley', 'cautiou', 'propos', 'a', 'secondari', 'market', 'farm', 'loans.', 'propos', 'would', 'packag', 'farm', 'loan', 'resal', 'to', 'investors.', 'naylor', 'and', 'beesley', 'said', 'a', 'secondari', 'market', 'set-up', 'outsid', 'the', 'farm', 'credit', 'system', 'would', 'hurt', 'the', 'system.', 'beesley', 'said', 'a', 'secondari', 'market', 'the', 'farm', 'credit', 'system', 'it', 'agent', 'could', 'be', 'develop', 'without', 'congression', 'legislation.', '</body>']\n--\n['<date>26-feb-1987', '18:00:08.86</date>', '<title>report', 'could', 'final', 'blow', 'regan</title>', '<body>th', 'tower', \"commission'\", 'scath', 'comment', 'presid', \"reagan'\", 'embattl', 'chief', 'staff', 'donald', 'regan', 'could', 'signal', 'death', 'knell', 'hi', 'white', 'hous', 'tenure,', 'impact', 'strong', 'critic', 'two', 'top', 'offici', 'less', 'clear.', 'regan', 'come', 'tough', 'critic', 'hi', 'handl', \"reagan'\", 'worst', 'polit', 'crisi', 'sinc', 'detail', 'covert', 'arm', 'sale', 'iran', 'divers', 'profit', 'nicaraguan', 'rebel', 'first', 'emerg', 'last', 'november.', 'critic', 'role', 'secretari', 'state', 'georg', 'shultz', 'defens', 'secretari', 'caspar', 'weinberger,', 'said', 'oppos', 'iran', 'arm', 'initi', 'yet', 'fail', 'end', 'it,', 'been', 'mute', 'releas', 'tower', 'commiss', 'report.', '\"their', 'oblig', 'give', 'presid', 'full', 'support', 'continu', 'advic', 'respect', 'program', 'or,', 'could', 'conscienc', 'that,', 'so', 'inform', 'president,\"', 'report', 'said', 'three-month', 'probe.', '\"instead,', 'simpli', 'distanc', 'program.', 'protect', 'record', 'own', 'posit', 'issue.', 'they', 'were', 'energet', 'attempt', 'protect', 'presid', 'from', 'consequ', 'hi', 'person', 'commit', 'free', 'hostages.\"', 'report', 'save', 'it', 'most', 'scath', 'languag', 'for', 'regan,', 'gruff', 'former', 'wall', 'street', 'execut', 'close', 'person', 'friend', 'reagan', 'whose', 'autocrat', 'rule', 'white', 'hous', 'anger', 'top', 'reagan', 'offici', 'and,', 'perhap', 'importantly,', \"reagan'\", 'wife', 'nancy.', '\"more', 'almost', 'chief', 'staff', 'recent', 'memory,', 'assert', 'person', 'control', 'white', 'hous', 'staff', 'sought', 'extend', 'thi', 'control', 'nation', 'secur', 'adviser,\"', 'said', 'report.', 'washington', 'analyst', 'said', \"regan'\", 'departur', 'appear', 'be', 'matter', 'timing.', 'mani', 'expect', 'the', 'presid', 'announc', 'when', 'address', 'the', 'nation', 'the', 'tower', \"commission'\", 'find', 'next', 'week.', \"regan'\", 'departur', 'appar', 'immin', 'poindext', 'other', 'key', 'figur', 'the', 'scandal', 'alreadi', 'of', 'office,', 'the', \"report'\", 'tough', 'critic', 'of', 'shultz', 'weinberg', 'could', 'turn', 'the', 'spotlight', 'their', 'future.', 'senat', 'republican', 'leader', 'robert', 'dole,', 'a', 'key', 'reagan', 'ally,', 'told', 'report', 'the', 'report', 'disclos', '\"coloss', 'blunders\"', 'said', 'peopl', 'had', 'serv', 'the', 'presid', 'well', 'step', 'aside,', 'specifi', 'go.', '\"it', 'would', 'seem', 'to', 'me', 'if', \"don't\", 'protect', 'the', 'president,', \"don't\", 'serv', 'the', 'presid', 'well,', 'you', 'should', 'move', 'on,\"', 'the', 'kansa', 'republican,', 'a', 'like', 'presidenti', 'candid', 'next', 'year,', 'said.', 'one', 'republican', 'strategist', 'said', 'he', 'believ', 'regan', 'would', 'not', 'be', 'the', 'onli', 'white', 'hous', 'offici', 'to', 'leav', 'in', 'the', 'near', 'future.', '</body>']\n--\n['<date>26-feb-1987', '18:02:58.44</date>', '<title>swiss', 'economi', 'excel', 'condition,', 'oecd', 'says</title>', \"<body>switzerland'\", 'economy,', 'combin', 'low', 'unemployment,', 'financi', 'stabil', 'larg', 'extern', 'payment', 'surplus,', 'excel', 'condit', 'face', 'satisfactori', 'future,', 'organis', 'econom', 'cooper', 'development,', 'oecd,', 'said.', 'reflect', 'success', 'stabl', 'rel', 'tight', 'fiscal', 'monetari', 'polici', 'follow', 'government,', 'said.', 'oecd,', 'annual', 'report', 'switzerland,', 'pick', 'some', 'sign', 'slowdown', 'activ', 'slight', 'pick-up', 'inflat', 'year,', 'said', 'gave', 'caus', 'concern.', 'studi', 'forecast', 'declin', 'gross', 'domest', 'product', 'growth', '1.75', 'pct', 'year', 'estim', 'two', 'pct', '1986', 'a', 'small', 'rise', 'consum', 'price', 'inflat', '1.25', 'pct', 'last', \"year'\", 'sharp', 'fall', '0.75', 'pct', '3.6', 'pct', '1985.', 'said', 'job', 'creation', 'continu', 'absorb', 'a', 'modest', 'increas', 'workforce,', 'leav', 'unemploy', 'rate', 'unchang', 'around', 'one', 'pct,', 'lowest', '24-industri', 'nation', 'oecd', 'area.', 'assum', 'an', 'averag', 'exchang', 'rate', '1.71', 'swiss', 'franc', 'dollar', 'year,', '1.69', 'second', 'half', '1986,', 'report', 'forecast', 'a', '2.75', 'pct', 'rise', 'export', 'a', '3.5', 'pct', 'rise', 'import', 'year', 'rise', '3.25', 'pct', '6.5', 'pct', 'respect', '1986.', 'faster', 'growth', 'import', 'compar', 'export', 'year', 'last,', 'reflect', 'buoyant', 'privat', 'consumption,', 'meant', 'contribut', 'the', 'foreign', 'payment', 'balanc', 'gdp', 'would', 'shrink', 'both', 'years.', '\"given', \"switzerland'\", 'larg', 'extern', 'surplus,', 'should', 'no', 'concern', 'domest', 'demand', 'grow', 'faster', 'gdp...which,', 'a', 'small', 'way,', 'would', 'contribut', 'improv', 'intern', 'balances,\"', 'the', 'oecd', 'said.', 'real', 'privat', 'consumpt', 'appear', 'have', 'unusu', 'buoyant', 'last', 'year,', 'a', '3.25', 'pct', 'growth', 'rate,', 'sever', 'year', 'rel', 'weakness,', 'noted.', '1987', 'privat', 'consumpt', 'expect', 'slow', 'somewhat', 'a', '2.25', 'pct', 'growth', 'rate,', 'should', 'still', 'outstrip', 'overal', 'gdp,', 'added.', 'the', 'outlook', 'invest', 'plant', 'machineri', 'remain', 'bright', '1987,', 'with', 'capac', 'use', 'near', 'record', 'level', 'last', 'year', 'wa', 'scope', 'rationalis', 'modernis', 'both', 'the', 'industri', 'servic', 'sectors,', 'said.', 'a', 'consequence,', 'growth', 'machineri', 'equip', 'invest', 'like', 'deceler', 'onli', 'slightli', 'year', 'vigor', 'growth', '1986.', 'the', 'report', 'rais', 'a', 'questionmark', 'the', 'prospect', 'tourism', 'the', 'bank', 'industry,', 'two', 'major', 'servic', 'sector', 'earner', 'foreign', 'exchange.', 'the', 'long-term', 'appreci', 'the', 'swiss', 'franc,', 'the', 'acceler', 'deregul', 'foreign', 'bank', 'markets,', 'could', 'lead', 'a', 'loss', 'intern', 'market', 'share', 'both,', 'said.', 'particularli', 'the', 'banks,', '\"recent', 'develop', 'intern', 'financi', 'market', 'give', 'rise', 'the', 'question', 'whether', 'the', 'swiss', 'financi', 'system,', 'ha', 'shown', 'substanti', 'flexibl', 'in', 'the', 'past,', 'adapt', 'at', 'the', 'speed', 'requir', '...', 'preserv', 'it', 'competit', 'position,\"', 'it', 'said.', '</body>']\n--\n['<date>26-feb-1987', '18:04:52.91</date>', '<title>u.s.', 'wheat', 'bonu', 'soviet', 'call', 'dormant</title>', '<body>th', 'u.s.', 'agricultur', 'depart', 'activ', 'consid', 'offer', 'subsid', 'wheat', 'soviet', 'union', 'export', 'enhanc', 'program', '(eep),', 'senior', 'usda', 'offici', 'said.', 'however,', 'grain', 'trade', 'analyst', 'said', 'propos', 'rule', 'offer', 'might', 'made,', 'though', 'not', 'veri', 'near', 'future.', '\"the', 'grain', 'compani', 'tri', 'get', 'fire', 'again,\"', 'aid', 'agricultur', 'secretari', 'richard', 'lyng', 'said.', '\"but', 'much', 'talk', 'it,', 'inform', 'formally.\"', 'analyst', 'interview', 'reuter', 'confid', 'usda', 'offici', 'bonu', 'wheat', 'would', 'offer', 'soviets,', 'even', 'though', 'u.s.', 'offici', 'not', 'make', 'offer', 'they', 'held', 'grain', 'talk', 'soviet', 'counterpart', 'earlier', 'week.', 'administr', 'privat', 'sourc', 'agre', 'reagan', 'administr', 'decid', 'offer', 'subsid', 'wheat', 'moscow,', 'could', 'take', 'sever', 'months.', '\"i', 'just', \"don't\", 'see', 'propos', 'like', 'sail', 'ani', 'interag', 'process,\"', 'aid', 'lyng', 'said.', '\"an', 'export', 'enhanc', 'offer', 'not', 'consumm', 'overnight,\"', 'said', 'one', 'former', 'usda', 'official,', 'note', 'administr', 'took', 'three', 'month', 'decid', 'favor', 'sell', 'china', 'wheat', 'subsidi', 'program.', 'offici', 'repres', 'larg', 'grain', 'trade', 'compani', 'said', 'deliber', 'within', 'usda', 'might', 'nudg', 'along', 'member', 'congress,', 'number', 'whom', 'urg', 'usda', 'week', 'make', 'wheat', 'subsidi', 'offer', 'the', 'soviets.', \"lyng'\", 'aid', 'said', 'dure', 'day-long', 'visit', 'capitol', 'hill', 'yesterday,', 'hous', 'member', 'not', 'press', 'the', 'secretari', 'the', 'subsidi', 'question', 'singl', 'time.', 'the', \"administration'\", 'interag', 'trade', 'polici', 'review', 'group,', 'compris', 'subcabinet-level', 'officials,', 'not', 'ask', 'clear', 'request', 'offer', 'moscow', 'wheat', 'the', 'eep,', 'offici', 'the', 'u.s.', 'trade', \"representative'\", 'offic', 'said.', 'talk', 'week,', 'the', 'two', 'side', 'discuss', 'the', \"administration'\", 'previou', 'eep', 'offer', 'did', 'not', 'talk', 'ani', 'new', 'initiative.', 'one', 'usda', 'offici', 'took', 'part', 'in', 'the', 'consult', 'week', 'describ', 'as', 'an', 'exchang', '\"calm,', 'basic,', 'factual', 'economics.\"', 'anoth', 'usda', 'offici', 'said', 'wa', '\"not', 'even', 'an', 'inform', 'suggest', 'hint\"', 'the', 'soviet', 'would', 'live', 'their', 'pledg', 'to', 'buy', 'four', 'mln', 'tonn', 'wheat', 'year', 'if', 'they', 'grant', 'more', 'favor', 'terms.', 'usda', 'and', 'privat', 'sourc', 'agre', 'consider', 'an', 'eep', 'initi', 'interag', 'review', 'group', 'like', 'would', 'delay', 'of', 'disarray', 'within', 'the', 'white', 'hous', 'stem', 'the', 'iran', 'arm', 'affair.', '</body>']\n--\n['<date>26-feb-1987', '18:07:18.31</date>', '<title>u.s.', 'treasuri', 'part', 'argentin', 'bridg', 'loan</title>', '<body>th', 'u.s.', 'treasuri', 'said', 'will', 'particip', 'sever', 'industri', 'countri', 'provid', '500', 'mln-dlr', 'short-term', 'bridg', 'loan', 'argentina.', 'treasuri', 'announcec', 'not', 'name', 'other', 'countri', 'amount', 'financ', 'unit', 'state', 'wa', 'will', 'supply.', 'argentina', 'announc', 'wage', 'price', 'freez', 'wednesday', 'night', 'negoti', 'new', 'york', 'banker', 'about', '2.15', 'billion', 'dlr', 'new', 'loan', 'other', 'financing.', '\"our', 'willing', 'particip', 'thi', 'multilater', 'short-term', 'financ', 'indic', 'support', \"argentina'\", 'econom', 'program', 'achiev', 'sustain', 'growth', 'viabl', 'balanc', 'payment', 'position,\"', 'treassuri', 'statement', 'said.', 'announc', 'four-month', 'wage', 'price', 'freeze,', 'argentin', 'offici', 'said', 'countri', 'need', '\"a', 'seren', 'climate\"', 'carri', 'structur', 'chang', 'economy.', 'argentina', 'not', 'suspend', 'interest', 'payment', 'foreign', 'debts,', 'neighbor', 'brazil', 'last', 'week.', 'treasuri', 'said', 'u.s.', 'share', 'bridg', 'financ', 'argentina', 'would', 'come', 'it', 'exchang', 'stabil', 'fund.', 'one-pag', 'statement', 'note', 'intern', 'monetari', 'fund', 'express', 'confid', \"argentina'\", 'econom', 'polici', 'prospect', 'approv', 'new', 'stand-bi', 'financ', 'arrang', 'it', 'februari', '18.', '\"argentina', 'expect', 'qualifi', 'imf', 'balance-of-pay', 'financ', 'would', 'enabl', 'argentina', 'repay', 'multilater', 'bridg', 'loan', 'support', 'implement', 'it', 'econom', 'program,\"', 'statement', 'said.', 'latest', 'argentin', 'action', 'mark', 'second', 'time', 'less', 'two', 'year', 'it', 'govern', 'use', 'a', 'wage', 'price', 'freez', 'restrain', 'inflation.', 'the', 'debt', 'talk', 'new', 'york', 'be', 'head', 'argentin', 'financ', 'minist', 'mario', 'brodersohn', 'are', 'expect', 'last', 'sever', 'days.', 'along', 'new', 'financing,', 'argentina', 'reportedli', 'want', 'lower', 'interest', 'rate', 'an', 'exist', 'total', '53', 'billion', 'dlr', 'foreign', 'debt', 'elimin', 'foreign', \"banks'\", 'control', 'how', 'of', 'the', 'money', 'is', 'loan', 'argentina.', '</body>']\n--\n['<date>26-feb-1987', '18:09:37.31</date>', '<title>compani', 'set', 'bid', 'canada', 'helicopt', 'contract</title>', '<body>(e.h.', 'industri', '(canada)', 'inc)', 'said', 'plan', 'bid', 'eh101', 'helicopt', 'replac', \"canada'\", 'fleet', 'sea', 'king', 'aircraft.', 'said', 'is', 'join', '(bell', 'textron', 'canada),', 'canadian', 'marconi', 'co', '(cmw),', '(imp', 'group),', '(paramax', 'electron', 'inc)', 'is', 'support', '(augusta', 's.p.a.),', '(sikorski', 'aircraft),', '(westland', 'group)', 'bid.', 'the', 'eh101,', 'aim', 'detect', 'engag', 'submarines,', 'design', 'use', 'the', 'british', 'italian', 'navi', 'is', 'due', 'enter', 'servic', '1992,', 'e.h.', 'said.', '</body>']\n--\n['<date>26-feb-1987', '18:11:09.21</date>', '<title>alatenn', 'resourc', 'inc', '&lt;atng>', '4th', 'qtr', 'net</title>', '<body>shr', '75', 'ct', 'vs', '52', 'ct', 'net', '1,699,124', 'vs', '1,177,786', 'rev', '45.6', 'mln', 'vs', '31.6', 'mln', '12', 'mth', 'shr', '2.22', 'dlr', 'vs', '2.20', 'dlr', 'net', '5,057,292', 'vs', '4,961,085', 'rev', '130.2', 'mln', 'vs', '126.7', 'mln', '</body>']\n--\n"
    }
   ],
   "source": [
    "listOfFiles = readFile('D:/Kuliah/Semester_6/STBI/New folder/searchEngineMiniProject/DataRouter')\n",
    "listOfWordsOfFile = []\n",
    "\n",
    "for i in listOfFiles: #iterasi tiap file\n",
    "    listOfWords = readPerWord(i)\n",
    "    listOfWords = removeEnter(listOfWords)\n",
    "    listOfWords = removeNull(listOfWords)\n",
    "    listOfWords = caseFolding(listOfWords)\n",
    "    listOfWords = removeStopWord(listOfWords)\n",
    "    #listOfWords = lemmatization(listOfWords)\n",
    "    listOfWords = stemming(listOfWords)\n",
    "\n",
    "    listOfWordsOfFile.append(listOfWords)\n",
    "\n",
    "# listOfWords = removeEnter(listOfWords)\n",
    "    \n",
    "for i in listOfWordsOfFile:\n",
    "    print(i)\n",
    "    print('--')"
   ]
  }
 ],
 "metadata": {
  "kernelspec": {
   "display_name": "Python 3",
   "language": "python",
   "name": "python3"
  },
  "language_info": {
   "codemirror_mode": {
    "name": "ipython",
    "version": 3
   },
   "file_extension": ".py",
   "mimetype": "text/x-python",
   "name": "python",
   "nbconvert_exporter": "python",
   "pygments_lexer": "ipython3",
   "version": "3.7.2-final"
  }
 },
 "nbformat": 4,
 "nbformat_minor": 2
}