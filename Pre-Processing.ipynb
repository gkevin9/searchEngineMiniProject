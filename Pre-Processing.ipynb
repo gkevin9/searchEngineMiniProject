{
 "cells": [
  {
   "cell_type": "code",
   "execution_count": 379,
   "metadata": {},
   "outputs": [],
   "source": [
    "from nltk.corpus import stopwords\n",
    "from nltk.stem import WordNetLemmatizer\n",
    "import re\n",
    "import glob\n",
    "from nltk.stem.porter import PorterStemmer\n",
    "from itertools import chain #untuk flaten array 2d"
   ]
  },
  {
   "cell_type": "code",
   "execution_count": 380,
   "metadata": {},
   "outputs": [],
   "source": [
    "def readFile(directory):\n",
    "    listFile = glob.glob(directory+\"/*.txt\")\n",
    "    return listFile"
   ]
  },
  {
   "cell_type": "markdown",
   "metadata": {},
   "source": [
    "## normalisasi"
   ]
  },
  {
   "cell_type": "code",
   "execution_count": 381,
   "metadata": {},
   "outputs": [],
   "source": [
    "def normalisasi(body):\n",
    "\n",
    "    #hapus tag\n",
    "    hapusTag = r'<DATE>|</DATE>|<TITLE>|</TITLE>|<BODY>|</BODY>'\n",
    "    body = re.sub(hapusTag, ' ', body)\n",
    "\n",
    "    #hapus \\n\n",
    "    hapusEnter = r'\\n'\n",
    "    body = re.sub(hapusEnter, ' ', body)\n",
    "\n",
    "    # hapus htmlEntities \n",
    "    htmlEntities = r\"&lt;\"\n",
    "    body = re.sub(htmlEntities, '', body)\n",
    "\n",
    "    kutip2 = r'[\\\"\\(\\)\\<\\>]'\n",
    "    body = re.sub(kutip2, '', body)\n",
    "\n",
    "    # hapus titik dan koma pada akhir string\n",
    "    titikDiAkhirString = r\"([a-zA-Z]+)([^\\w\\s])\"\n",
    "    temp = re.findall(titikDiAkhirString, body)\n",
    "    x = True\n",
    "    while x :\n",
    "        temp = re.findall(titikDiAkhirString, body)\n",
    "        if len(temp) == 0 or len(temp) == 1:\n",
    "            x = False\n",
    "        for i in temp:\n",
    "            temp2 = i[0] + i[1]\n",
    "            body = re.sub(temp2, i[0], body)\n",
    "\n",
    "    # hapus titik dan koma pada akhir angka    \n",
    "    titikSetelahAngka = r'(\\d+)(^\\w)\\s'    \n",
    "    temp = re.findall(titikSetelahAngka,body)\n",
    "    while x :\n",
    "        temp = re.findall(titikSetelahAngka, body)\n",
    "        if len(temp) == 0 or len(temp) == 1:\n",
    "            x = False\n",
    "        for i in temp:\n",
    "            temp2 = i[0] + i[1]\n",
    "            body = re.sub(temp2, i[0], body)\n",
    "\n",
    "    kutips = r\"'s\"\n",
    "    body = re.sub(kutips, '', body)\n",
    "    \n",
    "    spasiLebihDariSatu = r'\\s+'\n",
    "    body = re.sub(spasiLebihDariSatu, ' ', body)\n",
    "    return body"
   ]
  },
  {
   "cell_type": "code",
   "execution_count": 382,
   "metadata": {},
   "outputs": [],
   "source": [
    "def readText(file):\n",
    "    words = []\n",
    "    f = open(file, 'r') #open file\n",
    "    text = f.read()    \n",
    "    f.close()\n",
    "\n",
    "    return text"
   ]
  },
  {
   "cell_type": "code",
   "execution_count": 383,
   "metadata": {},
   "outputs": [],
   "source": [
    "def removeEnter(listOfWords): #['<BODY>\\n']\n",
    "    for i in range(len(listOfWords)):\n",
    "        listOfWords[i] = listOfWords[i].replace('\\n','')\n",
    "        \n",
    "    return listOfWords"
   ]
  },
  {
   "cell_type": "code",
   "execution_count": 384,
   "metadata": {},
   "outputs": [],
   "source": [
    "def removeNull(listOfWords): #['','','eat','food','','']\n",
    "    listOfWords = list(filter(None, listOfWords))\n",
    "    \n",
    "    return listOfWords"
   ]
  },
  {
   "cell_type": "code",
   "execution_count": 385,
   "metadata": {},
   "outputs": [],
   "source": [
    "def caseFolding(listOfWords):\n",
    "    for i in range(len(listOfWords)):\n",
    "        listOfWords[i] = listOfWords[i].casefold()\n",
    "        \n",
    "    return listOfWords"
   ]
  },
  {
   "cell_type": "markdown",
   "metadata": {},
   "source": [
    "<h3>Load Stop Word from NLTK</h3>"
   ]
  },
  {
   "cell_type": "code",
   "execution_count": 386,
   "metadata": {},
   "outputs": [],
   "source": [
    "stop_words = stopwords.words('english')"
   ]
  },
  {
   "cell_type": "code",
   "execution_count": 387,
   "metadata": {},
   "outputs": [],
   "source": [
    "def removeStopWord(listOfWords):\n",
    "    for i in listOfWords:\n",
    "        if i in stop_words:\n",
    "            listOfWords.remove(i)\n",
    "        \n",
    "    return listOfWords"
   ]
  },
  {
   "cell_type": "markdown",
   "metadata": {},
   "source": [
    "<h3>Load Lemmatizer from NLTK</h3>"
   ]
  },
  {
   "cell_type": "code",
   "execution_count": 388,
   "metadata": {},
   "outputs": [],
   "source": [
    "lemmatizer = WordNetLemmatizer()"
   ]
  },
  {
   "cell_type": "code",
   "execution_count": 389,
   "metadata": {},
   "outputs": [],
   "source": [
    "def lemmatization(listOfWords):\n",
    "    for i in range(len(listOfWords)):\n",
    "        listOfWords[i] = lemmatizer.lemmatize(listOfWords[i])\n",
    "        \n",
    "    return listOfWords"
   ]
  },
  {
   "cell_type": "markdown",
   "metadata": {},
   "source": [
    "<h3>Load Stemming from NLTK</h3>"
   ]
  },
  {
   "cell_type": "code",
   "execution_count": 390,
   "metadata": {},
   "outputs": [],
   "source": [
    "def stemming(listOfWords):\n",
    "    porter = PorterStemmer()\n",
    "    stemmed = [porter.stem(word) for word in listOfWords]\n",
    "    \n",
    "    return stemmed"
   ]
  },
  {
   "cell_type": "markdown",
   "metadata": {},
   "source": [
    "# Token"
   ]
  },
  {
   "cell_type": "code",
   "execution_count": 391,
   "metadata": {},
   "outputs": [],
   "source": [
    "def make_token(txt):\n",
    "    list_hasil = txt.split(\" \")            \n",
    "    return list_hasil"
   ]
  },
  {
   "cell_type": "markdown",
   "metadata": {},
   "source": [
    "# Term"
   ]
  },
  {
   "cell_type": "code",
   "execution_count": 392,
   "metadata": {},
   "outputs": [],
   "source": [
    "def make_term(file_name_token,file_name_term):\n",
    "    list_term = []\n",
    "    f = open(file_name_token, 'r')\n",
    "    text = f.read()\n",
    "    f.close()\n",
    "    \n",
    "    list_token = text.split(\"\\n\")\n",
    "    for i in list_token:\n",
    "        if i not in list_term:\n",
    "            list_term.append(i)\n",
    "            \n",
    "    f1 = open(file_name_term,'a+')\n",
    "    text = concate_term_newline(list_term)\n",
    "    print(text)    \n",
    "    f1.write(text)\n",
    "    f1.close()\n"
   ]
  },
  {
   "cell_type": "code",
   "execution_count": 393,
   "metadata": {},
   "outputs": [],
   "source": [
    "def concate_term_newline(list_in):\n",
    "    hasil = ''\n",
    "    for i in list_in:\n",
    "        hasil = hasil + \"\\n \" + i\n",
    "        \n",
    "    return hasil"
   ]
  },
  {
   "cell_type": "markdown",
   "metadata": {},
   "source": [
    "# tulis data"
   ]
  },
  {
   "cell_type": "code",
   "execution_count": 394,
   "metadata": {},
   "outputs": [],
   "source": [
    "def writeFile(list_in,file_name):\n",
    "    list_flatten = list(chain.from_iterable(list_in))\n",
    "        \n",
    "    str_of_list = concate_term_newline(list_flatten)\n",
    "    \n",
    "    saveFileToken = open(file_name, 'a+' )\n",
    "    saveFileToken.write(str_of_list)\n",
    "    saveFileToken.close()\n",
    "#     print(list_hasil)\n",
    "    "
   ]
  },
  {
   "cell_type": "markdown",
   "metadata": {},
   "source": [
    "<h2>Add Doc Number</h2>"
   ]
  },
  {
   "cell_type": "code",
   "execution_count": 395,
   "metadata": {},
   "outputs": [],
   "source": [
    "def addDocNumber(_listIn, _docNum):\n",
    "#     _docNum[14:18]\n",
    "    for i in range(len(_listIn)):\n",
    "        _listIn[i] = _listIn[i] + '_' + _docNum[14:18]\n",
    "        \n",
    "    return _listIn"
   ]
  },
  {
   "cell_type": "markdown",
   "metadata": {},
   "source": [
    "<h1>Main</h1>"
   ]
  },
  {
   "cell_type": "code",
   "execution_count": 396,
   "metadata": {},
   "outputs": [
    {
     "name": "stdout",
     "output_type": "stream",
     "text": "essed\n  pumping\n  260,000\n  cartel\n  exported\n  173,500\n  buildan\n  pipelinecosting\n  colombian\n  saidestimated\n  squeezed\n  138\n  jaime\n  lusinchi\n  saidzuela\n  hector\n  hurtado\n  interior\n  coordinate\n  09:33:35.86\n  m3\n  moey\n  roe\n  oe\n  o7\n  oficial\n  09:35:55.99\n  greece\n  piling\n  paralyzing\n  unprecedented\n  handful\n  olympic\n  before\n  trafficin\n  out\n  athens\n  canceled\n  saidheavy\n  snowfall\n  cold\n  09:39:30.30\n  malaysia\n  rubber\n  inra\n  geneva\n  hammer\n  agreementlast\n  lim\n  keng\n  yaik\n  prepare\n  strengthen\n  orderly\n  buffer\n  capable\n  absorbing\n  09:39:45.70\n  pharmacia\n  internationalise\n  suisse\n  stanley\n  svenska\n  handelsbanken\n  treasurer\n  bertil\n  tiusanen\n  gaining\n  internationally\n  stockholm\n  counter\n  09:40:54.41\n  mcdowell\n  interpharm\n  mcdowellenterprises\n  19.9\n  contigencies\n  mcdowellcould\n  fouryear\n  mcdowells\n  mcdowellboard\n  09:41:09.67\n  mortage\n  swapped\n  mortages\n  guarantor\n  convert\n  investmentquality\n  mortgagebacked\n  collateral\n  employed\n  09:43:17.71\n  caledonian\n  diego\n  civil\n  diegos\n  lindbergh\n  gatwick\n  angeleslondon\n  roundtrips\n  10:13:13.34\n  contel\n  satellite\n  ctc\n  assume\n  transponder\n  10:13:54.12\n  mannesse\n  urm\n  mannesmann\n  agmmwgf\n  pipemaking\n  stakein\n  umpany\n  suitable\n  werner\n  dieter\n  wirtschaftswoche\n  urket\n  uquisition\n  fichtel\n  sag\n  37.5\n  heir\n  ben\n  questionsconcerning\n  inheritance\n  10:15:44.63\n  aig\n  1.83\n  296.6\n  120.1\n  4.90\n  2.76\n  795.8\n  420.5\n  139.2\n  46.8\n  94.0\n  10:17:54.70\n  onefor50\n  repositioned\n  reverse\n  3,002,500\n  150,125,000\n  formally\n  orca\n  10:18:25.05\n  fexc\n  152\n  wrongfully\n  infusion\n  280\n  companyhas\n  parent\n  yorkadmitted\n  levied\n  yorkinsurance\n  yorktook\n  reinsurance\n  insurer\n  policyholder\n  yorkrules\n  10:18:32.34\n  rock\n  cafe\n  ssnitial\n  2,240,000\n  sres\n  11.2\n  240,000\n  10:18:46.99\n  eightyear\n  carrying\n  couponof\n  semistate\n  fonds\n  featured\n  102,\n  101-1/2\n  10:18:51.21\n  10:20:40.73\n  royal\n  dungslower\n  dutchsup\n  rdass\n  uharply\n  sirman\n  holmes\n  472\n  2.54\n  stgrom\n  outweighing\n  nonetheless\n  snsport\n  11.39\n  11.06\n  stganalysts\n  notedhat\n  partiall\n  462\n  windfalltax\n  addedbout\n  stgnto\n  exceeding\n  rowland\n  barclays\n  zoete\n  wedd\n  addedhere\n  fallin\n  improbability\n  refining\n  recovering\n  downtream\n  upstream\n  proportion\n  activitycentred\n  typicall\n  reacted\n  halfyear\n  lag\n  worst\n  ugs\n  accentuated\n  volumemarket\n  subdue\n  uation\n  pretty\n  renewal\n  ues\n  exploring\n  uoduction\n  barrela\n  bbd\n  fallif\n  favored\n  stabilise\n  likelihood\n  nonopec\n  marginal\n  shutting\n  extraordinarily\n  welleverything\n  10:21:29.06\n  jenney\n  catalog\n  780\n  741\n  888\n  838\n  10:21:41.00\n  wlwth\n  z\n  fruary\n  wlworth\n  416\n  374\n  mlnin\n  7.1\n  249\n  233\n  mlnwhile\n  167\n  141\n  10:16:12.11\n  phab\n  billioncrownss\n  3.40\n  821.2\n  mlncrownss\n  740.2\n  onceoff\n  mlncrownsor\n  intangible\n  knowhow\n  hightech\n  pharmaciasaid\n  crown\n  12.05\n  12.38\n  depository\n  adr\n  1.96\n  9.49\n  9.49.\n  1.25.\n  10:16:24.19\n  vwr\n  vwrx\n  momentun\n  upholstery\n  fabric\n  leather\n  naugahyde\n  nonwoven\n  10:17:43.59\n  hallwood\n  hwg\n  saxon\n  chairmanbill\n  steven\n  anthony\n  gumbiner\n  chairmanand\n  succeeds\n  stockin\n  stockwould\n  specializes\n  bailing\n  troubled\n  sourcein\n  sometimes\n  receives\n  sourcexplained\n  10:20:45.46\n  mlnlast\n  parity\n  responsible\n  badly\n  mlncrowns\n  saidmainly\n  133\n  mlnwhich\n  coverd\n  738\n  mlnvs\n  2.23\n  621\n  lkbprodukter\n  assetsof\n  intermedicsintraocular\n  10:23:39.80\n  3-ma1987\n  10:29:32.44\n  unitedguadia\n  unir\n  federa\n  sgn\n  contrat\n  unitedguardian\n  warexin\n  disinfectant\n  kidney\n  dialysis\n  hospital\n  hospal\n  sndoz\n  rhone\n  poulenc\n  10:31:10.05\n  indutriesmii\n  transrssrvice\n  maritime\n  possibly\n  utilizes\n  consummate\n  10:32:15.36\n  proxmire\n  vowsuk\n  satebanking\n  prohibit\n  limitedservice\n  thrift\n  satevote\n  granting\n  proscribe\n  regulator\n  league\n  sings\n  spoken\n  promptly\n  satefloor\n  recapitalize\n  nonbank\n  nonthrift\n  definition\n  10:33:48.56\n  lard\n  constion\n  januy\n  inedible\n  productsduring\n  lbsvs\n  lbsin\n  census\n  periodusage\n  hydrogenated\n  amounted\n  33.3\n  uge\n  lbsof\n  104.3\n  154.2\n  17:44:04.81\n  afg\n  17:44:10.05\n  gsw\n  shr2.16\n  2.07\n  8,037,000\n  7,710,000\n  136.4\n  133.3\n  shrfrom\n  camco\n  4.3\n  17:44:15.81\n  santa\n  anita\n  17:44:19.38\n  lana\n  17:44:33.62\n  marshall\n  508,000\n  3,450,000\n  296.7\n  298.0\n  drummond\n  mccall\n  952,000\n  2,569,000\n  17:45:00.59\n  17:45:27.43\n  mayfair\n  mayf\n  659,000\n  523,000\n  7,866,000\n  5,503,000\n  3,141,217\n  2,925,294\n  2,075,000\n  1,358,000\n  19.3\n  2,980,247\n  295,000\n  17:46:34.09\n  corrected\n  banponce\n  bdep\n  dateline\n  /dateline\n  8.25\n  lincoln\n  dillon\n  corrects\n  appearing\n  17:50:20.87\n  reguator\n  clossbanksin\n  lousana\n  fdic\n  saidhree\n  texand\n  louisiana\n  merged\n  glenmora\n  natchitoches\n  regulatorsnotified\n  danger\n  hart\n  texwere\n  hale\n  plainview\n  texbank\n  texwith\n  birmingham\n  insured\n  fail\n  32,\n  17:51:17.75\n  oln\n  nams\n  successor\n  saidjohn\n  w\n  63,\n  retires\n  16:12:28.42\n  receives0\n  pl480\n  auority\n  authorization\n  flourunder\n  480\n  309,000\n  betterexcept\n  durum\n  shall\n  73,000\n  contracting\n  stember\n  flouris\n  16:14:48.69\n  agricurade\n  lawse\n  passage\n  sponsor\n  uricultural\n  impose\n  practice\n  monitoring\n  importsif\n  harmed\n  dumping\n  uade\n  restrictive\n  distorting\n  exportpractices\n  nontariff\n  gatt\n  1993\n  3,\n  refund\n  dutiespaid\n  1977\n  destined\n  exportof\n  octoer\n  qualify\n  yearsafter\n  exportd\n  injury\n  16:15:15.79\n  ambj\n  20,\n  stockwas\n  23.\n  16:17:16.42\n  bunesloansis377\n  377\n  279.085\n  4,\n  484\n  281.546\n  16:22:34.56\n  produer\n  pricesris\n  februry\n  risein\n  saidasoline\n  januaryrisethe\n  saidal\n  januaryand\n  monthsthe\n  saidrices\n  wellhead\n  januaryriseand\n  saidesidual\n  16.7\n  13.4\n  risea\n  17.4\n  0.3\n  januarydecline\n  agoevel\n  monthsarlier\n  saidoal\n  16:26:35.20\n  quit\n  paraguay\n  buyerfor\n  asuncion\n  miami\n  ongoing\n  paraguayan\n  consistent\n  sri\n  lanka\n  16:27:23.99\n  474.5\n  172\n  f110-ge100\n  16:28:15.51\n  topicstopics\n  gh\n  wichita\n  affirmed\n  rulinghat\n  amerian\n  polluted\n  groundwater\n  rulinghich\n  3.1\n  punitive\n  rulingit\n  reiterated\n  kans\n  cleanup\n  rulingederal\n  cecil\n  landowner\n  16:29:46.00\n  mobil\n  mob\n  107.2\n  16:31:43.02\n  imog\n  gabriel\n  fusco\n  sequoia\n  02:20:30.27\n  japanestch\n  opposmmerce\n  sy\n  blocking\n  uuter\n  semiconductor\n  ucials\n  saidyesterday\n  srger\n  fairchild\n  suctor\n  uoverly\n  dependent\n  gathering\n  worsen\n  strained\n  weinbergers\n  ufacturers\n  tkyo\n  utiators\n  prefers\n  umputers\n  02:53:25.14\n  bure\n  esly\n  utton\n  387,000\n  225,000\n  290,000\n  93.7\n  uports\n  ucrease\n  02:55:47.22\n  awbsays\n  awb1986/87\n  tonnesready\n  awbgeneral\n  ron\n  paice\n  certainly\n  awbspokesman\n  saidey\n  awbexported\n  15.96\n  harvest\n  summer\n  15.14\n  tonneslivered\n  awb\n  cropwith\n  0.2\n  receivals\n  downgraded\n  weatherdamaged\n  milling\n  1986/87,\n  cropestimate\n  awbs\n  publication\n  cropat\n  cropfigure\n  nearer\n  tonneshe\n  awbreceived\n  15.08\n  16.13\n  422,000\n  onfarm\n  620,000\n  1984/85\n  receival\n  03:05:34.83\n  bh\n  oneforfive\n  norgold\n  nbhme\n  nbhsaid\n  nbhshares\n  offshoot\n  parvalue\n  norgolds\n  240.5\n  63\n  nbhafter\n  precious\n  predevelopment\n  nbh\n  bottle\n  creek\n  leonora\n  australianbhsaid\n  35,000\n  ounce\n  coronation\n  goldplatinum\n  poona\n  coppergold\n  australiaqueensland\n  wale\n  tasmania\n  03:13:36.35\n  yenconvertible\n  yenper\n  10,000\n  yenfrom\n  draft\n  transacted\n  yenhave\n  unsure\n  because\n  timing\n  03:15:32.57\n  yenterms\n  pctfall\n  survey\n  122\n  bold\n  achieve\n  pctgross\n  1987/88.\n  saidjapanese\n  1990\n  617,000\n  appliance\n  pctnow\n  recruitment\n  pctby\n  1990/91\n  nonferrous\n  03:24:08.77\n  threaten\n  13-dayold\n  occupied\n  docemarte\n  harbour\n  tuesdaynight\n  saidseamen\n  duress\n  sarneys\n  despatched\n  portsand\n  defiant\n  mood\n  orlando\n  thatmost\n  1,100\n  deterioration\n  denounce\n  irrational\n  unpatriotic\n  thatthey\n  salary\n  officical\n  1,977\n  monthwhile\n  allowancescan\n  captain\n  7,993\n  monthbasic\n  15,229\n  allowance\n  ghana\n  wednesdayinvolving\n  almir\n  pazzionotto\n  03:33:11.39\n  indonesan\n  prodution\n  indonesia\n  360,000\n  tonnesharyono\n  kertosastro\n  saidshade\n  pest\n  harvested\n  1985/86.\n  saidstocks\n  90,000\n  320,000\n  tonnesi\n  330,000\n  tonnesut\n  944\n  dharyono\n  saidproduction\n  tonnesor\n  03:35:55.06\n  ren\n  10.83\n  nstake\n  renouf\n  ncorp\n  bil\n  207.7\n  ndlrs\n  mike\n  cashin\n  renoufs\n  nand\n  saidrenouf\n  nholding\n  74.9\n  sharest\n  2.725\n  ndlrsa\n  2,095\n  1,709\n  attached\n  issueeach\n  detachable\n  entitling\n  bearer\n  2,486\n  nshares\n  nhas\n  673.4\n  sharesn\n  issuetotal\n  sharesttached\n  678.8\n  consolidate\n  pursue\n  opportunity\n  nsharesere\n  4.08\n  6.15\n  03:41:22.87\n  boliden\n  abblds\n  billioncrownsvs\n  conglomerate\n  ahlsell\n  09:44:16.03\n  renalt\n  chryser\n  bu\n  regie\n  nationale\n  uines\n  renaultrenapa\n  amon\n  renault\n  renaultpresident\n  levy\n  renaults\n  redeployment\n  renaultto\n  perspective\n  constructor\n  saiduder\n  renaultstatement\n  iacocca\n  sayingwe\n  welcome\n  accordwould\n  renaultand\n  renaultis\n  renaultshare\n  relevant\n  saidamc\n  renaultwill\n  sharesor\n  sharesalued\n  preferential\n  sharesill\n  exchanging\n  09:45:22.44\n  cattle\n  slaughter\n  guesstimate\n  chicagoercantile\n  guesstimating\n  285,000\n  292,000\n  agond\n  guesstimated\n  131,000\n  119,000\n  09:48:14.59\n  buton\n  adrsin\n  burton\n  09:48:24.44\n  claires\n  cle\n  6,360,000\n  4,350,000\n  sdame\n  934,000\n  2,289,000\n  16.4\n  09:48:54.24\n  226\n  dlrsgainst\n  projectd\n  risen\n  abover\n  522\n  8.87\n  pledge\n  madelast\n  geogia\n  vogtles\n  june1989\n  saidfuel\n  lowpower\n  located\n  waynesboro\n  ga\n  coowned\n  oglethorpe\n  municipal\n  8.35\n  payat\n  3.56\n  billiondlrshe\n  313\n  dlrsouthern\n  177\n  dlrsfter\n  saidgeorgia\n  buyback\n  bings\n  totalamount\n  2326\n  saidnew\n  nonrecoverable\n  billiondlrsn\n  threeyear\n  dlrselow\n  1986-1988.\n  09:49:29.88\n  stora\n  clse\n  complting\n  papyrus\n  kopparbergs\n  bergslags\n  skps\n  rival\n  passing\n  threshold\n  compulsorily\n  forming\n  forest\n  lndonbased\n  09:50:57.39\n  exim\n  exportimport\n  takashi\n  tanaka\n  refrained\n  30-minute\n  dilson\n  funaro\n  context\n  resisted\n  imf\n  into\n  renewed\n  09:55:58.63\n  pctthis\n  saidareas\n  pctfor\n  saidted\n  saident\n  saidar\n  pcton\n  uscal\n  saidsaidto\n  saidtrade\n  pctis\n  pctforecast\n  saideak\n  saidof\n  edge\n  nonoil\n  priceswill\n  dollarprice\n  saidsaidustrial\n  09:58:33.04\n  09:59:00.21\n  228\n  stgoday\n  10:22:24.09\n  spanish\n  hike\n  welcomed\n  spain\n  socialist\n  inflationdespite\n  13,\n  threatened\n  inflationtargets\n  relied\n  rateso\n  choke\n  ratesnd\n  avoids\n  unpleasant\n  controlling\n  inflationwill\n  competitiveand\n  agothe\n  dismissed\n  preferring\n  ratesn\n  attracting\n  strengthening\n  peseta\n  competitive\n  competitiveess\n  hardby\n  pctlast\n  pctit\n  clash\n  sacrifice\n  student\n  essentially\n  involve\n  occurrence\n  felipe\n  gonzalez\n  insists\n  ratesut\n  pctleft\n  saidcommercial\n  ratesere\n  pctmaximium\n  canoffer\n  tomorrowfollowing\n  decree\n  gazette\n  liberalisation\n  inevitably\n  push\n  ratesigher\n  companion\n  saidwhen\n  compensating\n  higherinterest\n  10:22:36.39\n  gambro\n  gamb\n  133.5\n  mlncrownsvs\n  101\n  1.61\n  billionvs\n  1.51\n  0.80\n  crownsvs\n  0.40\n  10:22:52.88\n  klmload\n  klmroyal\n  klmas\n  load\n  66.5\n  65.7\n  66.6\n  aprilfebruary\n  10:24:42.04\n  pave\n  diplomat\n  minster\n  negotiatin\n  achieved\n  delighted\n  preparin\n  drainthe\n  olive\n  grainmountainthat\n  publicity\n  finlly\n  fin\n  outlin\n  9.5\n  pctover\n  subsidised\n  inervention\n  trickle\n  inother\n  determind\n  backslidin\n  originl\n  sin\n  comin\n  wavered\n  mainfeatures\n  addin\n  augured\n  leadin\n  againt\n  enforced\n  curtailed\n  frans\n  andriessen\n  workin\n  inome\n  cushion\n  swallow\n  10:26:01.21\n  mst\n  113.2\n  105.9\n  10:26:54.83\n  mobilsmob\n  276.7\n  249.0\n  10:27:17.51\n  mcimci\n  attt\n  deregulation\n  mcicomunications\n  mcisaid\n  tomarrow\n  deregulate\n  attin\n  marketlace\n  govern\n  marketmanage\n  attmcipresident\n  bert\n  mcihas\n  shaved\n  attlong\n  fcc\n  breakup\n  bell\n  mcimove\n  attmay\n  deregulated\n  allay\n  adoption\n  transitional\n  dennis\n  att\n  posed\n  mci\n  marketenvironment\n  piecemeal\n  10:28:58.48\n  disaster\n  ltds\n  kinross\n  culpable\n  homicide\n  attorney\n  mineworker\n  toxic\n  fume\n  suffocated\n  underground\n  accused\n  heard\n  witbank\n  midmay\n  10:29:08.77\n  resourcebased\n  listen\n  comnons\n  battling\n  recognized\n  prisoner\n  boundary\n  reflection\n  answer\n  countrywas\n  reaching\n  10:29:32.48\n  ames\n  firstr\n  30.4\n  113.6\n  87.1\n  28.6\n  10:30:15.23\n  amgen\n  amgn\n  fileso\n  underwriterswill\n  commercialization\n  10:30:54.88\n  kiechle\n  aspect\n  ignaz\n  objected\n  positve\n  stabilizing\n  trudering\n  munich\n  saidfarmers\n  benefitfrom\n  priceshe\n  itcontained\n  saidkiechle\n  itclear\n  ireland\n  10:31:02.83\n  congresuorsional\n  bankswhich\n  goodsin\n  banksif\n  goodsalready\n  skles\n  uof\n  lawrequires\n  uote\n  anyway\n  smes\n  sttee\n  spriations\n  shers\n  really\n  criticize\n  banksby\n  jobsto\n  barbara\n  mikulski\n  maryland\n  banksare\n  sded\n  uits\n  participation\n  forgiveness\n  loansa\n  banksto\n  10:31:43.52\n  amswa\n  spliton\n  16.\n  12.5\n  postsplitfrom\n  presplit\n  10:32:49.32\n  comdata\n  cdn\n  welsh\n  carson\n  anderson\n  stowe\n  wcasto\n  merge\n  corproration\n  wcas\n  stockof\n  wcasand\n  commit\n  execution\n  shareholdersas\n  wcastold\n  10:33:14.32\n  noel\n  nol\n  placement\n  consisting\n  dlrsof\n  marcxh\n  ruchlamer\n  supplemented\n  funding\n  adjourned\n  kingston\n  commonafter\n  7.50\n  kof\n  piggyback\n  10:33:53.46\n  bbuy\n  20.7\n  213.4\n  101.2\n  10:34:53.47\n  federated\n  fds\n  720.0\n  656.8\n  10:35:30.66\n  mortonthiokol\n  mti\n  4-1/4\n  122,700\n  sharesafter\n  ordersreflects\n  mortonthiokols\n  ziegler\n  saidnoting\n  sharesand\n  profile\n  arenson\n  dlj\n  inclusion\n  automatically\n  47-3/8,\n  1-5/8,\n  pattern\n  termed\n  typical\n  10:35:58.91\n  cc\n  67.4\n  dlrsfrom\n  50.5\n  yearbefore\n  comparabvle\n  salesd\n  705.5\n  yearwith\n  yearjust\n  22.0\n  10:34:47.47\n  socete\n  dutc\n  launce\n  banksociete\n  50-mln\n  6\n  subscription\n  societe\n  oolders\n  jong\n  cvor\n  haighton\n  ruth\n  deposited\n  10:35:22.38\n  mony\n  fuding\n  isus125\n  euobond\n  8-1/8\n  pctsole\n  noncallable\n  topicsyes\n  lewissplittrain\n  cgisplittrainingset\n  oldid16377\n  newid1057\n  2,435\n  3,435\n  grown\n  hgca\n  10:38:44.01\n  ffkz\n  78\n  1,413,000\n  1,776,000\n  705.3\n  597.3\n  495.6\n  493.9\n  260.0\n  379.7\n  proxy\n  contest\n  kalamazoo\n  10:39:00.13\n  itsorderfor\n  extendedrange\n  767-300from\n  isworth\n  isitsfirs\n  cusomer\n  derivative\n  its767-200\n  desgned\n  increasd\n  pasenger\n  flightsof\n  6,600\n  milesit\n  issheduled\n  sat\n  215\n  triclas\n  configuration\n  hasorderfor\n  767-300\n  airbusindusrie\n  isals\n  itsa300-600r\n  widebody\n  orderof\n  airbustwinjets\n  airbussid\n  amrsconfiguration\n  clas\n  251\n  deliverieswill\n  bewtween\n  airbusdid\n  dislos\n  767on\n  routeswhile\n  a300on\n  10:40:22.86\n  iad\n  corpare\n  overallotments\n  continuous\n  nippon\n  10:40:34.06\n  acustar\n  unauthorized\n  10:41:05.96\n  toll\n  tol\n  3,243,000\n  1,656,000\n  28.4\n  21.5\n  amts\n  10:41:11.13\n  unicorp\n  uac\n  sybedon\n  10:41:36.86\n  psy\n  10:41:41.92\n  berkshire\n  bgas\n  qtlry\n  28.5\n  10:44:50.56\n  adjued\n  uards\n  535,460\n  tonneswheat\n  336,750\n  tonnesbarley\n  quoting\n  excise\n  figuresissued\n  64,000\n  figuresbring\n  1/february\n  2.99\n  tonnesd\n  2.96\n  1.89\n  tonnespectively\n  251,000\n  tonneseuropean\n  284,000\n  tonnesthird\n  uon\n  prominent\n  167,700\n  tonnesle\n  poland\n  credited\n  54,500\n  kea\n  tonnesaly\n  tonneslowed\n  55,200\n  52,000\n  103,700\n  tonnesthe\n  233,000\n  countriesthe\n  133,265\n  arabia\n  53,800\n  10:46:56.99\n  quarterf\n  quartertatistics\n  3.3\n  saidfinal\n  quarterartly\n  reversing\n  10:47:04.45\n  winterkill\n  accu\n  czechoslovakia\n  romania\n  nightsprivate\n  forecaster\n  accuweather\n  spotty\n  temperature\n  0\n  lowest\n  flurry\n  fver\n  nightssome\n  10:51:22.13\n  charming\n  shoppes\n  chrs\n  127.3\n  81\n  59\n  40.5\n  28.7\n  521.2\n  391.6\n  10:51:40.11\n  pansophic\n  pns\n  2-for1\n  10:53:04.16\n  lac\n  intersects\n  doyon\n  cambior\n  holeat\n  intersection\n  graded\n  0.33\n  1,411\n  0.22\n  2,064\n  holeis\n  460\n  hole460\n  holeand\n  10:56:04.53\n  disoutstalk\n  pn\n  corpchairman\n  crandall\n  denying\n  speculation\n  shuttle\n  amcorp\n  announcing\n  amassets\n  amearlier\n  todayannounced\n  consotium\n  amrican\n  amas\n  assetsfrom\n  amhas\n  transatlantic\n  10:58:14.10\n  calmar\n  clmi\n  kebo\n  keboo\n  swedenwhich\n  calmark\n  25.375\n  boardwill\n  beijar\n  10:59:14.04\n  fuit\n  oftheloom\n  ofeing\n  loom\n  eh\n  sears\n  roebuck\n  17:51:29.26\n  daewoo\n  boosportsuoodsaewoo\n  koreabased\n  uoods\n  saidumports\n  565\n  slated\n  automobile\n  catalytic\n  converter\n  emission\n  17:55:36.88\n  banksexpres\n  grave\n  antonio\n  padua\n  sixas\n  diplomatic\n  phrase\n  belied\n  anger\n  frustration\n  rhodes\n  vicechairmen\n  clarify\n  trip\n  sturday\n  explaining\n  volcker\n  camdessus\n  hear\n  requestfor\n  multiyear\n  17:57:05.23\n  lng\n  algeria\n  uly\n  economically\n  feasibleudustry\n  youcef\n  yousfi\n  directorgeneral\n  sach\n  algerian\n  algiers\n  restart\n  mothballed\n  1988/1989,\n  tulis\n  bros\n  panhandle\n  pel\n  distrigas\n  cabot\n  el\n  paso\n  bni\n  profitably\n  frank\n  forsee\n  uices\n  onstream\n  supplemental\n  umestic\n  serve\n  emphasize\n  looser\n  relate\n  17:59:30.27\n  resu\n  easer\n  saidanel\n  rescue\n  systemnd\n  helpby\n  wre\n  markup\n  recess\n  boren\n  dokla\n  saidsnte\n  byrd\n  dwva\n  saidboren\n  fca\n  systemregulator\n  certify\n  systemas\n  exhausted\n  naylor\n  saidse\n  systemremaining\n  tiedup\n  technically\n  perhaps\n  threeman\n  marvin\n  aidis\n  helpinformally\n  plight\n  systemalso\n  beesely\n  systemsaidat\n  systemad\n  wile\n  beesley\n  systemistricts\n  saidjim\n  billington\n  saidroubles\n  systemave\n  borrower\n  systemtotal\n  shrank\n  54.6\n  yearfrom\n  saidborrowers\n  systemeed\n  assured\n  safe\n  bondholder\n  bondholdershave\n  worry\n  saidnaylor\n  revamping\n  systemre\n  circulating\n  consolidation\n  systemnto\n  centralized\n  decentralizing\n  semiindependent\n  systempokesman\n  loansthose\n  loansor\n  resale\n  saidondary\n  setup\n  systemould\n  systembut\n  18:00:08.86\n  scathing\n  embattled\n  death\n  knell\n  tenure\n  covert\n  muted\n  advice\n  programor\n  conscience\n  reportaid\n  probe\n  distanced\n  reportaved\n  gruff\n  friend\n  autocratic\n  angered\n  wife\n  nancy\n  saidregans\n  departure\n  regans\n  imminent\n  poindexter\n  ally\n  reportisclosed\n  colossal\n  blunder\n  saidpeople\n  aside\n  candidate\n  18:02:58.44\n  combining\n  tight\n  yearssharp\n  saidreation\n  absorb\n  24-industrial\n  exchangerate\n  1.69\n  2.75\n  buoyant\n  gdpould\n  shrink\n  concernif\n  grows\n  gdp.which\n  saidreal\n  unusually\n  yearsof\n  2.25\n  outstrip\n  gdpit\n  scope\n  rationalisation\n  modernisation\n  decelerate\n  vigorous\n  questionmark\n  earner\n  accelerating\n  saidparticularly\n  adapting\n  speed\n  preserve\n  18:04:52.91\n  uheat\n  dormant\n  ugriculture\n  programeep\n  uofficials\n  lyng\n  isnt\n  informallyor\n  interviewed\n  stseven\n  ufficials\n  counterpart\n  sailing\n  interagency\n  consummated\n  uofficial\n  monthsto\n  saidiberations\n  umight\n  nudged\n  uthis\n  sts\n  lyngs\n  daylong\n  capitol\n  subcabinetlevel\n  eep\n  urade\n  weekdescribed\n  calm\n  factual\n  informal\n  stswould\n  initiativeby\n  disarray\n  18:07:18.31\n  utreaspart\n  utreasury\n  participate\n  mlndlr\n  announcecement\n  financingthe\n  argentinannounced\n  financingindicates\n  viable\n  treassury\n  fourmonth\n  serene\n  argentinaid\n  neighboring\n  ushare\n  argentinaould\n  silization\n  onepage\n  fundexpressed\n  confidence\n  approving\n  standby\n  financingarrangement\n  18.\n  balanceofpayments\n  financingwhich\n  argentinao\n  implementation\n  argentinaeportedly\n  loaned\n  26-fe987\n  18:09:37.31\n  compnies\n  caaahcopecontrat\n  bidits\n  e01\n  helicopter\n  fleet\n  king\n  joining\n  textron\n  marconi\n  cmw\n  impgroup\n  pramax\n  ectronics\n  supported\n  agusta\n  spa\n  skorsky\n  arcraft\n  westland\n  e01,\n  engaging\n  submarine\n"
    }
   ],
   "source": [
    "listOfFiles = readFile('DataRouter')\n",
    "listOfWordsOfFile = []\n",
    "counter = 1\n",
    "blok = 10\n",
    "list_token_sebelum = []\n",
    "list_token_sesudah = []\n",
    "list_term_sebelum = []\n",
    "list_term_sesudah = []\n",
    "blok_file_name = \"term_blok\"\n",
    "blok_name = []\n",
    "\n",
    "for i in listOfFiles: #iterasi tiap file\n",
    "    txt = readText(i)\n",
    "    list_token_sebelum.append(make_token(txt))\n",
    "    txt = normalisasi(txt)\n",
    "    listOfWords = make_token(txt)\n",
    "    listOfWords = removeNull(listOfWords)\n",
    "    listOfWords = caseFolding(listOfWords)\n",
    "    listOfWords = removeStopWord(listOfWords)\n",
    "    listOfWords = lemmatization(listOfWords)\n",
    "#     listOfWords = stemming(listOfWords)\n",
    "    \n",
    "    # Diganti KEVIN\n",
    "    #listOfWords = addDocNumber(listOfWords,i)\n",
    "    \n",
    "    list_token_sesudah.append(listOfWords)\n",
    "    counter = counter + 1\n",
    "#     print(counter)\n",
    "\n",
    "    if (counter%blok) == 0:        \n",
    "        writeFile(list_token_sebelum,\"token_sebelum_pemprosesan.txt\")\n",
    "        writeFile(list_token_sesudah,\"token_sesudah_pemprosesan.txt\")\n",
    "        \n",
    "        #melakukan inisialisasi list dari, agar tidak memakan terlalu banyak memory\n",
    "        listofWords = []\n",
    "        list_token_sebelum = []\n",
    "        list_token_sesudah = []\n",
    "        list_term_sebelum = []\n",
    "        list_term_sesudah = []\n",
    "        \n",
    "make_term(\"token_sebelum_pemprosesan.txt\",\"term_sebelum_pemprosesan.txt\")\n",
    "make_term(\"token_sesudah_pemprosesan.txt\",\"term_sesudah_pemprosesan.txt\")\n",
    "    "
   ]
  },
  {
   "cell_type": "code",
   "execution_count": null,
   "metadata": {},
   "outputs": [],
   "source": []
  }
 ],
 "metadata": {
  "kernelspec": {
   "display_name": "Python 3",
   "language": "python",
   "name": "python3"
  },
  "language_info": {
   "codemirror_mode": {
    "name": "ipython",
    "version": 3
   },
   "file_extension": ".py",
   "mimetype": "text/x-python",
   "name": "python",
   "nbconvert_exporter": "python",
   "pygments_lexer": "ipython3",
   "version": "3.7.2-final"
  }
 },
 "nbformat": 4,
 "nbformat_minor": 2
}