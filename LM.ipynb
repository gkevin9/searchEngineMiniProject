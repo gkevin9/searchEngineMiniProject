{
 "cells": [
  {
   "cell_type": "code",
   "execution_count": 1,
   "metadata": {},
   "outputs": [],
   "source": [
    "import pandas as pd\n",
    "from collections import defaultdict\n",
    "from nltk.stem.snowball import SnowballStemmer\n",
    "from nltk.corpus import stopwords"
   ]
  },
  {
   "cell_type": "code",
   "execution_count": 2,
   "metadata": {
    "scrolled": true
   },
   "outputs": [
    {
     "data": {
      "text/html": [
       "<div>\n",
       "<style scoped>\n",
       "    .dataframe tbody tr th:only-of-type {\n",
       "        vertical-align: middle;\n",
       "    }\n",
       "\n",
       "    .dataframe tbody tr th {\n",
       "        vertical-align: top;\n",
       "    }\n",
       "\n",
       "    .dataframe thead th {\n",
       "        text-align: right;\n",
       "    }\n",
       "</style>\n",
       "<table border=\"1\" class=\"dataframe\">\n",
       "  <thead>\n",
       "    <tr style=\"text-align: right;\">\n",
       "      <th></th>\n",
       "      <th>term</th>\n",
       "      <th>doc_num</th>\n",
       "    </tr>\n",
       "  </thead>\n",
       "  <tbody>\n",
       "    <tr>\n",
       "      <th>0</th>\n",
       "      <td>-1</td>\n",
       "      <td>['0004', '0008', '0016', '0026', '0059', '0073...</td>\n",
       "    </tr>\n",
       "    <tr>\n",
       "      <th>1</th>\n",
       "      <td>-10</td>\n",
       "      <td>['0305']</td>\n",
       "    </tr>\n",
       "    <tr>\n",
       "      <th>2</th>\n",
       "      <td>-100</td>\n",
       "      <td>['0427']</td>\n",
       "    </tr>\n",
       "    <tr>\n",
       "      <th>3</th>\n",
       "      <td>-11</td>\n",
       "      <td>['0116']</td>\n",
       "    </tr>\n",
       "    <tr>\n",
       "      <th>4</th>\n",
       "      <td>-110</td>\n",
       "      <td>['0427']</td>\n",
       "    </tr>\n",
       "  </tbody>\n",
       "</table>\n",
       "</div>"
      ],
      "text/plain": [
       "   term                                            doc_num\n",
       "0    -1  ['0004', '0008', '0016', '0026', '0059', '0073...\n",
       "1   -10                                           ['0305']\n",
       "2  -100                                           ['0427']\n",
       "3   -11                                           ['0116']\n",
       "4  -110                                           ['0427']"
      ]
     },
     "execution_count": 2,
     "metadata": {},
     "output_type": "execute_result"
    }
   ],
   "source": [
    "data = pd.read_csv(\"hasil_perbaikan_preprocessing.csv\")\n",
    "data.head()"
   ]
  },
  {
   "cell_type": "code",
   "execution_count": 3,
   "metadata": {},
   "outputs": [
    {
     "name": "stdout",
     "output_type": "stream",
     "text": [
      "['0305']\n",
      "0305\n",
      "['0305']\n"
     ]
    }
   ],
   "source": [
    "list_doc_num = data[\"doc_num\"]\n",
    "a = list_doc_num[1]\n",
    "print(a)\n",
    "b = a.replace(\"'\", \"\").replace(\"[\",\"\").replace(\"]\",\"\").replace(\" \",\"\")\n",
    "print(b)\n",
    "c = b.split(\",\")\n",
    "print(c)"
   ]
  },
  {
   "cell_type": "code",
   "execution_count": 4,
   "metadata": {},
   "outputs": [],
   "source": [
    "def df_to_dict(data_frame):\n",
    "#     list_doc_num = []\n",
    "    dict_hasil = {}\n",
    "    doc_num = data_frame[\"doc_num\"]\n",
    "    term = data_frame[\"term\"]\n",
    "    for i in range(len(doc_num)):\n",
    "        deleted_simbol = doc_num[i].replace(\" \",\"\").replace(\"'\", \"\").replace(\"[\",\"\").replace(\"]\",\"\")\n",
    "        num_doc = deleted_simbol.split(\",\")\n",
    "        \n",
    "        dict_hasil[term[i]] = num_doc\n",
    "#         list_doc_num.append(num_doc)\n",
    "    \n",
    "    \n",
    "    return dict_hasil"
   ]
  },
  {
   "cell_type": "code",
   "execution_count": 5,
   "metadata": {},
   "outputs": [],
   "source": [
    "def df_to_dict2(data_frame):\n",
    "    list_doc_num = []\n",
    "    dict_hasil = {}\n",
    "    doc_num = data_frame[\"doc_num\"]\n",
    "    for i in doc_num:\n",
    "        deleted_simbol = i.replace(\" \",\"\").replace(\"'\", \"\").replace(\"[\",\"\").replace(\"]\",\"\")\n",
    "        num_doc = deleted_simbol.split(\",\")\n",
    "        \n",
    "#         dict_hasil[term[i]] = num_doc\n",
    "        list_doc_num.append(num_doc)\n",
    "    dict_hasil = {\"term\": data_frame[\"term\"], \"doc_num\":list_doc_num }\n",
    "    \n",
    "    return dict_hasil"
   ]
  },
  {
   "cell_type": "markdown",
   "metadata": {},
   "source": [
    "## Preprocessing"
   ]
  },
  {
   "cell_type": "code",
   "execution_count": 6,
   "metadata": {
    "scrolled": true
   },
   "outputs": [
    {
     "data": {
      "text/html": [
       "<div>\n",
       "<style scoped>\n",
       "    .dataframe tbody tr th:only-of-type {\n",
       "        vertical-align: middle;\n",
       "    }\n",
       "\n",
       "    .dataframe tbody tr th {\n",
       "        vertical-align: top;\n",
       "    }\n",
       "\n",
       "    .dataframe thead th {\n",
       "        text-align: right;\n",
       "    }\n",
       "</style>\n",
       "<table border=\"1\" class=\"dataframe\">\n",
       "  <thead>\n",
       "    <tr style=\"text-align: right;\">\n",
       "      <th></th>\n",
       "      <th>term</th>\n",
       "      <th>doc_num</th>\n",
       "    </tr>\n",
       "  </thead>\n",
       "  <tbody>\n",
       "    <tr>\n",
       "      <th>0</th>\n",
       "      <td>-1</td>\n",
       "      <td>[0004, 0008, 0016, 0026, 0059, 0059, 0059, 005...</td>\n",
       "    </tr>\n",
       "    <tr>\n",
       "      <th>1</th>\n",
       "      <td>-10</td>\n",
       "      <td>[0305]</td>\n",
       "    </tr>\n",
       "    <tr>\n",
       "      <th>2</th>\n",
       "      <td>-100</td>\n",
       "      <td>[0427]</td>\n",
       "    </tr>\n",
       "    <tr>\n",
       "      <th>3</th>\n",
       "      <td>-11</td>\n",
       "      <td>[0116]</td>\n",
       "    </tr>\n",
       "    <tr>\n",
       "      <th>4</th>\n",
       "      <td>-110</td>\n",
       "      <td>[0427]</td>\n",
       "    </tr>\n",
       "    <tr>\n",
       "      <th>...</th>\n",
       "      <td>...</td>\n",
       "      <td>...</td>\n",
       "    </tr>\n",
       "    <tr>\n",
       "      <th>7014</th>\n",
       "      <td>zimbabw</td>\n",
       "      <td>[0288, 0288]</td>\n",
       "    </tr>\n",
       "    <tr>\n",
       "      <th>7015</th>\n",
       "      <td>zimbabwean</td>\n",
       "      <td>[0288]</td>\n",
       "    </tr>\n",
       "    <tr>\n",
       "      <th>7016</th>\n",
       "      <td>zip</td>\n",
       "      <td>[0265]</td>\n",
       "    </tr>\n",
       "    <tr>\n",
       "      <th>7017</th>\n",
       "      <td>zoet</td>\n",
       "      <td>[0399]</td>\n",
       "    </tr>\n",
       "    <tr>\n",
       "      <th>7018</th>\n",
       "      <td>zone</td>\n",
       "      <td>[0001, 0422]</td>\n",
       "    </tr>\n",
       "  </tbody>\n",
       "</table>\n",
       "<p>7019 rows × 2 columns</p>\n",
       "</div>"
      ],
      "text/plain": [
       "            term                                            doc_num\n",
       "0             -1  [0004, 0008, 0016, 0026, 0059, 0059, 0059, 005...\n",
       "1            -10                                             [0305]\n",
       "2           -100                                             [0427]\n",
       "3            -11                                             [0116]\n",
       "4           -110                                             [0427]\n",
       "...          ...                                                ...\n",
       "7014     zimbabw                                       [0288, 0288]\n",
       "7015  zimbabwean                                             [0288]\n",
       "7016         zip                                             [0265]\n",
       "7017        zoet                                             [0399]\n",
       "7018        zone                                       [0001, 0422]\n",
       "\n",
       "[7019 rows x 2 columns]"
      ]
     },
     "execution_count": 6,
     "metadata": {},
     "output_type": "execute_result"
    }
   ],
   "source": [
    "# ini adalah csv yang nomor dokumen nya yang double\n",
    "df = pd.read_csv(\"hasil_preprocessing.csv\")\n",
    "df = pd.DataFrame(df_to_dict2(df))\n",
    "df"
   ]
  },
  {
   "cell_type": "code",
   "execution_count": 7,
   "metadata": {},
   "outputs": [],
   "source": [
    "dict_term = df_to_dict2(data)\n",
    "df_term_doc_num = data\n"
   ]
  },
  {
   "cell_type": "code",
   "execution_count": 8,
   "metadata": {
    "scrolled": true
   },
   "outputs": [
    {
     "data": {
      "text/html": [
       "<div>\n",
       "<style scoped>\n",
       "    .dataframe tbody tr th:only-of-type {\n",
       "        vertical-align: middle;\n",
       "    }\n",
       "\n",
       "    .dataframe tbody tr th {\n",
       "        vertical-align: top;\n",
       "    }\n",
       "\n",
       "    .dataframe thead th {\n",
       "        text-align: right;\n",
       "    }\n",
       "</style>\n",
       "<table border=\"1\" class=\"dataframe\">\n",
       "  <thead>\n",
       "    <tr style=\"text-align: right;\">\n",
       "      <th></th>\n",
       "      <th>term</th>\n",
       "      <th>doc_num</th>\n",
       "    </tr>\n",
       "  </thead>\n",
       "  <tbody>\n",
       "    <tr>\n",
       "      <th>1000</th>\n",
       "      <td>1977</td>\n",
       "      <td>[0422, 0428]</td>\n",
       "    </tr>\n",
       "    <tr>\n",
       "      <th>1001</th>\n",
       "      <td>1978</td>\n",
       "      <td>[0029, 0231]</td>\n",
       "    </tr>\n",
       "    <tr>\n",
       "      <th>1002</th>\n",
       "      <td>1979</td>\n",
       "      <td>[0318, 0318]</td>\n",
       "    </tr>\n",
       "    <tr>\n",
       "      <th>1003</th>\n",
       "      <td>198</td>\n",
       "      <td>[0058]</td>\n",
       "    </tr>\n",
       "    <tr>\n",
       "      <th>1004</th>\n",
       "      <td>198,919</td>\n",
       "      <td>[0309]</td>\n",
       "    </tr>\n",
       "    <tr>\n",
       "      <th>1005</th>\n",
       "      <td>1980</td>\n",
       "      <td>[0231, 0288]</td>\n",
       "    </tr>\n",
       "    <tr>\n",
       "      <th>1006</th>\n",
       "      <td>1981</td>\n",
       "      <td>[0005, 0005, 0340, 0463]</td>\n",
       "    </tr>\n",
       "    <tr>\n",
       "      <th>1007</th>\n",
       "      <td>1982</td>\n",
       "      <td>[0132]</td>\n",
       "    </tr>\n",
       "    <tr>\n",
       "      <th>1008</th>\n",
       "      <td>1983</td>\n",
       "      <td>[0045, 0124, 0243, 0305, 0357, 0395, 0430]</td>\n",
       "    </tr>\n",
       "    <tr>\n",
       "      <th>1009</th>\n",
       "      <td>1984</td>\n",
       "      <td>[0005, 0047, 0123, 0173, 0262, 0281, 0318, 042...</td>\n",
       "    </tr>\n",
       "    <tr>\n",
       "      <th>1010</th>\n",
       "      <td>1985</td>\n",
       "      <td>[0006, 0011, 0015, 0027, 0040, 0040, 0047, 007...</td>\n",
       "    </tr>\n",
       "    <tr>\n",
       "      <th>1011</th>\n",
       "      <td>1986</td>\n",
       "      <td>[0001, 0005, 0006, 0006, 0006, 0012, 0013, 001...</td>\n",
       "    </tr>\n",
       "    <tr>\n",
       "      <th>1012</th>\n",
       "      <td>1987</td>\n",
       "      <td>[0001, 0008, 0009, 0024, 0024, 0026, 0040, 004...</td>\n",
       "    </tr>\n",
       "    <tr>\n",
       "      <th>1013</th>\n",
       "      <td>1988</td>\n",
       "      <td>[0018, 0018, 0023, 0026, 0028, 0105, 0142, 015...</td>\n",
       "    </tr>\n",
       "    <tr>\n",
       "      <th>1014</th>\n",
       "      <td>1989</td>\n",
       "      <td>[0026, 0070, 0105, 0143, 0210, 0210, 0319, 034...</td>\n",
       "    </tr>\n",
       "    <tr>\n",
       "      <th>1015</th>\n",
       "      <td>199,000</td>\n",
       "      <td>[0250]</td>\n",
       "    </tr>\n",
       "    <tr>\n",
       "      <th>1016</th>\n",
       "      <td>1990</td>\n",
       "      <td>[0051, 0376, 0436, 0436, 0436]</td>\n",
       "    </tr>\n",
       "    <tr>\n",
       "      <th>1017</th>\n",
       "      <td>1991</td>\n",
       "      <td>[0031, 0061, 0070, 0105, 0190, 0301, 0422, 042...</td>\n",
       "    </tr>\n",
       "    <tr>\n",
       "      <th>1018</th>\n",
       "      <td>1992</td>\n",
       "      <td>[0143, 0196, 0222, 0222, 0298, 0418, 0499]</td>\n",
       "    </tr>\n",
       "    <tr>\n",
       "      <th>1019</th>\n",
       "      <td>1993</td>\n",
       "      <td>[0422]</td>\n",
       "    </tr>\n",
       "    <tr>\n",
       "      <th>1020</th>\n",
       "      <td>1994</td>\n",
       "      <td>[0210]</td>\n",
       "    </tr>\n",
       "    <tr>\n",
       "      <th>1021</th>\n",
       "      <td>1995</td>\n",
       "      <td>[0142, 0183, 0229, 0229, 0265]</td>\n",
       "    </tr>\n",
       "    <tr>\n",
       "      <th>1022</th>\n",
       "      <td>1996</td>\n",
       "      <td>[0083, 0142, 0241]</td>\n",
       "    </tr>\n",
       "    <tr>\n",
       "      <th>1023</th>\n",
       "      <td>1997</td>\n",
       "      <td>[0035, 0196, 0352, 0472]</td>\n",
       "    </tr>\n",
       "    <tr>\n",
       "      <th>1024</th>\n",
       "      <td>1998</td>\n",
       "      <td>[0196, 0289, 0307, 0359]</td>\n",
       "    </tr>\n",
       "    <tr>\n",
       "      <th>1025</th>\n",
       "      <td>1999</td>\n",
       "      <td>[0083, 0103]</td>\n",
       "    </tr>\n",
       "    <tr>\n",
       "      <th>1026</th>\n",
       "      <td>19:02:33.14</td>\n",
       "      <td>[0251]</td>\n",
       "    </tr>\n",
       "    <tr>\n",
       "      <th>1027</th>\n",
       "      <td>19:04:31.39</td>\n",
       "      <td>[0252]</td>\n",
       "    </tr>\n",
       "    <tr>\n",
       "      <th>1028</th>\n",
       "      <td>19:04:38.26</td>\n",
       "      <td>[0253]</td>\n",
       "    </tr>\n",
       "    <tr>\n",
       "      <th>1029</th>\n",
       "      <td>19:05:21.41</td>\n",
       "      <td>[0254]</td>\n",
       "    </tr>\n",
       "    <tr>\n",
       "      <th>1030</th>\n",
       "      <td>19:06:36.56</td>\n",
       "      <td>[0255]</td>\n",
       "    </tr>\n",
       "    <tr>\n",
       "      <th>1031</th>\n",
       "      <td>19:09:27.77</td>\n",
       "      <td>[0256]</td>\n",
       "    </tr>\n",
       "    <tr>\n",
       "      <th>1032</th>\n",
       "      <td>19:10:26.95</td>\n",
       "      <td>[0257]</td>\n",
       "    </tr>\n",
       "    <tr>\n",
       "      <th>1033</th>\n",
       "      <td>19:11:19.94</td>\n",
       "      <td>[0258]</td>\n",
       "    </tr>\n",
       "    <tr>\n",
       "      <th>1034</th>\n",
       "      <td>19:15:32.68</td>\n",
       "      <td>[0259]</td>\n",
       "    </tr>\n",
       "    <tr>\n",
       "      <th>1035</th>\n",
       "      <td>19:18:49.58</td>\n",
       "      <td>[0260]</td>\n",
       "    </tr>\n",
       "    <tr>\n",
       "      <th>1036</th>\n",
       "      <td>19:23:42.46</td>\n",
       "      <td>[0311]</td>\n",
       "    </tr>\n",
       "    <tr>\n",
       "      <th>1037</th>\n",
       "      <td>19:26:43.72</td>\n",
       "      <td>[0312]</td>\n",
       "    </tr>\n",
       "    <tr>\n",
       "      <th>1038</th>\n",
       "      <td>2</td>\n",
       "      <td>[0004, 0013, 0016, 0049, 0049, 0059, 0059, 005...</td>\n",
       "    </tr>\n",
       "    <tr>\n",
       "      <th>1039</th>\n",
       "      <td>2,000</td>\n",
       "      <td>[0152, 0211]</td>\n",
       "    </tr>\n",
       "    <tr>\n",
       "      <th>1040</th>\n",
       "      <td>2,018</td>\n",
       "      <td>[0212]</td>\n",
       "    </tr>\n",
       "    <tr>\n",
       "      <th>1041</th>\n",
       "      <td>2,024,116</td>\n",
       "      <td>[0213]</td>\n",
       "    </tr>\n",
       "    <tr>\n",
       "      <th>1042</th>\n",
       "      <td>2,048,0000</td>\n",
       "      <td>[0167]</td>\n",
       "    </tr>\n",
       "    <tr>\n",
       "      <th>1043</th>\n",
       "      <td>2,064</td>\n",
       "      <td>[0487]</td>\n",
       "    </tr>\n",
       "    <tr>\n",
       "      <th>1044</th>\n",
       "      <td>2,075,000</td>\n",
       "      <td>[0417]</td>\n",
       "    </tr>\n",
       "    <tr>\n",
       "      <th>1045</th>\n",
       "      <td>2,083</td>\n",
       "      <td>[0200]</td>\n",
       "    </tr>\n",
       "    <tr>\n",
       "      <th>1046</th>\n",
       "      <td>2,095</td>\n",
       "      <td>[0439]</td>\n",
       "    </tr>\n",
       "    <tr>\n",
       "      <th>1047</th>\n",
       "      <td>2,100</td>\n",
       "      <td>[0137]</td>\n",
       "    </tr>\n",
       "    <tr>\n",
       "      <th>1048</th>\n",
       "      <td>2,129,300</td>\n",
       "      <td>[0033]</td>\n",
       "    </tr>\n",
       "    <tr>\n",
       "      <th>1049</th>\n",
       "      <td>2,137</td>\n",
       "      <td>[0305]</td>\n",
       "    </tr>\n",
       "  </tbody>\n",
       "</table>\n",
       "</div>"
      ],
      "text/plain": [
       "             term                                            doc_num\n",
       "1000         1977                                       [0422, 0428]\n",
       "1001         1978                                       [0029, 0231]\n",
       "1002         1979                                       [0318, 0318]\n",
       "1003          198                                             [0058]\n",
       "1004      198,919                                             [0309]\n",
       "1005         1980                                       [0231, 0288]\n",
       "1006         1981                           [0005, 0005, 0340, 0463]\n",
       "1007         1982                                             [0132]\n",
       "1008         1983         [0045, 0124, 0243, 0305, 0357, 0395, 0430]\n",
       "1009         1984  [0005, 0047, 0123, 0173, 0262, 0281, 0318, 042...\n",
       "1010         1985  [0006, 0011, 0015, 0027, 0040, 0040, 0047, 007...\n",
       "1011         1986  [0001, 0005, 0006, 0006, 0006, 0012, 0013, 001...\n",
       "1012         1987  [0001, 0008, 0009, 0024, 0024, 0026, 0040, 004...\n",
       "1013         1988  [0018, 0018, 0023, 0026, 0028, 0105, 0142, 015...\n",
       "1014         1989  [0026, 0070, 0105, 0143, 0210, 0210, 0319, 034...\n",
       "1015      199,000                                             [0250]\n",
       "1016         1990                     [0051, 0376, 0436, 0436, 0436]\n",
       "1017         1991  [0031, 0061, 0070, 0105, 0190, 0301, 0422, 042...\n",
       "1018         1992         [0143, 0196, 0222, 0222, 0298, 0418, 0499]\n",
       "1019         1993                                             [0422]\n",
       "1020         1994                                             [0210]\n",
       "1021         1995                     [0142, 0183, 0229, 0229, 0265]\n",
       "1022         1996                                 [0083, 0142, 0241]\n",
       "1023         1997                           [0035, 0196, 0352, 0472]\n",
       "1024         1998                           [0196, 0289, 0307, 0359]\n",
       "1025         1999                                       [0083, 0103]\n",
       "1026  19:02:33.14                                             [0251]\n",
       "1027  19:04:31.39                                             [0252]\n",
       "1028  19:04:38.26                                             [0253]\n",
       "1029  19:05:21.41                                             [0254]\n",
       "1030  19:06:36.56                                             [0255]\n",
       "1031  19:09:27.77                                             [0256]\n",
       "1032  19:10:26.95                                             [0257]\n",
       "1033  19:11:19.94                                             [0258]\n",
       "1034  19:15:32.68                                             [0259]\n",
       "1035  19:18:49.58                                             [0260]\n",
       "1036  19:23:42.46                                             [0311]\n",
       "1037  19:26:43.72                                             [0312]\n",
       "1038            2  [0004, 0013, 0016, 0049, 0049, 0059, 0059, 005...\n",
       "1039        2,000                                       [0152, 0211]\n",
       "1040        2,018                                             [0212]\n",
       "1041    2,024,116                                             [0213]\n",
       "1042   2,048,0000                                             [0167]\n",
       "1043        2,064                                             [0487]\n",
       "1044    2,075,000                                             [0417]\n",
       "1045        2,083                                             [0200]\n",
       "1046        2,095                                             [0439]\n",
       "1047        2,100                                             [0137]\n",
       "1048    2,129,300                                             [0033]\n",
       "1049        2,137                                             [0305]"
      ]
     },
     "execution_count": 8,
     "metadata": {},
     "output_type": "execute_result"
    }
   ],
   "source": [
    "df_token_doc_num = df\n",
    "df_token_doc_num.iloc[1000:1050]"
   ]
  },
  {
   "cell_type": "code",
   "execution_count": 9,
   "metadata": {},
   "outputs": [],
   "source": [
    "# membuat dictionary yang berisikan data doc number terhadap token\n",
    "dict_doc_token = defaultdict(list)\n",
    "for i in range(len(df)):\n",
    "    for j in df.iloc[i,1]:\n",
    "#         if j not in dict_hasil.keys:\n",
    "#         if j not in dict_doc_token.keys():\n",
    "        dict_doc_token[j].append(df.iloc[i,0])\n"
   ]
  },
  {
   "cell_type": "code",
   "execution_count": 10,
   "metadata": {
    "scrolled": true
   },
   "outputs": [
    {
     "data": {
      "text/html": [
       "<div>\n",
       "<style scoped>\n",
       "    .dataframe tbody tr th:only-of-type {\n",
       "        vertical-align: middle;\n",
       "    }\n",
       "\n",
       "    .dataframe tbody tr th {\n",
       "        vertical-align: top;\n",
       "    }\n",
       "\n",
       "    .dataframe thead th {\n",
       "        text-align: right;\n",
       "    }\n",
       "</style>\n",
       "<table border=\"1\" class=\"dataframe\">\n",
       "  <thead>\n",
       "    <tr style=\"text-align: right;\">\n",
       "      <th></th>\n",
       "      <th>doc_num</th>\n",
       "      <th>token</th>\n",
       "    </tr>\n",
       "  </thead>\n",
       "  <tbody>\n",
       "    <tr>\n",
       "      <th>0</th>\n",
       "      <td>0004</td>\n",
       "      <td>[-1, -20, 1, 11, 12, 15, 15:07:13.72, 2, 2.70,...</td>\n",
       "    </tr>\n",
       "    <tr>\n",
       "      <th>1</th>\n",
       "      <td>0008</td>\n",
       "      <td>[-1, -3, 15:15:40.12, 1987, 26-feb-1987, ad, a...</td>\n",
       "    </tr>\n",
       "    <tr>\n",
       "      <th>2</th>\n",
       "      <td>0016</td>\n",
       "      <td>[-1, -20, 1, 11, 12, 15, 15:21:16.13, 2, 2.70,...</td>\n",
       "    </tr>\n",
       "    <tr>\n",
       "      <th>3</th>\n",
       "      <td>0026</td>\n",
       "      <td>[-1, 1, 10.6, 15:36:44.78, 1987, 1988, 1989, 2...</td>\n",
       "    </tr>\n",
       "    <tr>\n",
       "      <th>4</th>\n",
       "      <td>0059</td>\n",
       "      <td>[-1, -1, -1, -1, -1, -1, -1, -1, -1, -1, 100, ...</td>\n",
       "    </tr>\n",
       "    <tr>\n",
       "      <th>...</th>\n",
       "      <td>...</td>\n",
       "      <td>...</td>\n",
       "    </tr>\n",
       "    <tr>\n",
       "      <th>495</th>\n",
       "      <td>0420</td>\n",
       "      <td>[17:51:17.75, 1988, 26-feb-1987, 30, 54, 63, a...</td>\n",
       "    </tr>\n",
       "    <tr>\n",
       "      <th>496</th>\n",
       "      <td>0493</td>\n",
       "      <td>[17:57:05.23, 1987, 1987, 1987, 1988, 1989, 26...</td>\n",
       "    </tr>\n",
       "    <tr>\n",
       "      <th>497</th>\n",
       "      <td>0498</td>\n",
       "      <td>[18, 18:07:18.31, 2.15, 26-feb-1987, 500, 53, ...</td>\n",
       "    </tr>\n",
       "    <tr>\n",
       "      <th>498</th>\n",
       "      <td>0495</td>\n",
       "      <td>[18:00:08.86, 26-feb-1987, address, advic, adv...</td>\n",
       "    </tr>\n",
       "    <tr>\n",
       "      <th>499</th>\n",
       "      <td>0497</td>\n",
       "      <td>[18:04:52.91, 26-feb-1987, activ, administr, a...</td>\n",
       "    </tr>\n",
       "  </tbody>\n",
       "</table>\n",
       "<p>500 rows × 2 columns</p>\n",
       "</div>"
      ],
      "text/plain": [
       "    doc_num                                              token\n",
       "0      0004  [-1, -20, 1, 11, 12, 15, 15:07:13.72, 2, 2.70,...\n",
       "1      0008  [-1, -3, 15:15:40.12, 1987, 26-feb-1987, ad, a...\n",
       "2      0016  [-1, -20, 1, 11, 12, 15, 15:21:16.13, 2, 2.70,...\n",
       "3      0026  [-1, 1, 10.6, 15:36:44.78, 1987, 1988, 1989, 2...\n",
       "4      0059  [-1, -1, -1, -1, -1, -1, -1, -1, -1, -1, 100, ...\n",
       "..      ...                                                ...\n",
       "495    0420  [17:51:17.75, 1988, 26-feb-1987, 30, 54, 63, a...\n",
       "496    0493  [17:57:05.23, 1987, 1987, 1987, 1988, 1989, 26...\n",
       "497    0498  [18, 18:07:18.31, 2.15, 26-feb-1987, 500, 53, ...\n",
       "498    0495  [18:00:08.86, 26-feb-1987, address, advic, adv...\n",
       "499    0497  [18:04:52.91, 26-feb-1987, activ, administr, a...\n",
       "\n",
       "[500 rows x 2 columns]"
      ]
     },
     "execution_count": 10,
     "metadata": {},
     "output_type": "execute_result"
    }
   ],
   "source": [
    "# tulist data dict ke excel\n",
    "list_token = []\n",
    "list_doc_num1 = []\n",
    "dict_doc_token.keys\n",
    "for i in dict_doc_token.keys():\n",
    "    list_doc_num1.append(i)\n",
    "    list_token.append(dict_doc_token[i])\n",
    "    \n",
    "dict_temp = {\"doc_num\": list_doc_num1, \"token\": list_token}\n",
    "df_doc_num_token = pd.DataFrame(dict_temp)\n",
    "df_doc_num_token"
   ]
  },
  {
   "cell_type": "code",
   "execution_count": 11,
   "metadata": {
    "scrolled": true
   },
   "outputs": [
    {
     "data": {
      "text/html": [
       "<div>\n",
       "<style scoped>\n",
       "    .dataframe tbody tr th:only-of-type {\n",
       "        vertical-align: middle;\n",
       "    }\n",
       "\n",
       "    .dataframe tbody tr th {\n",
       "        vertical-align: top;\n",
       "    }\n",
       "\n",
       "    .dataframe thead th {\n",
       "        text-align: right;\n",
       "    }\n",
       "</style>\n",
       "<table border=\"1\" class=\"dataframe\">\n",
       "  <thead>\n",
       "    <tr style=\"text-align: right;\">\n",
       "      <th></th>\n",
       "      <th>doc_num</th>\n",
       "      <th>token</th>\n",
       "    </tr>\n",
       "  </thead>\n",
       "  <tbody>\n",
       "    <tr>\n",
       "      <th>0</th>\n",
       "      <td>0001</td>\n",
       "      <td>[0.39, 1,750, 1,780, 1,850, 1,870, 1,875, 1,88...</td>\n",
       "    </tr>\n",
       "    <tr>\n",
       "      <th>1</th>\n",
       "      <td>0002</td>\n",
       "      <td>[15:02:20.00, 26-feb-1987, 55, activ, also, am...</td>\n",
       "    </tr>\n",
       "    <tr>\n",
       "      <th>2</th>\n",
       "      <td>0003</td>\n",
       "      <td>[13.5, 15:03:27.51, 26-feb-1987, 31, 7.5, appl...</td>\n",
       "    </tr>\n",
       "    <tr>\n",
       "      <th>3</th>\n",
       "      <td>0004</td>\n",
       "      <td>[-1, -20, 1, 11, 12, 15, 15:07:13.72, 2, 2.70,...</td>\n",
       "    </tr>\n",
       "    <tr>\n",
       "      <th>4</th>\n",
       "      <td>0005</td>\n",
       "      <td>[-1986, 0.99, 1, 1.24, 1.35, 1.56, 1.65, 1.92,...</td>\n",
       "    </tr>\n",
       "  </tbody>\n",
       "</table>\n",
       "</div>"
      ],
      "text/plain": [
       "  doc_num                                              token\n",
       "0    0001  [0.39, 1,750, 1,780, 1,850, 1,870, 1,875, 1,88...\n",
       "1    0002  [15:02:20.00, 26-feb-1987, 55, activ, also, am...\n",
       "2    0003  [13.5, 15:03:27.51, 26-feb-1987, 31, 7.5, appl...\n",
       "3    0004  [-1, -20, 1, 11, 12, 15, 15:07:13.72, 2, 2.70,...\n",
       "4    0005  [-1986, 0.99, 1, 1.24, 1.35, 1.56, 1.65, 1.92,..."
      ]
     },
     "execution_count": 11,
     "metadata": {},
     "output_type": "execute_result"
    }
   ],
   "source": [
    "df_doc_num_token = df_doc_num_token.sort_values(by=[\"doc_num\"], ignore_index=True)\n",
    "df_doc_num_token.head()"
   ]
  },
  {
   "cell_type": "code",
   "execution_count": 12,
   "metadata": {},
   "outputs": [
    {
     "data": {
      "text/plain": [
       "48245"
      ]
     },
     "execution_count": 12,
     "metadata": {},
     "output_type": "execute_result"
    }
   ],
   "source": [
    "jml_token = 0\n",
    "for i in range(len(df_doc_num_token)):\n",
    "    jml_token += len(df_doc_num_token[\"token\"].iloc[i])\n",
    "jml_token"
   ]
  },
  {
   "cell_type": "markdown",
   "metadata": {},
   "source": [
    "## Preprocessing query"
   ]
  },
  {
   "cell_type": "code",
   "execution_count": 13,
   "metadata": {},
   "outputs": [],
   "source": [
    "def make_token(txt):\n",
    "    list_hasil = txt.split(\" \")            \n",
    "    return list_hasil"
   ]
  },
  {
   "cell_type": "code",
   "execution_count": 14,
   "metadata": {},
   "outputs": [],
   "source": [
    "def removeNull(listOfWords): #['','','eat','food','','']\n",
    "    listOfWords = list(filter(None, listOfWords))\n",
    "    \n",
    "    return listOfWords"
   ]
  },
  {
   "cell_type": "code",
   "execution_count": 15,
   "metadata": {},
   "outputs": [],
   "source": [
    "def caseFolding(listOfWords):\n",
    "    for i in range(len(listOfWords)):\n",
    "        listOfWords[i] = listOfWords[i].casefold()\n",
    "        \n",
    "    return listOfWords"
   ]
  },
  {
   "cell_type": "code",
   "execution_count": 16,
   "metadata": {},
   "outputs": [],
   "source": [
    "stop_words = stopwords.words('english')"
   ]
  },
  {
   "cell_type": "code",
   "execution_count": 17,
   "metadata": {},
   "outputs": [],
   "source": [
    "def removeStopWord(listOfWords):\n",
    "    for i in listOfWords:\n",
    "        if i in stop_words:\n",
    "            listOfWords.remove(i)\n",
    "        \n",
    "    return listOfWords"
   ]
  },
  {
   "cell_type": "code",
   "execution_count": 18,
   "metadata": {},
   "outputs": [],
   "source": [
    "def stemming(listOfWords):\n",
    "    stemmer = SnowballStemmer(\"english\")\n",
    "    stemmed = [stemmer.stem(word) for word in listOfWords]\n",
    "    \n",
    "    return stemmed"
   ]
  },
  {
   "cell_type": "code",
   "execution_count": 19,
   "metadata": {
    "scrolled": true
   },
   "outputs": [
    {
     "data": {
      "text/html": [
       "<div>\n",
       "<style scoped>\n",
       "    .dataframe tbody tr th:only-of-type {\n",
       "        vertical-align: middle;\n",
       "    }\n",
       "\n",
       "    .dataframe tbody tr th {\n",
       "        vertical-align: top;\n",
       "    }\n",
       "\n",
       "    .dataframe thead th {\n",
       "        text-align: right;\n",
       "    }\n",
       "</style>\n",
       "<table border=\"1\" class=\"dataframe\">\n",
       "  <thead>\n",
       "    <tr style=\"text-align: right;\">\n",
       "      <th></th>\n",
       "      <th>doc_num</th>\n",
       "      <th>token</th>\n",
       "    </tr>\n",
       "  </thead>\n",
       "  <tbody>\n",
       "    <tr>\n",
       "      <th>0</th>\n",
       "      <td>0001</td>\n",
       "      <td>[0.39, 1,750, 1,780, 1,850, 1,870, 1,875, 1,88...</td>\n",
       "    </tr>\n",
       "    <tr>\n",
       "      <th>1</th>\n",
       "      <td>0002</td>\n",
       "      <td>[15:02:20.00, 26-feb-1987, 55, activ, also, am...</td>\n",
       "    </tr>\n",
       "    <tr>\n",
       "      <th>2</th>\n",
       "      <td>0003</td>\n",
       "      <td>[13.5, 15:03:27.51, 26-feb-1987, 31, 7.5, appl...</td>\n",
       "    </tr>\n",
       "    <tr>\n",
       "      <th>3</th>\n",
       "      <td>0004</td>\n",
       "      <td>[-1, -20, 1, 11, 12, 15, 15:07:13.72, 2, 2.70,...</td>\n",
       "    </tr>\n",
       "    <tr>\n",
       "      <th>4</th>\n",
       "      <td>0005</td>\n",
       "      <td>[-1986, 0.99, 1, 1.24, 1.35, 1.56, 1.65, 1.92,...</td>\n",
       "    </tr>\n",
       "    <tr>\n",
       "      <th>...</th>\n",
       "      <td>...</td>\n",
       "      <td>...</td>\n",
       "    </tr>\n",
       "    <tr>\n",
       "      <th>495</th>\n",
       "      <td>0496</td>\n",
       "      <td>[0.75, 1.25, 1.69, 1.71, 1.75, 18:02:58.44, 19...</td>\n",
       "    </tr>\n",
       "    <tr>\n",
       "      <th>496</th>\n",
       "      <td>0497</td>\n",
       "      <td>[18:04:52.91, 26-feb-1987, activ, administr, a...</td>\n",
       "    </tr>\n",
       "    <tr>\n",
       "      <th>497</th>\n",
       "      <td>0498</td>\n",
       "      <td>[18, 18:07:18.31, 2.15, 26-feb-1987, 500, 53, ...</td>\n",
       "    </tr>\n",
       "    <tr>\n",
       "      <th>498</th>\n",
       "      <td>0499</td>\n",
       "      <td>[101, 101, 18:09:37.31, 1992, 26-feb-1987, aim...</td>\n",
       "    </tr>\n",
       "    <tr>\n",
       "      <th>499</th>\n",
       "      <td>0500</td>\n",
       "      <td>[1,177,786, 1,699,124, 12, 126.7, 130.2, 18:11...</td>\n",
       "    </tr>\n",
       "  </tbody>\n",
       "</table>\n",
       "<p>500 rows × 2 columns</p>\n",
       "</div>"
      ],
      "text/plain": [
       "    doc_num                                              token\n",
       "0      0001  [0.39, 1,750, 1,780, 1,850, 1,870, 1,875, 1,88...\n",
       "1      0002  [15:02:20.00, 26-feb-1987, 55, activ, also, am...\n",
       "2      0003  [13.5, 15:03:27.51, 26-feb-1987, 31, 7.5, appl...\n",
       "3      0004  [-1, -20, 1, 11, 12, 15, 15:07:13.72, 2, 2.70,...\n",
       "4      0005  [-1986, 0.99, 1, 1.24, 1.35, 1.56, 1.65, 1.92,...\n",
       "..      ...                                                ...\n",
       "495    0496  [0.75, 1.25, 1.69, 1.71, 1.75, 18:02:58.44, 19...\n",
       "496    0497  [18:04:52.91, 26-feb-1987, activ, administr, a...\n",
       "497    0498  [18, 18:07:18.31, 2.15, 26-feb-1987, 500, 53, ...\n",
       "498    0499  [101, 101, 18:09:37.31, 1992, 26-feb-1987, aim...\n",
       "499    0500  [1,177,786, 1,699,124, 12, 126.7, 130.2, 18:11...\n",
       "\n",
       "[500 rows x 2 columns]"
      ]
     },
     "execution_count": 19,
     "metadata": {},
     "output_type": "execute_result"
    }
   ],
   "source": [
    "df_doc_num_token"
   ]
  },
  {
   "cell_type": "code",
   "execution_count": 20,
   "metadata": {
    "scrolled": false
   },
   "outputs": [
    {
     "name": "stdout",
     "output_type": "stream",
     "text": [
      "12\n"
     ]
    }
   ],
   "source": [
    "temp = df_token_doc_num[df_token_doc_num[\"term\"] == \"discount\"]\n",
    "print(len(temp[\"doc_num\"].iloc[0]))"
   ]
  },
  {
   "cell_type": "markdown",
   "metadata": {},
   "source": [
    "### main preprocessing query"
   ]
  },
  {
   "cell_type": "code",
   "execution_count": 21,
   "metadata": {},
   "outputs": [],
   "source": [
    "list_rank = []\n",
    "list_doc_num = []\n",
    "\n",
    "def hitung_score(list_word,a):\n",
    "    df_hasil = []\n",
    "    for i in range(len(df_doc_num_token)):\n",
    "        rank = 1\n",
    "        doc = df_doc_num_token.iloc[i]\n",
    "        for j in list_word:\n",
    "            count = doc[\"token\"].count(j)\n",
    "            panjang_doc = len(doc[\"token\"])\n",
    "            p_doc =  (count/panjang_doc) * a\n",
    "#           ----------------------------------\n",
    "            temp = df_token_doc_num[df_token_doc_num[\"term\"] == j]\n",
    "#             print(i, temp)\n",
    "            count_m = len(temp.iloc[0][1])\n",
    "            p_m = (count_m/jml_token) * (1-a)\n",
    "            p = p_doc + p_m\n",
    "            rank *= p\n",
    "        list_rank.append(rank)\n",
    "        list_doc_num.append(doc[\"doc_num\"])\n",
    "    dict_hasil = {\"doc_num\": list_doc_num, \"rank\": list_rank}\n",
    "    df_hasil = pd.DataFrame(dict_hasil)\n",
    "    return df_hasil\n",
    "        "
   ]
  },
  {
   "cell_type": "code",
   "execution_count": 22,
   "metadata": {},
   "outputs": [],
   "source": [
    "q = \"1991\""
   ]
  },
  {
   "cell_type": "code",
   "execution_count": 23,
   "metadata": {},
   "outputs": [],
   "source": [
    "listOfWords = make_token(q)\n",
    "listOfWords = removeNull(listOfWords)\n",
    "listOfWords = caseFolding(listOfWords)\n",
    "listOfWords = removeStopWord(listOfWords)\n",
    "listOfWords = stemming(listOfWords)    "
   ]
  },
  {
   "cell_type": "code",
   "execution_count": 24,
   "metadata": {},
   "outputs": [
    {
     "data": {
      "text/plain": [
       "['1991']"
      ]
     },
     "execution_count": 24,
     "metadata": {},
     "output_type": "execute_result"
    }
   ],
   "source": [
    "listOfWords"
   ]
  },
  {
   "cell_type": "code",
   "execution_count": 25,
   "metadata": {},
   "outputs": [
    {
     "data": {
      "text/plain": [
       "(500, 2)"
      ]
     },
     "execution_count": 25,
     "metadata": {},
     "output_type": "execute_result"
    }
   ],
   "source": [
    "df_hasil = []\n",
    "df_hasil = hitung_score(listOfWords,0.1)\n",
    "df_hasil.shape"
   ]
  },
  {
   "cell_type": "code",
   "execution_count": 26,
   "metadata": {
    "scrolled": true
   },
   "outputs": [
    {
     "data": {
      "text/plain": [
       "(500, 2)"
      ]
     },
     "execution_count": 26,
     "metadata": {},
     "output_type": "execute_result"
    }
   ],
   "source": [
    "df_hasil = df_hasil.sort_values(by=[\"rank\"], ignore_index=True, ascending=False)\n",
    "df_hasil.shape"
   ]
  },
  {
   "cell_type": "code",
   "execution_count": 28,
   "metadata": {},
   "outputs": [
    {
     "data": {
      "text/plain": [
       "0"
      ]
     },
     "execution_count": 28,
     "metadata": {},
     "output_type": "execute_result"
    }
   ],
   "source": [
    "jawaban = [31, 61, 70, 105, 190, 301, 422, 466]\n",
    "\n",
    "teratas = df_hasil.head(len(jawaban)).sort_values(by=[\"doc_num\"], ignore_index=True, ascending=True)\n",
    "\n",
    "hasil_query = teratas[\"doc_num\"]\n",
    "salah = []\n",
    "\n",
    "for i in hasil_query:\n",
    "    if int(i) not in jawaban:\n",
    "        salah.append(i)\n",
    "        \n",
    "len(salah)"
   ]
  },
  {
   "cell_type": "code",
   "execution_count": null,
   "metadata": {},
   "outputs": [],
   "source": []
  },
  {
   "cell_type": "code",
   "execution_count": null,
   "metadata": {},
   "outputs": [],
   "source": []
  }
 ],
 "metadata": {
  "kernelspec": {
   "display_name": "Python 3",
   "language": "python",
   "name": "python3"
  },
  "language_info": {
   "codemirror_mode": {
    "name": "ipython",
    "version": 3
   },
   "file_extension": ".py",
   "mimetype": "text/x-python",
   "name": "python",
   "nbconvert_exporter": "python",
   "pygments_lexer": "ipython3",
   "version": "3.6.8"
  }
 },
 "nbformat": 4,
 "nbformat_minor": 2
}
