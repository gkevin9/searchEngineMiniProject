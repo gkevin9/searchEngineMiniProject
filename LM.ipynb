{
 "cells": [
  {
   "cell_type": "code",
   "execution_count": 29,
   "metadata": {},
   "outputs": [],
   "source": [
    "import pandas as pd\n",
    "from collections import defaultdict"
   ]
  },
  {
   "cell_type": "code",
   "execution_count": 30,
   "metadata": {
    "scrolled": true
   },
   "outputs": [
    {
     "data": {
      "text/html": [
       "<div>\n",
       "<style scoped>\n",
       "    .dataframe tbody tr th:only-of-type {\n",
       "        vertical-align: middle;\n",
       "    }\n",
       "\n",
       "    .dataframe tbody tr th {\n",
       "        vertical-align: top;\n",
       "    }\n",
       "\n",
       "    .dataframe thead th {\n",
       "        text-align: right;\n",
       "    }\n",
       "</style>\n",
       "<table border=\"1\" class=\"dataframe\">\n",
       "  <thead>\n",
       "    <tr style=\"text-align: right;\">\n",
       "      <th></th>\n",
       "      <th>term</th>\n",
       "      <th>doc_num</th>\n",
       "    </tr>\n",
       "  </thead>\n",
       "  <tbody>\n",
       "    <tr>\n",
       "      <th>0</th>\n",
       "      <td>00:06:25.87</td>\n",
       "      <td>['0376']</td>\n",
       "    </tr>\n",
       "    <tr>\n",
       "      <th>1</th>\n",
       "      <td>00:37:11.96</td>\n",
       "      <td>['0377']</td>\n",
       "    </tr>\n",
       "    <tr>\n",
       "      <th>2</th>\n",
       "      <td>00:55:57.87</td>\n",
       "      <td>['0378']</td>\n",
       "    </tr>\n",
       "    <tr>\n",
       "      <th>3</th>\n",
       "      <td>01:01:34.13</td>\n",
       "      <td>['0379']</td>\n",
       "    </tr>\n",
       "    <tr>\n",
       "      <th>4</th>\n",
       "      <td>01:45:37.55</td>\n",
       "      <td>['0380']</td>\n",
       "    </tr>\n",
       "  </tbody>\n",
       "</table>\n",
       "</div>"
      ],
      "text/plain": [
       "          term   doc_num\n",
       "0  00:06:25.87  ['0376']\n",
       "1  00:37:11.96  ['0377']\n",
       "2  00:55:57.87  ['0378']\n",
       "3  01:01:34.13  ['0379']\n",
       "4  01:45:37.55  ['0380']"
      ]
     },
     "execution_count": 30,
     "metadata": {},
     "output_type": "execute_result"
    }
   ],
   "source": [
    "data = pd.read_csv(\"hasil_perbaikan_preprocessing.csv\")\n",
    "data.head()"
   ]
  },
  {
   "cell_type": "code",
   "execution_count": 31,
   "metadata": {},
   "outputs": [
    {
     "name": "stdout",
     "output_type": "stream",
     "text": [
      "['0377']\n",
      "0377\n",
      "['0377']\n"
     ]
    }
   ],
   "source": [
    "list_doc_num = data[\"doc_num\"]\n",
    "a = list_doc_num[1]\n",
    "print(a)\n",
    "b = a.replace(\"'\", \"\").replace(\"[\",\"\").replace(\"]\",\"\").replace(\" \",\"\")\n",
    "print(b)\n",
    "c = b.split(\",\")\n",
    "print(c)"
   ]
  },
  {
   "cell_type": "code",
   "execution_count": 32,
   "metadata": {},
   "outputs": [],
   "source": [
    "def df_to_dict(data_frame):\n",
    "#     list_doc_num = []\n",
    "    dict_hasil = {}\n",
    "    doc_num = data_frame[\"doc_num\"]\n",
    "    term = data_frame[\"term\"]\n",
    "    for i in range(len(doc_num)):\n",
    "        deleted_simbol = doc_num[i].replace(\"'\", \"\").replace(\"[\",\"\").replace(\"]\",\"\")\n",
    "        num_doc = deleted_simbol.split(\",\")\n",
    "        \n",
    "        dict_hasil[term[i]] = num_doc\n",
    "#         list_doc_num.append(num_doc)\n",
    "    \n",
    "    \n",
    "    return dict_hasil"
   ]
  },
  {
   "cell_type": "code",
   "execution_count": 33,
   "metadata": {},
   "outputs": [],
   "source": [
    "def df_to_dict2(data_frame):\n",
    "    list_doc_num = []\n",
    "    dict_hasil = {}\n",
    "    doc_num = data_frame[\"doc_num\"]\n",
    "    for i in doc_num:\n",
    "        deleted_simbol = i.replace(\"'\", \"\").replace(\"[\",\"\").replace(\"]\",\"\")\n",
    "        num_doc = deleted_simbol.split(\",\")\n",
    "        \n",
    "#         dict_hasil[term[i]] = num_doc\n",
    "        list_doc_num.append(num_doc)\n",
    "    dict_hasil = {\"term\": data_frame[\"term\"], \"doc_num\":list_doc_num }\n",
    "    \n",
    "    return dict_hasil"
   ]
  },
  {
   "cell_type": "code",
   "execution_count": 34,
   "metadata": {},
   "outputs": [],
   "source": [
    "dict_term = df_to_dict2(data)"
   ]
  },
  {
   "cell_type": "markdown",
   "metadata": {},
   "source": [
    "## Preprocessing"
   ]
  },
  {
   "cell_type": "code",
   "execution_count": 35,
   "metadata": {},
   "outputs": [
    {
     "data": {
      "text/html": [
       "<div>\n",
       "<style scoped>\n",
       "    .dataframe tbody tr th:only-of-type {\n",
       "        vertical-align: middle;\n",
       "    }\n",
       "\n",
       "    .dataframe tbody tr th {\n",
       "        vertical-align: top;\n",
       "    }\n",
       "\n",
       "    .dataframe thead th {\n",
       "        text-align: right;\n",
       "    }\n",
       "</style>\n",
       "<table border=\"1\" class=\"dataframe\">\n",
       "  <thead>\n",
       "    <tr style=\"text-align: right;\">\n",
       "      <th></th>\n",
       "      <th>term</th>\n",
       "      <th>doc_num</th>\n",
       "    </tr>\n",
       "  </thead>\n",
       "  <tbody>\n",
       "    <tr>\n",
       "      <th>0</th>\n",
       "      <td>00:06:25.87</td>\n",
       "      <td>[0376]</td>\n",
       "    </tr>\n",
       "    <tr>\n",
       "      <th>1</th>\n",
       "      <td>00:37:11.96</td>\n",
       "      <td>[0377]</td>\n",
       "    </tr>\n",
       "    <tr>\n",
       "      <th>2</th>\n",
       "      <td>00:55:57.87</td>\n",
       "      <td>[0378]</td>\n",
       "    </tr>\n",
       "    <tr>\n",
       "      <th>3</th>\n",
       "      <td>01:01:34.13</td>\n",
       "      <td>[0379]</td>\n",
       "    </tr>\n",
       "    <tr>\n",
       "      <th>4</th>\n",
       "      <td>01:45:37.55</td>\n",
       "      <td>[0380]</td>\n",
       "    </tr>\n",
       "    <tr>\n",
       "      <th>...</th>\n",
       "      <td>...</td>\n",
       "      <td>...</td>\n",
       "    </tr>\n",
       "    <tr>\n",
       "      <th>5385</th>\n",
       "      <td>zimbabw</td>\n",
       "      <td>[0288,  0288]</td>\n",
       "    </tr>\n",
       "    <tr>\n",
       "      <th>5386</th>\n",
       "      <td>zimbabwean</td>\n",
       "      <td>[0288]</td>\n",
       "    </tr>\n",
       "    <tr>\n",
       "      <th>5387</th>\n",
       "      <td>zip</td>\n",
       "      <td>[0265]</td>\n",
       "    </tr>\n",
       "    <tr>\n",
       "      <th>5388</th>\n",
       "      <td>zoet</td>\n",
       "      <td>[0399]</td>\n",
       "    </tr>\n",
       "    <tr>\n",
       "      <th>5389</th>\n",
       "      <td>zone</td>\n",
       "      <td>[0001,  0422]</td>\n",
       "    </tr>\n",
       "  </tbody>\n",
       "</table>\n",
       "<p>5390 rows × 2 columns</p>\n",
       "</div>"
      ],
      "text/plain": [
       "             term        doc_num\n",
       "0     00:06:25.87         [0376]\n",
       "1     00:37:11.96         [0377]\n",
       "2     00:55:57.87         [0378]\n",
       "3     01:01:34.13         [0379]\n",
       "4     01:45:37.55         [0380]\n",
       "...           ...            ...\n",
       "5385      zimbabw  [0288,  0288]\n",
       "5386   zimbabwean         [0288]\n",
       "5387          zip         [0265]\n",
       "5388         zoet         [0399]\n",
       "5389         zone  [0001,  0422]\n",
       "\n",
       "[5390 rows x 2 columns]"
      ]
     },
     "execution_count": 35,
     "metadata": {},
     "output_type": "execute_result"
    }
   ],
   "source": [
    "# ini adalah csv yang nomor dokumen nya yang double\n",
    "df = pd.read_csv(\"hasil_preprocessing.csv\")\n",
    "df = pd.DataFrame(df_to_dict2(df))\n",
    "df"
   ]
  },
  {
   "cell_type": "code",
   "execution_count": 36,
   "metadata": {},
   "outputs": [],
   "source": [
    "# membuat dictionary yang berisikan data doc number terhadap token\n",
    "# dict_doc_token = defaultdict(list)\n",
    "for i in range(len(df)):\n",
    "    for j in df.iloc[i,1]:\n",
    "#         if j not in dict_hasil.keys:\n",
    "#         if j not in dict_doc_token.keys():\n",
    "        dict_doc_token[j].append(df.iloc[i,0])\n"
   ]
  },
  {
   "cell_type": "code",
   "execution_count": 37,
   "metadata": {},
   "outputs": [
    {
     "data": {
      "text/html": [
       "<div>\n",
       "<style scoped>\n",
       "    .dataframe tbody tr th:only-of-type {\n",
       "        vertical-align: middle;\n",
       "    }\n",
       "\n",
       "    .dataframe tbody tr th {\n",
       "        vertical-align: top;\n",
       "    }\n",
       "\n",
       "    .dataframe thead th {\n",
       "        text-align: right;\n",
       "    }\n",
       "</style>\n",
       "<table border=\"1\" class=\"dataframe\">\n",
       "  <thead>\n",
       "    <tr style=\"text-align: right;\">\n",
       "      <th></th>\n",
       "      <th>doc_num</th>\n",
       "      <th>token</th>\n",
       "    </tr>\n",
       "  </thead>\n",
       "  <tbody>\n",
       "    <tr>\n",
       "      <th>0</th>\n",
       "      <td>0376</td>\n",
       "      <td>[00:06:25.87, 12-mar-1987, cheapest, contracto...</td>\n",
       "    </tr>\n",
       "    <tr>\n",
       "      <th>1</th>\n",
       "      <td>0377</td>\n",
       "      <td>[00:37:11.96, bankrupcti, subcontractor, 00:37...</td>\n",
       "    </tr>\n",
       "    <tr>\n",
       "      <th>2</th>\n",
       "      <td>0378</td>\n",
       "      <td>[00:55:57.87, bangladesh, chittagong, strand, ...</td>\n",
       "    </tr>\n",
       "    <tr>\n",
       "      <th>3</th>\n",
       "      <td>0379</td>\n",
       "      <td>[01:01:34.13, confeder, contenpl, contest, ded...</td>\n",
       "    </tr>\n",
       "    <tr>\n",
       "      <th>4</th>\n",
       "      <td>0380</td>\n",
       "      <td>[01:45:37.55, acceler, babi, kk, kogyo, nappi,...</td>\n",
       "    </tr>\n",
       "    <tr>\n",
       "      <th>...</th>\n",
       "      <td>...</td>\n",
       "      <td>...</td>\n",
       "    </tr>\n",
       "    <tr>\n",
       "      <th>995</th>\n",
       "      <td>0225</td>\n",
       "      <td>[corp, cts, cts, jan, loss, loss, mar, mln, ml...</td>\n",
       "    </tr>\n",
       "    <tr>\n",
       "      <th>996</th>\n",
       "      <td>0341</td>\n",
       "      <td>[corp, cts, cts, cts, cts, diversifi, mar, mln...</td>\n",
       "    </tr>\n",
       "    <tr>\n",
       "      <th>997</th>\n",
       "      <td>0159</td>\n",
       "      <td>[cts, cts, cts, cts, dec, inc, loss, loss, los...</td>\n",
       "    </tr>\n",
       "    <tr>\n",
       "      <th>998</th>\n",
       "      <td>0485</td>\n",
       "      <td>[cts, cts, cts, cts, inc, jan, mar, mln, mln, ...</td>\n",
       "    </tr>\n",
       "    <tr>\n",
       "      <th>999</th>\n",
       "      <td>0468</td>\n",
       "      <td>[depart, depart, dlrs, dlrs, end, februari, fe...</td>\n",
       "    </tr>\n",
       "  </tbody>\n",
       "</table>\n",
       "<p>1000 rows × 2 columns</p>\n",
       "</div>"
      ],
      "text/plain": [
       "    doc_num                                              token\n",
       "0      0376  [00:06:25.87, 12-mar-1987, cheapest, contracto...\n",
       "1      0377  [00:37:11.96, bankrupcti, subcontractor, 00:37...\n",
       "2      0378  [00:55:57.87, bangladesh, chittagong, strand, ...\n",
       "3      0379  [01:01:34.13, confeder, contenpl, contest, ded...\n",
       "4      0380  [01:45:37.55, acceler, babi, kk, kogyo, nappi,...\n",
       "..      ...                                                ...\n",
       "995    0225  [corp, cts, cts, jan, loss, loss, mar, mln, ml...\n",
       "996    0341  [corp, cts, cts, cts, cts, diversifi, mar, mln...\n",
       "997    0159  [cts, cts, cts, cts, dec, inc, loss, loss, los...\n",
       "998    0485  [cts, cts, cts, cts, inc, jan, mar, mln, mln, ...\n",
       "999    0468  [depart, depart, dlrs, dlrs, end, februari, fe...\n",
       "\n",
       "[1000 rows x 2 columns]"
      ]
     },
     "execution_count": 37,
     "metadata": {},
     "output_type": "execute_result"
    }
   ],
   "source": [
    "# tulist data dict ke excel\n",
    "list_token = []\n",
    "list_doc_num1 = []\n",
    "dict_doc_token.keys\n",
    "for i in dict_doc_token.keys():\n",
    "    list_doc_num1.append(i)\n",
    "    list_token.append(dict_doc_token[i])\n",
    "\n",
    "dict_temp = {\"doc_num\": list_doc_num1, \"token\": list_token}\n",
    "df_token = pd.DataFrame(dict_temp)\n",
    "df_token"
   ]
  },
  {
   "cell_type": "code",
   "execution_count": 38,
   "metadata": {},
   "outputs": [],
   "source": [
    "df_baru = df_token.sort_values(by=[\"doc_num\"], ignore_index=True)\n",
    "df_baru = df_baru.tail()\n"
   ]
  },
  {
   "cell_type": "code",
   "execution_count": 39,
   "metadata": {},
   "outputs": [
    {
     "name": "stdout",
     "output_type": "stream",
     "text": [
      "0496\n",
      "0497\n",
      "0498\n",
      "0499\n",
      "0500\n"
     ]
    }
   ],
   "source": [
    "a = df_baru[\"doc_num\"]\n",
    "for i in a:\n",
    "    print(i)"
   ]
  },
  {
   "cell_type": "code",
   "execution_count": null,
   "metadata": {},
   "outputs": [],
   "source": []
  }
 ],
 "metadata": {
  "kernelspec": {
   "display_name": "Python 3",
   "language": "python",
   "name": "python3"
  },
  "language_info": {
   "codemirror_mode": {
    "name": "ipython",
    "version": 3
   },
   "file_extension": ".py",
   "mimetype": "text/x-python",
   "name": "python",
   "nbconvert_exporter": "python",
   "pygments_lexer": "ipython3",
   "version": "3.6.8"
  }
 },
 "nbformat": 4,
 "nbformat_minor": 2
}
