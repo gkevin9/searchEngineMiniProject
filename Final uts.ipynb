{
 "cells": [
  {
   "cell_type": "code",
   "execution_count": 1,
   "metadata": {},
   "outputs": [],
   "source": [
    "from nltk.corpus import stopwords\n",
    "from nltk.stem import WordNetLemmatizer\n",
    "import re\n",
    "import glob\n",
    "# from nltk.stem.porter import PorterStemmer\n",
    "from nltk.stem.snowball import SnowballStemmer\n",
    "from itertools import chain #untuk flaten array 2d\n",
    "from collections import defaultdict\n",
    "from collections import OrderedDict\n"
   ]
  },
  {
   "cell_type": "markdown",
   "execution_count": null,
   "metadata": {},
   "outputs": [],
   "source": [
    "# Preprocessing "
   ]
  },
  {
   "cell_type": "code",
   "execution_count": 2,
   "metadata": {},
   "outputs": [],
   "source": [
    "def readFile(directory):\n",
    "    listFile = glob.glob(directory+\"/*.txt\")\n",
    "    return listFile"
   ]
  },
  {
   "cell_type": "markdown",
   "execution_count": null,
   "metadata": {},
   "outputs": [],
   "source": [
    "### normalisasi"
   ]
  },
  {
   "cell_type": "code",
   "execution_count": 3,
   "metadata": {},
   "outputs": [],
   "source": [
    "def normalisasi(body):\n",
    "    \n",
    "    hasil = []\n",
    "    temp_str = ''\n",
    "\n",
    "    #hapus tag\n",
    "    hapusTag = r'<DATE>|</DATE>|<TITLE>|</TITLE>|<BODY>|</BODY>'\n",
    "    body = re.sub(hapusTag, ' ', body)\n",
    "    \n",
    "    #hapus \\n\n",
    "    hapusEnter = r'\\n'\n",
    "    body = re.sub(hapusEnter, ' ', body)\n",
    "    \n",
    "    #hapus spasi lebih dari satu\n",
    "    spasiLebihDariSatu = r'\\s+'\n",
    "    body = re.sub(spasiLebihDariSatu, ' ', body)\n",
    "    \n",
    "    # hapus htmlEntities \n",
    "    htmlEntities = r\"&lt;\"\n",
    "    body = re.sub(htmlEntities, '', body)\n",
    "    \n",
    "    #ambil tanggal\n",
    "    tanggal = r\"((\\d{2}|\\d{4})[.-](J(anuary|an|AN|une|un|UN|uly|ul|UL)|F(ebruary|eb|EB)|M(arch|ar|AR|ay|AY)|A(pril|pr|PR|ugust|ug|UG)|S(eptember|ep|EP)|O(ctober|ct|CT)|N(ovember|ov|OV)|D(ecember|ec|EC))[-.](\\d{4}|\\d{2}))\"\n",
    "    list_tanggal = re.findall(tanggal,body)\n",
    "    hasil.append(list_tanggal)\n",
    "    body = re.sub(tanggal, \"\", body)\n",
    "    \n",
    "    #ambil waktu\n",
    "    waktu = r\"(\\d{2}:\\d{2}:\\d{2}(\\.)?\\d{2})\"\n",
    "    list_waktu = re.findall(waktu,body)\n",
    "    hasil.append(list_waktu)\n",
    "    body = re.sub(waktu, \"\", body)\n",
    "    \n",
    "    #ambil angka desimal, persen, mata uang \n",
    "    desimal = \"(([+-]?(\\$|£)?(\\d{1,3}[.,])*(\\d+)(%)?))\"\n",
    "    list_desimal = re.findall(desimal, body)\n",
    "    hasil.append(list_tanggal)\n",
    "    body = re.sub(desimal, \"\", body)\n",
    "    \n",
    "    #email\n",
    "    email = \"([\\w-]+(\\.[\\w-]+|\\.)*@[\\w-]+(\\.[\\w-]+)+)\"\n",
    "    list_email = re.findall(email,body)\n",
    "    hasil.append(list_email)\n",
    "    body = re.sub(email, \"\", body)\n",
    "    \n",
    "    #url\n",
    "    url = \"((http:\\/\\/www\\.|https:\\/\\/www\\.|http:\\/\\/|https:\\/\\/)?[a-z0-9]+([\\-\\.]{1}[a-z0-9]+)*\\.[a-z]{2,5}(:[0-9]{1,5})?(\\/.*)?)\"\n",
    "    list_url = re.findall(url,body)\n",
    "    hasil.append(list_url)\n",
    "    body = re.sub(url, \"\", body)\n",
    "    \n",
    "    tanda_baca = r'[\"()<>+?.\\[\\]{}:,\\'\\'/-]'\n",
    "    body = re.sub(tanda_baca, ' ', body)\n",
    "\n",
    "    body = re.sub(spasiLebihDariSatu, ' ', body)\n",
    "    \n",
    "    kutips = r\"'s\"\n",
    "    body = re.sub(kutips, '', body)\n",
    "    \n",
    "    list_flat = list(chain.from_iterable(hasil))\n",
    "    \n",
    "    for i in list_flat:\n",
    "        temp_str = temp_str + i[0] + \" \"\n",
    "    \n",
    "    body = body + \" \" + temp_str\n",
    "    \n",
    "    body = re.sub(spasiLebihDariSatu, ' ', body)\n",
    "    \n",
    "    return body"
   ]
  },
  {
   "cell_type": "code",
   "execution_count": 5,
   "metadata": {},
   "outputs": [],
   "source": [
    "def readText(file):\n",
    "    words = []\n",
    "    f = open(file, 'r') #open file\n",
    "    text = f.read()    \n",
    "    f.close()\n",
    "\n",
    "    return text"
   ]
  },
  {
   "cell_type": "code",
   "execution_count": 8,
   "metadata": {},
   "outputs": [],
   "source": [
    "def removeEnter(listOfWords): #['<BODY>\\n']\n",
    "    for i in range(len(listOfWords)):\n",
    "        listOfWords[i] = listOfWords[i].replace('\\n','')\n",
    "        \n",
    "    return listOfWords"
   ]
  },
  {
   "cell_type": "code",
   "execution_count": 4,
   "metadata": {},
   "outputs": [],
   "source": [
    "def removeNull(listOfWords): #['','','eat','food','','']\n",
    "    listOfWords = list(filter(None, listOfWords))\n",
    "    \n",
    "    return listOfWords"
   ]
  },
  {
   "cell_type": "code",
   "execution_count": 6,
   "metadata": {},
   "outputs": [],
   "source": [
    "def caseFolding(listOfWords):\n",
    "    for i in range(len(listOfWords)):\n",
    "        listOfWords[i] = listOfWords[i].casefold()\n",
    "        \n",
    "    return listOfWords"
   ]
  },
  {
   "cell_type": "markdown",
   "execution_count": null,
   "metadata": {},
   "outputs": [],
   "source": [
    "## Load Stop Word from NLTK"
   ]
  },
  {
   "cell_type": "code",
   "execution_count": 7,
   "metadata": {},
   "outputs": [],
   "source": [
    "stop_words = stopwords.words('english')"
   ]
  },
  {
   "cell_type": "code",
   "execution_count": 9,
   "metadata": {},
   "outputs": [],
   "source": [
    "def removeStopWord(listOfWords):\n",
    "    for i in listOfWords:\n",
    "        if i in stop_words:\n",
    "            listOfWords.remove(i)\n",
    "        \n",
    "    return listOfWords"
   ]
  },
  {
   "cell_type": "markdown",
   "execution_count": null,
   "metadata": {},
   "outputs": [],
   "source": [
    "### Load Lemmatizer from NLTK"
   ]
  },
  {
   "cell_type": "code",
   "execution_count": 11,
   "metadata": {},
   "outputs": [],
   "source": [
    "lemmatizer = WordNetLemmatizer()"
   ]
  },
  {
   "cell_type": "code",
   "execution_count": 10,
   "metadata": {},
   "outputs": [],
   "source": [
    "def lemmatization(listOfWords):\n",
    "    for i in range(len(listOfWords)):\n",
    "        listOfWords[i] = lemmatizer.lemmatize(listOfWords[i])\n",
    "        \n",
    "    return listOfWords"
   ]
  },
  {
   "cell_type": "markdown",
   "execution_count": null,
   "metadata": {},
   "outputs": [],
   "source": [
    "### Load Stemming from NLTK"
   ]
  },
  {
   "cell_type": "code",
   "execution_count": 12,
   "metadata": {},
   "outputs": [],
   "source": [
    "def stemming(listOfWords):\n",
    "    stemmer = SnowballStemmer(\"english\")\n",
    "    stemmed = [stemmer.stem(word) for word in listOfWords]\n",
    "    \n",
    "    return stemmed"
   ]
  },
  {
   "cell_type": "markdown",
   "execution_count": null,
   "metadata": {},
   "outputs": [],
   "source": [
    "### Token"
   ]
  },
  {
   "cell_type": "code",
   "execution_count": 15,
   "metadata": {},
   "outputs": [],
   "source": [
    "def make_token(txt):\n",
    "    list_hasil = txt.split(\" \")            \n",
    "    return list_hasil"
   ]
  },
  {
   "cell_type": "markdown",
   "execution_count": null,
   "metadata": {},
   "outputs": [],
   "source": [
    "### Term"
   ]
  },
  {
   "cell_type": "code",
   "execution_count": 14,
   "metadata": {},
   "outputs": [],
   "source": [
    "def make_term(file_name_token,file_name_term):\n",
    "    list_term = []\n",
    "    f = open(file_name_token, 'r')\n",
    "    text = f.read()\n",
    "    f.close()\n",
    "    \n",
    "    list_token = text.split(\"\\n\")\n",
    "    for i in list_token:\n",
    "        if i not in list_term:\n",
    "            list_term.append(i)\n",
    "            \n",
    "    f1 = open(file_name_term,'a+')\n",
    "    # text = concate_term_newline(list_term)\n",
    "#     print(text)    \n",
    "    f1.write(list_term)\n",
    "    f1.close()\n"
   ]
  },
  {
   "cell_type": "code",
   "execution_count": 13,
   "metadata": {},
   "outputs": [],
   "source": [
    "def concate_term_newline(dist_in):\n",
    "    hasil = ''\n",
    "    str_temp2 = ''\n",
    "    is_first = True\n",
    "    for i in dist_in:\n",
    "        for j in dist_in[i]:\n",
    "            if is_first:\n",
    "                str_temp2 = j\n",
    "                is_first = False\n",
    "            else:\n",
    "                str_temp2 = str_temp2 + \",\"+ j\n",
    "        is_first = True\n",
    "        str_temp = i+ \"\\t\" + str_temp2+ \"\\n\"\n",
    "        str_temp2 = \"\"\n",
    "        hasil = hasil + str_temp\n",
    "        \n",
    "    return hasil"
   ]
  },
  {
   "cell_type": "markdown",
   "execution_count": null,
   "metadata": {},
   "outputs": [],
   "source": [
    "### tulis data"
   ]
  },
  {
   "cell_type": "code",
   "execution_count": 16,
   "metadata": {},
   "outputs": [],
   "source": [
    "def writeFile(dict_in,file_name):\n",
    "    \n",
    "    str_of_list = concate_term_newline(dict_in)\n",
    "    \n",
    "#     print(str_of_list)\n",
    "    saveFile = open(file_name, 'w+' )\n",
    "    saveFile.write(str_of_list)\n",
    "    saveFile.close()\n",
    "#     print(list_hasil)\n",
    "    "
   ]
  },
  {
   "cell_type": "markdown",
   "execution_count": null,
   "metadata": {},
   "outputs": [],
   "source": [
    "### Add Doc Number"
   ]
  },
  {
   "cell_type": "code",
   "execution_count": 17,
   "metadata": {},
   "outputs": [],
   "source": [
    "def addDocNumber(_listIn, _docNum):\n",
    "#     _docNum[14:18]\n",
    "    for i in range(len(_listIn)):\n",
    "        _listIn[i] = _listIn[i] + '_' + _docNum[14:18]\n",
    "        \n",
    "    return _listIn"
   ]
  },
  {
   "cell_type": "markdown",
   "execution_count": null,
   "metadata": {},
   "outputs": [],
   "source": [
    "## Preprocessing Main"
   ]
  },
  {
   "cell_type": "code",
   "execution_count": 18,
   "metadata": {},
   "outputs": [],
   "source": [
    "listOfFiles = readFile('DataRouter')\n",
    "listOfWordsOfFile = []\n",
    "counter = 1\n",
    "blok = 10\n",
    "\n",
    "dict_list_term = defaultdict(list)\n",
    "dict_list_term2 = defaultdict(list)\n",
    "blok_file_name = \"term_blok\"\n",
    "blok_name = []\n",
    "\n",
    "for i in listOfFiles: #iterasi tiap file\n",
    "    txt = readText(i)\n",
    "    \n",
    "    txt = normalisasi(txt)\n",
    "    listOfWords = make_token(txt)\n",
    "    listOfWords = removeNull(listOfWords)\n",
    "    listOfWords = caseFolding(listOfWords)\n",
    "    listOfWords = removeStopWord(listOfWords)\n",
    "    listOfWords = stemming(listOfWords)\n",
    "    listOfWords = lemmatization(listOfWords)\n",
    "    \n",
    "#     Diganti KEVIN\n",
    "#     listOfWords = addDocNumber(listOfWords,i)\n",
    "    \n",
    "    for j in listOfWords:\n",
    "#         if j not in list_term:\n",
    "#         list_term[j].append(i) #15:01:01.79 : ,DataRouter\\Doc0001.txt\n",
    "        dict_list_term2[j]\n",
    "        dict_list_term[j].append(i[14:18]) #15:01:01.79 : 0001\n",
    "\n",
    "#sorting ascending\n",
    "dict_list_term = OrderedDict(sorted(dict_list_term.items()))\n"
   ]
  },
  {
   "cell_type": "markdown",
   "execution_count": null,
   "metadata": {},
   "outputs": [],
   "source": [
    "### Tulis Hasil Preprocessing"
   ]
  },
  {
   "cell_type": "code",
   "execution_count": 19,
   "metadata": {},
   "outputs": [],
   "source": [
    "writeFile(dict_list_term2,\"hasil_inverted.txt\")\n",
    "writeFile(dict_list_term,\"hasil_inverted_no_doc.txt\")\n"
   ]
  },
  {
   "cell_type": "markdown",
   "execution_count": null,
   "metadata": {},
   "outputs": [],
   "source": [
    "# Lompatan kuery "
   ]
  },
  {
   "cell_type": "markdown",
   "execution_count": null,
   "metadata": {},
   "outputs": [],
   "source": [
    "##  Wild Card"
   ]
  },
  {
   "cell_type": "markdown",
   "execution_count": null,
   "metadata": {},
   "outputs": [],
   "source": [
    "### Bigram"
   ]
  },
  {
   "cell_type": "code",
   "execution_count": 20,
   "metadata": {},
   "outputs": [],
   "source": [
    "def generateBigram(_queri):\n",
    "    hasil = []\n",
    "    for i in range(len(_queri)-1):\n",
    "        if i == 0:\n",
    "            hasil.append('$'+_queri[i])\n",
    "        else:\n",
    "            hasil.append(_queri[i] + _queri[i+1])\n",
    "            \n",
    "    return hasil"
   ]
  },
  {
   "cell_type": "code",
   "execution_count": 21,
   "metadata": {},
   "outputs": [],
   "source": [
    "def wildCard(_queri):\n",
    "    queri = _queri.replace('*','')\n",
    "    bigram = generateBigram(queri)\n",
    "    \n",
    "    return bigram"
   ]
  },
  {
   "cell_type": "markdown",
   "execution_count": null,
   "metadata": {},
   "outputs": [],
   "source": [
    "## Koreksi Ejaan"
   ]
  },
  {
   "cell_type": "markdown",
   "execution_count": null,
   "metadata": {},
   "outputs": [],
   "source": [
    "### Kata Terisolasi"
   ]
  },
  {
   "cell_type": "code",
   "execution_count": 22,
   "metadata": {},
   "outputs": [],
   "source": [
    "#from nltk.corpus import words #kamus inggris\n",
    "from nltk.metrics import * #hitung jarak"
   ]
  },
  {
   "cell_type": "code",
   "execution_count": 23,
   "metadata": {},
   "outputs": [],
   "source": [
    "def spellingCorection(_word):\n",
    "    wordsSelected = identicalWord(_word)\n",
    "    \n",
    "    thresholdDistance = 3 #threshold\n",
    "    mostIdenticalWord = []\n",
    "    for i in wordsSelected: #check dengan levenshtaien\n",
    "        tempDistance = edit_distance(i, _word)\n",
    "        if tempDistance < thresholdDistance:\n",
    "            sortestDistance = tempDistance\n",
    "            mostIdenticalWord.append(i)\n",
    "            \n",
    "    return mostIdenticalWord"
   ]
  },
  {
   "cell_type": "code",
   "execution_count": 24,
   "metadata": {},
   "outputs": [],
   "source": [
    "def identicalWord(_word):\n",
    "    wordLenght = len(_word)\n",
    "    wordsSelected = [] #word yang selisih panjang = 0\n",
    "    \n",
    "#     listOfWord = getListOfWord('hasil_inverted.txt')\n",
    "    \n",
    "    for word in listOfWordOfInvIndex: #tadinya listOfWord (yg di atas)\n",
    "        if abs(len(word) - wordLenght) == 0 and word[0] == _word[0]: #panjangnya sama dan huruf depan sama\n",
    "            wordsSelected.append(word)\n",
    "            \n",
    "    return wordsSelected"
   ]
  },
  {
   "cell_type": "code",
   "execution_count": 25,
   "metadata": {},
   "outputs": [],
   "source": [
    "def getListOfWord(_path):\n",
    "    f = open(_path,\"r\")\n",
    "    words = f.read()\n",
    "    words = words.replace('\\t','')\n",
    "    listOfWord = words.split('\\n')\n",
    "    \n",
    "    return listOfWord"
   ]
  },
  {
   "cell_type": "markdown",
   "execution_count": null,
   "metadata": {},
   "outputs": [],
   "source": [
    "## Pre-Procesing Queri"
   ]
  },
  {
   "cell_type": "code",
   "execution_count": 26,
   "metadata": {},
   "outputs": [],
   "source": [
    "from nltk.stem import WordNetLemmatizer"
   ]
  },
  {
   "cell_type": "code",
   "execution_count": 27,
   "metadata": {},
   "outputs": [],
   "source": [
    "def caseFolding(listOfWords):\n",
    "    for i in range(len(listOfWords)):\n",
    "        if listOfWords[i] != 'OR' and listOfWords[i] != 'AND' and listOfWords[i] != 'NOT':\n",
    "            listOfWords[i] = listOfWords[i].casefold()\n",
    "        \n",
    "    return listOfWords"
   ]
  },
  {
   "cell_type": "code",
   "execution_count": 28,
   "metadata": {},
   "outputs": [],
   "source": [
    "lemmatizer = WordNetLemmatizer()\n",
    "\n",
    "def lemmatization(listOfWords):\n",
    "    for i in range(len(listOfWords)):\n",
    "        listOfWords[i] = lemmatizer.lemmatize(listOfWords[i])\n",
    "        \n",
    "    return listOfWords"
   ]
  },
  {
   "cell_type": "code",
   "execution_count": 29,
   "metadata": {},
   "outputs": [],
   "source": [
    "def tokenize(_queri):\n",
    "    listOfWord = _queri.split(' ')\n",
    "    \n",
    "    return listOfWord"
   ]
  },
  {
   "cell_type": "code",
   "execution_count": 30,
   "metadata": {},
   "outputs": [],
   "source": [
    "from nltk.stem.snowball import SnowballStemmer\n",
    "\n",
    "def stemming(listOfWords):\n",
    "    stemmer = SnowballStemmer(\"english\")\n",
    "#     stemmed = [stemmer.stem(word) for word in listOfWords]\n",
    "    for i in range(len(listOfWords)):\n",
    "        if listOfWords[i] != 'OR' and listOfWords[i] != 'AND' and listOfWords[i] != 'NOT':\n",
    "            listOfWords[i] = stemmer.stem(listOfWords[i])\n",
    "    \n",
    "    return listOfWords"
   ]
  },
  {
   "cell_type": "code",
   "execution_count": 31,
   "metadata": {},
   "outputs": [],
   "source": [
    "from nltk.corpus import stopwords\n",
    "\n",
    "stop_words = stopwords.words('english')\n",
    "\n",
    "def removeStopWord(listOfWords):\n",
    "    for i in listOfWords:\n",
    "        if i in stop_words:\n",
    "            listOfWords.remove(i)\n",
    "        \n",
    "    return listOfWords"
   ]
  },
  {
   "cell_type": "code",
   "execution_count": 32,
   "metadata": {},
   "outputs": [],
   "source": [
    "def preProcessingQuery(_query):\n",
    "    listOfWords = tokenize(_query)\n",
    "#     print('token : ',listOfWords)\n",
    "    listOfWords = caseFolding(listOfWords)\n",
    "#     print('case : ',listOfWords)\n",
    "    listOfWords = removeStopWord(listOfWords)\n",
    "#     print('remove : ',listOfWords)\n",
    "    listOfWords = stemming(listOfWords)\n",
    "#     print('stem : ',listOfWords)\n",
    "    listOfWords = lemmatization(listOfWords)\n",
    "#     print('lemma : ',listOfWords)\n",
    "    \n",
    "    return listOfWords"
   ]
  },
  {
   "cell_type": "markdown",
   "execution_count": null,
   "metadata": {},
   "outputs": [],
   "source": [
    "# Koreksi kuery Main"
   ]
  },
  {
   "cell_type": "code",
   "execution_count": 33,
   "metadata": {},
   "outputs": [],
   "source": [
    "def findBoolean(_listOfWord, _bool):\n",
    "    boolIndex = []\n",
    "#     listOfWord = _query.split(' ')\n",
    "    for i in range(len(_listOfWord)):\n",
    "        if _listOfWord[i] == _bool:\n",
    "            boolIndex.append(i)\n",
    "            \n",
    "    return boolIndex"
   ]
  },
  {
   "cell_type": "code",
   "execution_count": 34,
   "metadata": {},
   "outputs": [],
   "source": [
    "def isWordInTerm(_listOfWord):\n",
    "    newListOfWord = []\n",
    "    temp = ''\n",
    "    for i in _listOfWord:\n",
    "        if i != 'OR' and i != 'AND' and i != 'NOT':\n",
    "            if i not in listOfWordOfInvIndex:\n",
    "#                 print(i)\n",
    "                try:\n",
    "                    temp = spellingCorection(i)[0]\n",
    "                    newListOfWord.append(temp)\n",
    "                except:\n",
    "                    print(\"No '\",i,\"' in Term\")\n",
    "                    newListOfWord.append(temp)\n",
    "            else:\n",
    "                newListOfWord.append(i)\n",
    "        else:\n",
    "            newListOfWord.append(i)\n",
    "                \n",
    "    return newListOfWord"
   ]
  },
  {
   "cell_type": "code",
   "execution_count": 35,
   "metadata": {},
   "outputs": [],
   "source": [
    "def queryProcessing(_query):\n",
    "    andWord = []\n",
    "    orWord = []\n",
    "    notWord = []\n",
    "    \n",
    "    tempListOfWord = preProcessingQuery(_query) #pre processing query\n",
    "#     print('pre : ', tempListOfWord)\n",
    "    tempListOfWord = isWordInTerm(tempListOfWord) #koreksi query \n",
    "#     print('isword : ', tempListOfWord)\n",
    "    listOfWord = []\n",
    "    listOfWord = [tempListOfWord[0]]\n",
    "    \n",
    "    for i in range(1,len(tempListOfWord)): #mengubah NOT menjadi ~\n",
    "        if tempListOfWord[i] == 'NOT':\n",
    "            listOfWord.append('~' + tempListOfWord[i+1])\n",
    "        elif tempListOfWord[i-1] != 'AND' and tempListOfWord[i] != 'AND' and tempListOfWord[i-1] != 'NOT':\n",
    "            listOfWord.append('OR')\n",
    "            listOfWord.append(tempListOfWord[i])\n",
    "        elif tempListOfWord[i-1] != 'NOT':\n",
    "            listOfWord.append(tempListOfWord[i])\n",
    "        \n",
    "            \n",
    "    if '*' in _query:\n",
    "        query = wildCard(_query)\n",
    "    else:\n",
    "#         if 'AND' in _query:\n",
    "#             andIndex = findBoolean(listOfWord, 'AND')\n",
    "            \n",
    "#             for i in andIndex:\n",
    "#                 andWord.append(listOfWord[i-1])\n",
    "#                 andWord.append(listOfWord[i+1])\n",
    "                    \n",
    "#         if 'NOT' in _query:\n",
    "#             for i in listOfWord:\n",
    "#                 if i[0] == '~':\n",
    "#                     notWord.append(i)\n",
    "                    \n",
    "        if 'AND' not in _query and 'OR' not in _query:\n",
    "            orWord = listOfWord\n",
    "#         elif 'OR' in _query:\n",
    "#             orIndex = findBoolean(listOfWord, 'OR')\n",
    "#             for i in orIndex:\n",
    "#                 orWord.append(listOfWord[i-1])\n",
    "#                 orWord.append(listOfWord[i+1])\n",
    "#         else:\n",
    "#             for i in range(0,len(listOfWord)-1):\n",
    "#                 if listOfWord[i+1] != 'AND' and listOfWord[i] != 'AND':\n",
    "#                     orWord.append(listOfWord[i])\n",
    "#                     orWord.append(listOfWord[i+1])\n",
    "                \n",
    "#         print('OR : ',orWord)\n",
    "#         print('AND : ',andWord)\n",
    "#         print('NOT : ',notWord)\n",
    "    return listOfWord "
   ]
  },
  {
   "cell_type": "code",
   "execution_count": 36,
   "metadata": {},
   "outputs": [
    {
     "data": {
      "text/plain": "['manag', 'OR', 'minim', 'AND', 'manag']"
     },
     "execution_count": 36,
     "metadata": {},
     "output_type": "execute_result"
    }
   ],
   "source": [
    "listOfWordOfInvIndex = getListOfWord('hasil_inverted.txt')\n",
    "queryProcessing('makan minum AND mandi')"
   ]
  },
  {
   "cell_type": "markdown",
   "execution_count": null,
   "metadata": {},
   "outputs": [],
   "source": [
    "# Lompatan Pointer"
   ]
  },
  {
   "cell_type": "code",
   "execution_count": 37,
   "metadata": {},
   "outputs": [],
   "source": [
    "# hanya untuk operator and\n",
    "def lompatan_pointer(docId_p1,docId_p2):\n",
    "    is_null_p1 = True\n",
    "    is_null_p2 = True\n",
    "    p1 = 0\n",
    "    p2 = 0\n",
    "    \n",
    "    answer = []\n",
    "    lompatan = 4\n",
    "\n",
    "# lompatan_pointer\n",
    "    while is_null_p1 and is_null_p2:\n",
    "        # jika salah satu list term kosong maka returnnya langsung kosong\n",
    "        if len(docId_p2)== 0 or len(docId_p1)== 0:\n",
    "            return answer\n",
    "        \n",
    "        if docId_p1[p1] == docId_p2[p2]:\n",
    "            answer.append(docId_p1[p1])\n",
    "            p1 = p1+1\n",
    "            p2 = p2+1 \n",
    "        elif docId_p1[p1] < docId_p2[p2]:\n",
    "            if (p1%lompatan) == 0 and docId_p1[p1+lompatan]<= docId_p2[p2]:\n",
    "                while (p1%lompatan) == 0 and docId_p1[p1+lompatan] <= docId_p2[p2]:\n",
    "                    p1 = p1 + lompatan\n",
    "                    if (len(docId_p1)-lompatan) <= p1:\n",
    "                        is_null_p1 = False\n",
    "                        break\n",
    "            else:\n",
    "                p1 = p1 + 1\n",
    "                \n",
    "        elif (p2%lompatan) == 0 and docId_p2[p2+lompatan]<= docId_p1[p1]:\n",
    "            while (p2%lompatan) == 0 and docId_p2[p2+lompatan] <= docId_p1[p1]:\n",
    "                p2 = p2 + lompatan\n",
    "                if (len(docId_p2)-lompatan) <= p2:\n",
    "                    is_null_p2 = False\n",
    "                    break\n",
    "        else:\n",
    "            p2 = p2 + 1\n",
    "        \n",
    "        if (len(docId_p1)-lompatan) <= p1:\n",
    "            is_null_p1 = False\n",
    "            \n",
    "        if (len(docId_p2)-lompatan) <= p2:\n",
    "            is_null_p2 = False\n",
    "        \n",
    "    return answer"
   ]
  },
  {
   "cell_type": "code",
   "execution_count": 38,
   "metadata": {},
   "outputs": [],
   "source": [
    "# untuk operasi or \n",
    "def operasi_or(docId_p1,docId_p2):\n",
    "    hasil = docId_p1+docId_p2\n",
    "    return hasil\n"
   ]
  },
  {
   "cell_type": "markdown",
   "execution_count": null,
   "metadata": {},
   "outputs": [],
   "source": [
    "## Membuat list untuk semua nomor dokumen"
   ]
  },
  {
   "cell_type": "code",
   "execution_count": 39,
   "metadata": {},
   "outputs": [],
   "source": [
    "list_all_doc_no = []\n",
    "for i in range(1,501):\n",
    "    pjg_digit = 4 - len(str(i))\n",
    "    temp_str = ('0' * pjg_digit) + str(i)\n",
    "    list_all_doc_no.append(temp_str)\n",
    "# list_all_doc_no"
   ]
  },
  {
   "cell_type": "markdown",
   "execution_count": null,
   "metadata": {},
   "outputs": [],
   "source": [
    "### Mengambil dokumen id untuk sebuah term"
   ]
  },
  {
   "cell_type": "code",
   "execution_count": 40,
   "metadata": {},
   "outputs": [],
   "source": [
    "def get_doc_id(t):\n",
    "    docId_p = []\n",
    "    if t in dict_list_term: #jika term yang ingin di cari tidak ada pada dict_list_term\n",
    "        if t[0] == \"~\":\n",
    "            t = t.replace(\"~\", \"\")\n",
    "            temp_doc_id = dict_list_term[t] \n",
    "            docId_p = [ elem for elem in list_all_doc_no if elem not in temp_doc_id]\n",
    "        else:\n",
    "            docId_p = dict_list_term[t]\n",
    "    \n",
    "    return docId_p"
   ]
  },
  {
   "cell_type": "code",
   "execution_count": 41,
   "metadata": {},
   "outputs": [],
   "source": [
    "def main2(t1_in,t2_in,oper, cari_term):\n",
    "    hasil = []\n",
    "    t1 = []\n",
    "    t2 = []\n",
    "    \n",
    "    if cari_term == True :\n",
    "        t1 = get_doc_id(t1_in)\n",
    "    else:\n",
    "        t1 = t1_in\n",
    "        \n",
    "    t2 = get_doc_id(t2_in)\n",
    "    \n",
    "    if oper == \"AND\":\n",
    "        hasil = lompatan_pointer(t1,t2)\n",
    "    elif oper == \"OR\":\n",
    "        hasil = operasi_or(t1,t2)\n",
    "    \n",
    "    return hasil"
   ]
  },
  {
   "cell_type": "code",
   "execution_count": 42,
   "metadata": {},
   "outputs": [],
   "source": [
    "def main3(case):\n",
    "    operator = case[1:len(case):2]\n",
    "    term = case[0:len(case):2]\n",
    "\n",
    "    hasil = main2(term[0],term[1],operator[0],True)\n",
    "\n",
    "\n",
    "    for i in range(1,len(operator)):\n",
    "        hasil = main2(hasil, term[i+1], operator[i],False)\n",
    "        \n",
    "    return hasil"
   ]
  },
  {
   "cell_type": "code",
   "execution_count": 43,
   "metadata": {},
   "outputs": [],
   "source": [
    "# main3(case3)"
   ]
  },
  {
   "cell_type": "markdown",
   "execution_count": null,
   "metadata": {},
   "outputs": [],
   "source": [
    "# Main Lompatan Pointer "
   ]
  },
  {
   "cell_type": "code",
   "execution_count": 44,
   "metadata": {},
   "outputs": [],
   "source": [
    "def main(case):\n",
    "    # mencari posisi operator \"AND\" kemudian di selesaikan dulu baru digabungkan dengan semua operator \"OR\"\n",
    "    get_index = lambda x, xs: [i for (y, i) in zip(xs, range(len(xs))) if x == y]\n",
    "    and_index = get_index(\"AND\",case)\n",
    "    case_temp = case[:]\n",
    "    hasil = []\n",
    "    p2 = 0\n",
    "    p = 0\n",
    "    hasil_and = []\n",
    "    \n",
    "    if len(case) == 1:\n",
    "        if case[0] in dict_list_term:\n",
    "            hasil = dict_list_term[case[0]]\n",
    "            return hasil\n",
    "        else:\n",
    "            print(\"Key tidak terdapat dalam list term\")\n",
    "            return\n",
    "    \n",
    "    while(p < len(and_index)-1):\n",
    "        if (and_index[p+1] - and_index[p]) != 2:\n",
    "    #         temp1 = str(\"gabung: \" + str(and_index[p]-1) + \" dan \" + str(and_index[p]+1))\n",
    "            t1 = case[and_index[p]-1]\n",
    "            t2 = case[and_index[p]+1]\n",
    "            temp1 = main2(t1,t2,\"AND\",True)\n",
    "            hasil_and.append(temp1)\n",
    "            case_temp[and_index[p]-1] = p2\n",
    "            case_temp[and_index[p]] = p2\n",
    "            case_temp[and_index[p]+1] = p2\n",
    "            \n",
    "            p2 +=1\n",
    "            p = p+1\n",
    "            \n",
    "            \n",
    "            \n",
    "        else: \n",
    "            temp = []\n",
    "\n",
    "            while p < len(and_index)-1:\n",
    "                if (and_index[p+1] - and_index[p]) == 2:\n",
    "                    temp.append(and_index[p])\n",
    "                else:\n",
    "                    break\n",
    "                p = p + 1\n",
    "\n",
    "            if and_index[p] - and_index[p-1] == 2:\n",
    "                temp.append(and_index[p])\n",
    "                p += 1\n",
    "            list_and = case[temp[0]-1:temp[-1]+2]\n",
    "            \n",
    "            for i in range(temp[0]-1,temp[-1]+2):\n",
    "                case_temp[i] = p2\n",
    "            \n",
    "            temp_hasil = main3(list_and)\n",
    "            hasil_and.append(temp_hasil)\n",
    "            p2 +=1\n",
    "\n",
    "        # karena panjangnya cuma sampai n, sehingga untuk term yang operasi paling terakhir di lakukan setelah loop \n",
    "        if p == len(and_index)-1:\n",
    "#             temp1 = str(\"gabung: \" + str(and_index[p]-1) + \" dan \" + str(and_index[p]+1))\n",
    "            t1 = case[and_index[p]-1]\n",
    "            t2 = case[and_index[p]+1]\n",
    "            temp1 = main2(t1,t2,\"AND\",True)\n",
    "            hasil_and.append(temp1)\n",
    "            case_temp[and_index[p]-1] = p2\n",
    "            case_temp[and_index[p]] = p2\n",
    "            case_temp[and_index[p]+1] = p2\n",
    "            p2 +=1\n",
    "            p = p+1\n",
    "    \n",
    "    #-----------------------------------=---------------------------\n",
    "    #gabung dengan or\n",
    "    \n",
    "    get_index = lambda x, xs: [i for (y, i) in zip(xs, range(len(xs))) if x == y]\n",
    "    or_index = get_index(\"OR\",case_temp)\n",
    "    \n",
    "    for i in range(len(or_index)):\n",
    "        t1 = []\n",
    "        t2 = []\n",
    "        if isinstance(case_temp[or_index[i]-1], int):\n",
    "            t1 = hasil_and[case_temp[or_index[i]-1]]\n",
    "        else:\n",
    "            t1 = get_doc_id(case_temp[or_index[i]-1])\n",
    "        \n",
    "        if isinstance(case_temp[or_index[i]+1], int):\n",
    "            t2 = hasil_and[case_temp[or_index[i]+1]]\n",
    "        else:\n",
    "            t2 = get_doc_id(case_temp[or_index[i]+1])\n",
    "            \n",
    "        hasil_temp = t1 + t2\n",
    "        hasil +=hasil_temp\n",
    "        \n",
    "    return hasil"
   ]
  },
  {
   "cell_type": "code",
   "execution_count": null,
   "metadata": {},
   "outputs": [],
   "source": []
  },
  {
   "cell_type": "markdown",
   "execution_count": null,
   "metadata": {},
   "outputs": [],
   "source": [
    "## Contoh Kasus"
   ]
  },
  {
   "cell_type": "code",
   "execution_count": 45,
   "metadata": {},
   "outputs": [],
   "source": [
    "case2 = [\"buyback\", \"OR\", \"chris\", \"AND\", \"get\"]\n",
    "case1 = [\"concern\", \"OR\", \"~be\", \"AND\", \"~chris\", \"OR\", \"buyback\", \"AND\", \"china\"]\n",
    "case3 = [\"concern\", \"OR\", \"~be\", \"AND\", \"~buyback\", \"OR\", \"china\", \"AND\", \"concern\", \"AND\", \"a\"]\n",
    "case4 = 'buyback chris AND get'"
   ]
  },
  {
   "cell_type": "code",
   "execution_count": 46,
   "metadata": {},
   "outputs": [],
   "source": [
    "import PySimpleGUI as sg\n",
    "sg.ChangeLookAndFeel('Dark')\n",
    "\n",
    "layout = [\n",
    "    [sg.Text('Kueri'),sg.Input('', key='search_kueri'), sg.Button('Cari')],\n",
    "    [sg.Output(size=(100, 30))]\n",
    "]\n",
    "\n",
    "window = sg.Window('Search Engine', layout)"
   ]
  },
  {
   "cell_type": "code",
   "execution_count": 47,
   "metadata": {},
   "outputs": [],
   "source": [
    "def get_atribut(doc_id):\n",
    "    file_path = \"DataRouter\\\\Doc\" + str(doc_id) + \".txt\"\n",
    "    \n",
    "    txt = readText(file_path)\n",
    "    \n",
    "    titlePattern = \"<TITLE>(.+)</TITLE>\"\n",
    "    title = re.findall(titlePattern, txt)[0]\n",
    "    \n",
    "    datePattern = \"<DATE>(.+)</DATE>\"\n",
    "    date = re.findall(datePattern, txt)[0]\n",
    "    \n",
    "    return title, date"
   ]
  },
  {
   "cell_type": "markdown",
   "execution_count": null,
   "metadata": {},
   "outputs": [],
   "source": [
    "# Main "
   ]
  },
  {
   "cell_type": "code",
   "execution_count": 48,
   "metadata": {},
   "outputs": [
    {
     "ename": "TypeError",
     "evalue": "'NoneType' object is not iterable",
     "output_type": "error",
     "traceback": [
      "\u001b[1;31m---------------------------------------------------------------------------\u001b[0m",
      "\u001b[1;31mTypeError\u001b[0m                                 Traceback (most recent call last)",
      "\u001b[1;32m<ipython-input-48-c2c0134a5ef6>\u001b[0m in \u001b[0;36m<module>\u001b[1;34m\u001b[0m\n\u001b[0;32m      8\u001b[0m         \u001b[0mhasil\u001b[0m \u001b[1;33m=\u001b[0m \u001b[0mmain\u001b[0m\u001b[1;33m(\u001b[0m\u001b[0mquery\u001b[0m\u001b[1;33m)\u001b[0m\u001b[1;33m\u001b[0m\u001b[1;33m\u001b[0m\u001b[0m\n\u001b[0;32m      9\u001b[0m         \u001b[1;31m# hasil = list(dict.fromkeys(hasil))\u001b[0m\u001b[1;33m\u001b[0m\u001b[1;33m\u001b[0m\u001b[1;33m\u001b[0m\u001b[0m\n\u001b[1;32m---> 10\u001b[1;33m         \u001b[1;32mfor\u001b[0m \u001b[0mi\u001b[0m \u001b[1;32min\u001b[0m \u001b[0mhasil\u001b[0m\u001b[1;33m:\u001b[0m\u001b[1;33m\u001b[0m\u001b[1;33m\u001b[0m\u001b[0m\n\u001b[0m\u001b[0;32m     11\u001b[0m             \u001b[0mtitle\u001b[0m\u001b[1;33m,\u001b[0m \u001b[0mdate\u001b[0m \u001b[1;33m=\u001b[0m \u001b[0mget_atribut\u001b[0m\u001b[1;33m(\u001b[0m\u001b[0mi\u001b[0m\u001b[1;33m)\u001b[0m\u001b[1;33m\u001b[0m\u001b[1;33m\u001b[0m\u001b[0m\n\u001b[0;32m     12\u001b[0m             \u001b[0mprint\u001b[0m\u001b[1;33m(\u001b[0m\u001b[0mtitle\u001b[0m\u001b[1;33m,\u001b[0m\u001b[1;34m'('\u001b[0m\u001b[1;33m,\u001b[0m\u001b[0mdate\u001b[0m\u001b[1;33m,\u001b[0m\u001b[1;34m')'\u001b[0m\u001b[1;33m)\u001b[0m\u001b[1;33m\u001b[0m\u001b[1;33m\u001b[0m\u001b[0m\n",
      "\u001b[1;31mTypeError\u001b[0m: 'NoneType' object is not iterable"
     ]
    }
   ],
   "source": [
    "# main(case3)\n",
    "while True:\n",
    "    event, values = window.read()\n",
    "    if event in ('Exit', None): break\n",
    "    if event == 'Cari':\n",
    "        a = values['search_kueri']\n",
    "        query = queryProcessing(a)\n",
    "        hasil = main(query)\n",
    "        # hasil = list(dict.fromkeys(hasil))   \n",
    "        for i in hasil:\n",
    "            title, date = get_atribut(i)\n",
    "            print(title,'(',date,')')\n",
    "    print('=======================================================================================')  \n",
    "\n",
    "window.close() \n"
   ]
  }
 ],
 "metadata": {
  "kernelspec": {
   "display_name": "Python 3",
   "language": "python",
   "name": "python3"
  },
  "language_info": {
   "codemirror_mode": {
    "name": "ipython",
    "version": 3
   },
   "file_extension": ".py",
   "mimetype": "text/x-python",
   "name": "python",
   "nbconvert_exporter": "python",
   "pygments_lexer": "ipython3",
   "version": "3.7.2-final"
  }
 },
 "nbformat": 4,
 "nbformat_minor": 2
}