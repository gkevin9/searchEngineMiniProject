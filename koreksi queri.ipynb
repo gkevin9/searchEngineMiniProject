{
 "cells": [
  {
   "cell_type": "markdown",
   "metadata": {},
   "source": [
    "<h1>Wild Card</h1>"
   ]
  },
  {
   "cell_type": "markdown",
   "metadata": {},
   "source": [
    "<h5>Bigram</h5>"
   ]
  },
  {
   "cell_type": "code",
   "execution_count": null,
   "metadata": {},
   "outputs": [],
   "source": [
    "def generateBigram(_queri):\n",
    "    hasil = []\n",
    "    for i in range(len(_queri)-1):\n",
    "        if i == 0:\n",
    "            hasil.append('$'+_queri[i])\n",
    "        else:\n",
    "            hasil.append(_queri[i] + _queri[i+1])\n",
    "            \n",
    "    return hasil"
   ]
  },
  {
   "cell_type": "code",
   "execution_count": null,
   "metadata": {},
   "outputs": [],
   "source": [
    "def wildCard(_queri):\n",
    "    queri = _queri.replace('*','')\n",
    "    bigram = generateBigram(queri)\n",
    "    \n",
    "    return bigram"
   ]
  },
  {
   "cell_type": "markdown",
   "metadata": {},
   "source": [
    "<h1>Koreksi Ejaan</h1>"
   ]
  },
  {
   "cell_type": "markdown",
   "metadata": {},
   "source": [
    "<h5>Kata Terisolasi</h5>"
   ]
  },
  {
   "cell_type": "code",
   "execution_count": 1,
   "metadata": {},
   "outputs": [],
   "source": [
    "from nltk.corpus import words #kamus inggris\n",
    "from nltk.metrics import * #hitung jarak"
   ]
  },
  {
   "cell_type": "code",
   "execution_count": 9,
   "metadata": {},
   "outputs": [],
   "source": [
    "def spellingCorection(_word):\n",
    "    wordsSelected = identicalWord(_word)\n",
    "    \n",
    "    thresholdDistance = 3 #threshold\n",
    "    mostIdenticalWord = []\n",
    "    for i in wordsSelected: #check dengan levenshtaien\n",
    "        tempDistance = edit_distance(i, _word)\n",
    "        if tempDistance < thresholdDistance:\n",
    "            sortestDistance = tempDistance\n",
    "            mostIdenticalWord.append(i)\n",
    "            \n",
    "    return mostIdenticalWord"
   ]
  },
  {
   "cell_type": "code",
   "execution_count": 10,
   "metadata": {},
   "outputs": [],
   "source": [
    "def identicalWord(_word):\n",
    "    wordLenght = len(_word)\n",
    "    wordsSelected = [] #word yang selisih panjang = 0\n",
    "    \n",
    "    for word in words.words():\n",
    "        if abs(len(word) - wordLenght) == 0 and word[0] == _word[0]: #panjangnya sama dan huruf depan sama\n",
    "            wordsSelected.append(word)\n",
    "            \n",
    "    return wordsSelected"
   ]
  },
  {
   "cell_type": "code",
   "execution_count": 11,
   "metadata": {},
   "outputs": [
    {
     "name": "stdout",
     "output_type": "stream",
     "text": [
      "['health', 'hearth', 'height']\n"
     ]
    }
   ],
   "source": [
    "a = spellingCorection('heigth')\n",
    "print(a)"
   ]
  },
  {
   "cell_type": "markdown",
   "metadata": {},
   "source": [
    "<h1>Sounddex</h1>"
   ]
  },
  {
   "cell_type": "code",
   "execution_count": null,
   "metadata": {},
   "outputs": [],
   "source": [
    "def makeSounddex(_listOfTerm):\n",
    "    "
   ]
  }
 ],
 "metadata": {
  "kernelspec": {
   "display_name": "Python 3",
   "language": "python",
   "name": "python3"
  },
  "language_info": {
   "codemirror_mode": {
    "name": "ipython",
    "version": 3
   },
   "file_extension": ".py",
   "mimetype": "text/x-python",
   "name": "python",
   "nbconvert_exporter": "python",
   "pygments_lexer": "ipython3",
   "version": "3.7.3"
  }
 },
 "nbformat": 4,
 "nbformat_minor": 2
}
